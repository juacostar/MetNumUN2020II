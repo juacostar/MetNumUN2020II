{
  "nbformat": 4,
  "nbformat_minor": 0,
  "metadata": {
    "colab": {
      "name": "21BlackjackGrClass1StGrooup5.ipynb",
      "provenance": [],
      "collapsed_sections": [],
      "include_colab_link": true
    },
    "kernelspec": {
      "name": "python3",
      "display_name": "Python 3"
    }
  },
  "cells": [
    {
      "cell_type": "markdown",
      "metadata": {
        "id": "view-in-github",
        "colab_type": "text"
      },
      "source": [
        "<a href=\"https://colab.research.google.com/github/juacostar/MetNumUN2020II/blob/master/Laboratorio%204/21BlackjackGrClass1StGrooup5.ipynb\" target=\"_parent\"><img src=\"https://colab.research.google.com/assets/colab-badge.svg\" alt=\"Open In Colab\"/></a>"
      ]
    },
    {
      "cell_type": "markdown",
      "metadata": {
        "id": "o9Guq_6yFWTk"
      },
      "source": [
        "## **Laboratorio 4. Métodos Numéricos. Grupo 5.**\n",
        "\n",
        "Nombres:\n",
        "* Juan Camilo Acosta Rojas.\n",
        "* Simón Aparicio Bocanegra.\n",
        "* Javier Alejandro Ortiz Silva."
      ]
    },
    {
      "cell_type": "code",
      "metadata": {
        "id": "KIFveHb7FwVG"
      },
      "source": [
        "import numpy as np\n",
        "import random\n",
        "import matplotlib.pyplot as plt"
      ],
      "execution_count": 10,
      "outputs": []
    },
    {
      "cell_type": "code",
      "metadata": {
        "id": "Nss-NGd3Fqyn"
      },
      "source": [
        "import warnings\n",
        "warnings.filterwarnings(\"ignore\")"
      ],
      "execution_count": 11,
      "outputs": []
    },
    {
      "cell_type": "code",
      "metadata": {
        "id": "-NEaNjiAVMzI"
      },
      "source": [
        "#Declaración de las distintas barajas y creación de la lista que las contiene a todas.\n",
        "baraja = [1,2,3,4,5,6,7,8,9,10,11,12]*4\n",
        "barajaplus = [1,2,3,4,5,6,7,8,9,10,10,10]*4\n",
        "poker = [1,2,3,4,5,6,7,8,9,10,11,12,13]*4\n",
        "pokerplus = [1,2,3,4,5,6,7,8,9,10,10,10,10]*4\n",
        "\n",
        "gamenames = ['Baraja española', 'Poker 13', 'Baraja española 10', 'Poker 10']\n",
        "games = [baraja,poker,barajaplus,pokerplus]"
      ],
      "execution_count": 12,
      "outputs": []
    },
    {
      "cell_type": "code",
      "metadata": {
        "id": "HJ07Q5GTVPMr",
        "outputId": "62317eb9-5325-4b11-b90c-a3424777c3cb",
        "colab": {
          "base_uri": "https://localhost:8080/",
          "height": 289
        }
      },
      "source": [
        "#Este código simplificado permite hallar una probabilidad mas cercana al poderse correr un mayor número de veces\n",
        "n = 10000000\n",
        "\n",
        "for g in range(4): #Iteración sobre los 4 tipos de barajas\n",
        "\n",
        "    ncards = 0 #Suma de todos los números de cartas necesarias para todos los blackjacks \n",
        "    blackjacks = 0 #Número de blackjacks obtenidos \n",
        "\n",
        "    for i in range(n): #Iteración n veces\n",
        "\n",
        "        poker_i = games[g].copy() #Reinicio de la baraja\n",
        "        player = [] #Reinicio de la baraja del jugador\n",
        "\n",
        "        while sum(player) < 21: #Condición si estamos por debajo de 21\n",
        "            card = random.choice(poker_i) #Se escoge una caja al azar de la baraja\n",
        "            player.append(card) #Se guarda en la baraja del jugador\n",
        "            poker_i.remove(card) #Se elimina de la baraja\n",
        "\n",
        "        if(sum(player)==21): #Si se logra blackjack\n",
        "            blackjacks += 1 #Se suma 1 al número de blackjacks obtenidos\n",
        "            ncards += len(player) #Se suma la longitud de la baraja del jugador al número que lleva la suma total\n",
        "\n",
        "\n",
        "    print(gamenames[g]) #Se imprime el nombre de la baraja\n",
        "    \n",
        "    print('Probabilidad de lograr Blackjack\\t', blackjacks/n, '\\nNúmero de cartas promedio:\\t\\t', ncards/blackjacks,'\\n') #Se imprimen los resultados\n"
      ],
      "execution_count": 13,
      "outputs": [
        {
          "output_type": "stream",
          "text": [
            "Baraja española\n",
            "Probabilidad de lograr Blackjack\t 0.1575586 \n",
            "Número de cartas promedio:\t\t 3.415918267869859 \n",
            "\n",
            "Poker 13\n",
            "Probabilidad de lograr Blackjack\t 0.144619 \n",
            "Número de cartas promedio:\t\t 3.213644126981932 \n",
            "\n",
            "Baraja española 10\n",
            "Probabilidad de lograr Blackjack\t 0.1496915 \n",
            "Número de cartas promedio:\t\t 3.6983810035973987 \n",
            "\n",
            "Poker 10\n",
            "Probabilidad de lograr Blackjack\t 0.140164 \n",
            "Número de cartas promedio:\t\t 3.5773058702662595 \n",
            "\n"
          ],
          "name": "stdout"
        }
      ]
    },
    {
      "cell_type": "markdown",
      "metadata": {
        "id": "GB7bqkNjF2ou"
      },
      "source": [
        "1. Calculate the probability of getting a 21 drawing cards sequentially from shuffled Spanish 48-deck with card values **[1,2,3,4,5,6,7,10,11,12,1,2,3,4,5,6,7,8,9,10,11,12,1,2,3,4,5,6,7,8,9,10,11,12,1,2,3,4,5,6,7,8,9,10,11,12]** and from a shuffled Poker 52-card with card values **[1,2,3,4,5,6,7,8,9,10,11,12,13,1,2,3,4,5,6,7,8,9,10,11,12,13,1,2,3,4,5,6,7,8,9,10,11,12,13,1,2,3,4,5,6,7,8,9,10,11,12,13]**. Plot the experimental distribution of the numbers of card requires to complete 21 in 10000 trials."
      ]
    },
    {
      "cell_type": "code",
      "metadata": {
        "id": "nsnklg3POMr1",
        "outputId": "fa71d4fb-f6e4-4330-cf23-629e31cb8486",
        "colab": {
          "base_uri": "https://localhost:8080/",
          "height": 679
        }
      },
      "source": [
        "n = 10000000 #Número de iteraciónes\n",
        "\n",
        "for g in range(2): #Iteración sobre los dos primeros tipos de barajas\n",
        "\n",
        "    ncards = 0 #Número de carastas necesarias para lograr blackjack\n",
        "    blackjacks = 0 #Número de blackjacks\n",
        "    nhcards = np.zeros(10) #Arreglo que almacena los datos para el histograma. Cada posición representa un número de cartas\n",
        "\n",
        "    for i in range(n): #Iteración de n veces\n",
        "\n",
        "        poker_i = games[g].copy() #Reincio de la baraja\n",
        "        player = [] #Reinicio de la baraja del jugador\n",
        "\n",
        "        while sum(player) < 21: #Condicion si estamos por debajo de 21\n",
        "            card = random.choice(poker_i) #Se escoge una carta de la baraja al azar\n",
        "            player.append(card) #Se agrega la tarjeta a la baraja del jugador\n",
        "            poker_i.remove(card) #Se remueve la carta de la baraja\n",
        "\n",
        "        if(sum(player)==21): #Si se logra blackjack\n",
        "            blackjacks += 1 #Se suma 1 al número de blackjacks obtenidos\n",
        "            ncards += len(player) #Se suma el número de cartas que fueron necesarias\n",
        "            if (len(player) < 10):\n",
        "                nhcards[(len(player)-2)] += 1  #Se agrega el número al arreglo del histograma \n",
        "\n",
        "    print(gamenames[g]) #Nombre de la baraja\n",
        "\n",
        "    plt.hist(list(map(str,range(2,12))), bins=list(map(str,range(2,13))), align='left', color='lightgreen', weights=(nhcards/blackjacks)) #Histograma\n",
        "    plt.xlabel('Número de cartas para obtener Blackjack')\n",
        "    plt.ylabel('Porcentaje')\n",
        "    plt.show();\n",
        "    \n",
        "    print('Probabilidad de lograr Blackjack\\t', blackjacks/n, '\\nNúmero de cartas promedio:\\t\\t', ncards/blackjacks,'\\n') #Datos obtenidos\n",
        "\n"
      ],
      "execution_count": 14,
      "outputs": [
        {
          "output_type": "stream",
          "text": [
            "Baraja española\n"
          ],
          "name": "stdout"
        },
        {
          "output_type": "display_data",
          "data": {
            "image/png": "[encoded data removed]",
            "text/plain": [
              "<Figure size 432x288 with 1 Axes>"
            ]
          },
          "metadata": {
            "tags": [],
            "needs_background": "light"
          }
        },
        {
          "output_type": "stream",
          "text": [
            "Probabilidad de lograr Blackjack\t 0.157628 \n",
            "Número de cartas promedio:\t\t 3.4145234349227294 \n",
            "\n",
            "Poker 13\n"
          ],
          "name": "stdout"
        },
        {
          "output_type": "display_data",
          "data": {
            "image/png": "[encoded data removed]",
            "text/plain": [
              "<Figure size 432x288 with 1 Axes>"
            ]
          },
          "metadata": {
            "tags": [],
            "needs_background": "light"
          }
        },
        {
          "output_type": "stream",
          "text": [
            "Probabilidad de lograr Blackjack\t 0.1444809 \n",
            "Número de cartas promedio:\t\t 3.214374356748885 \n",
            "\n"
          ],
          "name": "stdout"
        }
      ]
    },
    {
      "cell_type": "markdown",
      "metadata": {
        "id": "cSLjHI9HF9BT"
      },
      "source": [
        "2. Calculate the probability of getting a 21 drawing cards sequentially from shuffled Spanish 48-deck with card values are **[1,2,3,4,5,6,7,8,9,,10,10,10,1,2,3,4,5,6,7,8,9,10,10,10,1,2,3,4,5,6,7,8,9,10,10,10,1,2,3,4,5,6,7,8,9,10,10,10]** and **[1,2,3,4,5,6,7,8,9,10,10,10,10,1,2,3,4,5,6,7,8,9,10,10,10,10,1,2,3,4,5,6,7,8,9,10,10,10,10,1,2,3,4,5,6,7,8,9,10,10,10,10]** for the Spanish and Poker card decks. Plot the experimental distribution of the numbers of card requires to complete 21 in 10000 simulations."
      ]
    },
    {
      "cell_type": "code",
      "metadata": {
        "id": "orm1ZR2AGQ-H",
        "outputId": "5fb40d4b-4c38-44f6-92d5-f2091fd068c5",
        "colab": {
          "base_uri": "https://localhost:8080/",
          "height": 682
        }
      },
      "source": [
        "n = 10000000\n",
        "\n",
        "for g in range(2,4):\n",
        "\n",
        "    ncards = 0\n",
        "    blackjacks = 0\n",
        "    nhcards = np.zeros(10)\n",
        "\n",
        "    for i in range(n):\n",
        "\n",
        "        poker_i = games[g].copy()\n",
        "        player = []\n",
        "\n",
        "        while sum(player) < 21:\n",
        "            card = random.choice(poker_i)\n",
        "            player.append(card)\n",
        "            poker_i.remove(card)\n",
        "\n",
        "        if(sum(player)==21):\n",
        "            blackjacks += 1\n",
        "            ncards += len(player)\n",
        "            if (len(player) < 10):\n",
        "                nhcards[(len(player)-2)] += 1      \n",
        "\n",
        "    print(gamenames[g])\n",
        "\n",
        "    plt.hist(list(map(str,range(2,12))), bins=list(map(str,range(2,13))), align='left', color='lightblue', weights=(nhcards/blackjacks))\n",
        "    plt.xlabel('Número de cartas para obtener Blackjack')\n",
        "    plt.ylabel('Porcentaje')\n",
        "    plt.show();\n",
        "    \n",
        "    print('Probabilidad de lograr Blackjack\\t', blackjacks/n, '\\nNúmero de cartas promedio:\\t\\t', ncards/blackjacks,'\\n')\n"
      ],
      "execution_count": 15,
      "outputs": [
        {
          "output_type": "stream",
          "text": [
            "Baraja española 10\n"
          ],
          "name": "stdout"
        },
        {
          "output_type": "display_data",
          "data": {
            "image/png": "[encoded data removed]",
            "text/plain": [
              "<Figure size 432x288 with 1 Axes>"
            ]
          },
          "metadata": {
            "tags": [],
            "needs_background": "light"
          }
        },
        {
          "output_type": "stream",
          "text": [
            "Probabilidad de lograr Blackjack\t 0.1495296 \n",
            "Número de cartas promedio:\t\t 3.6993792533384693 \n",
            "\n",
            "Poker 10\n"
          ],
          "name": "stdout"
        },
        {
          "output_type": "display_data",
          "data": {
            "image/png": "[encoded data removed]",
            "text/plain": [
              "<Figure size 432x288 with 1 Axes>"
            ]
          },
          "metadata": {
            "tags": [],
            "needs_background": "light"
          }
        },
        {
          "output_type": "stream",
          "text": [
            "Probabilidad de lograr Blackjack\t 0.1401378 \n",
            "Número de cartas promedio:\t\t 3.5774387781169676 \n",
            "\n"
          ],
          "name": "stdout"
        }
      ]
    },
    {
      "cell_type": "markdown",
      "metadata": {
        "id": "qQPhMzLFGMzY"
      },
      "source": [
        "3. Calculate the probability of getting a 21, with the Spanish and Poker card deck, assuming that you are in the middle of game and the remaining deck has *n/2* card and you have the cards **[7,7,5]**. You pick arbitrary what card are in the remaining deck with the only restriction that there are be maximum two 7s and three 5s). Plot the experimental distribution of the numbers of card requires to complete 21 in 10000 simulations."
      ]
    },
    {
      "cell_type": "code",
      "metadata": {
        "id": "Mqk8qMFUOktp",
        "outputId": "65acb648-0d7b-4ec3-83a3-1e17597bebaa",
        "colab": {
          "base_uri": "https://localhost:8080/",
          "height": 1000
        }
      },
      "source": [
        "n = 100000\n",
        "\n",
        "for g in range(4): #Iteración sobre los distintos sobre las distintas barajas\n",
        "\n",
        "    ncards = 0 #Número de caratas necesarias para lograr blackjack\n",
        "    blackjacks = 0 #Número de blackjacks\n",
        "    nhcards = np.zeros(6) #Arreglo para el histograma. Cada posición es un número de cartas distinto.\n",
        "\n",
        "    poker_0 = games[g].copy() #Copia de la baraja incial\n",
        "    poker_0.remove(7)\n",
        "    poker_0.remove(7)\n",
        "    poker_0.remove(5) #Eliminación de las cartas de la mano del jugador\n",
        "    poker_0 = random.sample(poker_0, k=(len(games[g])//2)) #Selección de una baraja de la mitad del tamaño original\n",
        "\n",
        "    print(gamenames[g]) #Nombre de la baraja\n",
        "    print('Baraja:',poker_0) #Baraja fija\n",
        "\n",
        "    teo_prob = poker_0.count(2)/len(poker_0) + poker_0.count(1)*(poker_0.count(1)-1)/(len(poker_0)*(len(poker_0)-1)) #Calculo de la probabilidad teorica contando el número de unos y doses.\n",
        "\n",
        "    for i in range(n):  #Iteración de n veces\n",
        "        poker_i = poker_0.copy() #Copia de la baraja para la iteración\n",
        "        player = [7,7,5] #Configuración de la mano del jugador\n",
        "\n",
        "        while sum(player) < 21: #Condición si estamos por debajo de 21\n",
        "            card = random.choice(poker_i) #Se elimina de la baraja\n",
        "            player.append(card) #se agrega a la baraja del jugador\n",
        "            poker_i.remove(card) #Se elimina de la baraja\n",
        "\n",
        "        if(sum(player)==21): #Si se logra blackjack\n",
        "            blackjacks += 1 #Se suma 1 al número de blackjacks obtenidos\n",
        "            ncards += len(player) #Se suḿa el número de cartas necesaris\n",
        "            if (len(player) < 8):\n",
        "                nhcards[(len(player)-2)] += 1 #SE grega el número de cartas al arreglo del histograma\n",
        "\n",
        "    plt.hist(list(map(str,range(2,8))), bins=list(map(str,range(2,9))), align='left', color='lightcoral', weights=(nhcards/blackjacks)) #Histograma\n",
        "    plt.xlabel('Número de cartas para obtener Blackjack')\n",
        "    plt.ylabel('Porcentaje')\n",
        "    plt.show();\n",
        "    \n",
        "    print('Probabilidad de lograr Blackjack\\t', blackjacks/n, '\\nNúmero de cartas promedio:\\t\\t', ncards/blackjacks) #Datos obtenidos\n",
        "    print('Probabilidad teórica:\\t\\t\\t',teo_prob,'\\n') #Probabilidad teorica"
      ],
      "execution_count": 16,
      "outputs": [
        {
          "output_type": "stream",
          "text": [
            "Baraja española\n",
            "Baraja: [11, 2, 6, 10, 7, 12, 4, 5, 10, 2, 4, 11, 8, 4, 9, 9, 1, 6, 1, 10, 9, 5, 10, 7]\n"
          ],
          "name": "stdout"
        },
        {
          "output_type": "display_data",
          "data": {
            "image/png": "[encoded data removed]",
            "text/plain": [
              "<Figure size 432x288 with 1 Axes>"
            ]
          },
          "metadata": {
            "tags": [],
            "needs_background": "light"
          }
        },
        {
          "output_type": "stream",
          "text": [
            "Probabilidad de lograr Blackjack\t 0.08609 \n",
            "Número de cartas promedio:\t\t 4.041932860959461\n",
            "Probabilidad teórica:\t\t\t 0.08695652173913043 \n",
            "\n",
            "Poker 13\n",
            "Baraja: [13, 9, 9, 13, 12, 10, 4, 12, 11, 1, 13, 1, 5, 10, 8, 10, 10, 9, 3, 1, 12, 9, 3, 11, 12, 5]\n"
          ],
          "name": "stdout"
        },
        {
          "output_type": "display_data",
          "data": {
            "image/png": "[encoded data removed]",
            "text/plain": [
              "<Figure size 432x288 with 1 Axes>"
            ]
          },
          "metadata": {
            "tags": [],
            "needs_background": "light"
          }
        },
        {
          "output_type": "stream",
          "text": [
            "Probabilidad de lograr Blackjack\t 0.00919 \n",
            "Número de cartas promedio:\t\t 5.0\n",
            "Probabilidad teórica:\t\t\t 0.009230769230769232 \n",
            "\n",
            "Baraja española 10\n",
            "Baraja: [2, 1, 10, 10, 10, 4, 10, 10, 6, 2, 3, 8, 10, 9, 10, 6, 6, 7, 9, 10, 10, 10, 1, 1]\n"
          ],
          "name": "stdout"
        },
        {
          "output_type": "display_data",
          "data": {
            "image/png": "[encoded data removed]",
            "text/plain": [
              "<Figure size 432x288 with 1 Axes>"
            ]
          },
          "metadata": {
            "tags": [],
            "needs_background": "light"
          }
        },
        {
          "output_type": "stream",
          "text": [
            "Probabilidad de lograr Blackjack\t 0.09316 \n",
            "Número de cartas promedio:\t\t 4.123872906826964\n",
            "Probabilidad teórica:\t\t\t 0.09420289855072464 \n",
            "\n",
            "Poker 10\n",
            "Baraja: [10, 1, 6, 10, 6, 3, 10, 10, 10, 3, 6, 3, 10, 2, 7, 4, 2, 4, 10, 9, 8, 10, 5, 10, 4, 9]\n"
          ],
          "name": "stdout"
        },
        {
          "output_type": "display_data",
          "data": {
            "image/png": "[encoded data removed]",
            "text/plain": [
              "<Figure size 432x288 with 1 Axes>"
            ]
          },
          "metadata": {
            "tags": [],
            "needs_background": "light"
          }
        },
        {
          "output_type": "stream",
          "text": [
            "Probabilidad de lograr Blackjack\t 0.07663 \n",
            "Número de cartas promedio:\t\t 4.0\n",
            "Probabilidad teórica:\t\t\t 0.07692307692307693 \n",
            "\n"
          ],
          "name": "stdout"
        }
      ]
    },
    {
      "cell_type": "markdown",
      "metadata": {
        "id": "VWJmCyYeGpHf"
      },
      "source": [
        "4. Find two remaining decks with 8 cards for a Spanish 48-card deck with 3 10’s and for a Poker 52-card deck with 4 10’s; one remaining deck with 8 cards that has the highest probability of getting 21 (hot deck) and the other remaining deck with 8 cards that has the lowest probability of getting 21(cold deck). Assuming that you have in your hand the cards **[7,7,5]**, calculate analytically the probabilities of getting a 21 for both the hot an cold deck, estimate this probabilities of getting a 21, the average total number of cards required to complete 21 (including the three that you start with) and plot the experimental distribution of the total number of card required to complete 21 (including the three that you start with) using Montecarlo with 10 millions simulations."
      ]
    },
    {
      "cell_type": "code",
      "metadata": {
        "id": "T92yoJfnbX-e",
        "outputId": "799aa7af-e846-4b50-b206-85291961c80b",
        "colab": {
          "base_uri": "https://localhost:8080/",
          "height": 713
        }
      },
      "source": [
        "n = 10000000 #Número de iteraciones\n",
        "\n",
        "#Declaración de las distinas barajas calientes y frias y una lista que las contiene a todas\n",
        "hotest_deck =  [1,1,1,1,2,2,2,2]\n",
        "coldest_deck = [10,10,10,10,8,8,9,9]\n",
        "\n",
        "decks = [hotest_deck,coldest_deck]\n",
        "deck_names = ['Hottest deck', 'Coldest deck']\n",
        "\n",
        "for d in range(2): #Iteración sobre las barajas caliente y fría\n",
        "    teo_prob = decks[d].count(2)/len(decks[d]) + decks[d].count(1)*(decks[d].count(1)-1)/(len(decks[d])*(len(decks[d])-1)) #Calculo de la probabilidad de la baraja específica\n",
        "\n",
        "    ncards = 0 #Número de cartas necesarias para lograr blackjack\n",
        "    blackjacks = 0 #Número de blackjacks obtenidos\n",
        "    nhcards = np.zeros(6) #Arrreglo para realizar los histogramas de las cartas necesarias para lograr blackjack\n",
        "\n",
        "    for i in range(n): #Iteración n veces\n",
        "        poker_i = decks[d].copy() #Reinicio de la baraja\n",
        "        player = [7,7,5] #Reinicio de la mano del jugador\n",
        "\n",
        "        while sum(player) < 21: #Condicion si es menor a 21\n",
        "            card = random.choice(poker_i) #Se escoge una carta al azar\n",
        "            player.append(card) #Se inserta en la baraja del jugador\n",
        "            poker_i.remove(card) #Se remueve de la baraja\n",
        "\n",
        "        if(sum(player)==21): #Condición si se logra blackjack\n",
        "            blackjacks += 1 #Se suma 1 a l número de blackjacks obtenidos\n",
        "            ncards += len(player) #Se suma el número de cartas al número de cartas necesarias para obtener blackjack\n",
        "            if (len(player) < 8): #Se agrega al arreglo del histograma el número de cartas del jugador\n",
        "                nhcards[(len(player)-2)] += 1\n",
        "\n",
        "    print(deck_names[d]) #Nombre de la baraja\n",
        "    \n",
        "    plt.hist(list(map(str,range(2,8))), bins=list(map(str,range(2,9))), align='left', color='lemonchiffon', weights=(nhcards/blackjacks)) #Histograma\n",
        "    plt.xlabel('Número de cartas para obtener Blackjack')\n",
        "    plt.ylabel('Porcentaje')\n",
        "    plt.show();\n",
        "    \n",
        "    print('Probabilidad de lograr Blackjack:\\t', blackjacks/n , '\\nNúmero de cartas promedio:\\t\\t', ncards/max(1,blackjacks))\n",
        "    print('Probabilidad teórica:\\t\\t\\t',teo_prob,'\\n')"
      ],
      "execution_count": 17,
      "outputs": [
        {
          "output_type": "stream",
          "text": [
            "Hottest deck\n"
          ],
          "name": "stdout"
        },
        {
          "output_type": "display_data",
          "data": {
            "image/png": "[encoded data removed]",
            "text/plain": [
              "<Figure size 432x288 with 1 Axes>"
            ]
          },
          "metadata": {
            "tags": [],
            "needs_background": "light"
          }
        },
        {
          "output_type": "stream",
          "text": [
            "Probabilidad de lograr Blackjack:\t 0.7144017 \n",
            "Número de cartas promedio:\t\t 4.299904381526527\n",
            "Probabilidad teórica:\t\t\t 0.7142857142857143 \n",
            "\n",
            "Coldest deck\n"
          ],
          "name": "stdout"
        },
        {
          "output_type": "display_data",
          "data": {
            "image/png": "[encoded data removed]",
            "text/plain": [
              "<Figure size 432x288 with 1 Axes>"
            ]
          },
          "metadata": {
            "tags": [],
            "needs_background": "light"
          }
        },
        {
          "output_type": "stream",
          "text": [
            "Probabilidad de lograr Blackjack:\t 0.0 \n",
            "Número de cartas promedio:\t\t 0.0\n",
            "Probabilidad teórica:\t\t\t 0.0 \n",
            "\n"
          ],
          "name": "stdout"
        }
      ]
    },
    {
      "cell_type": "markdown",
      "metadata": {
        "id": "EuoZeHVRGsOn"
      },
      "source": [
        "5. If Ben goes to Vegas every weekend (Friday, Saturday and Sunday), plays every weekend day 10 hours, each game takes 3 mins. He gets the cards **[7,7,5]** and a remaining hot deck with probability *1/10*, the cards in hot deck are the ones obtained in the previous quiz point 4. Asume that for cold decks the Ben has no cards and the remaining deck is the complete deck. He bets \\$1000 on hot decks and \\$10 on cold decks. What is the estimated amount of money that Ben wins or losses on a weekend estimated with 10 million simulations using both the Spanish and Poker card decks? Plot the experimental distribution of the numbers of card requires to complete 21 in 10000 simulations."
      ]
    },
    {
      "cell_type": "code",
      "metadata": {
        "id": "dLStiRuJbmiZ",
        "outputId": "071299f6-a277-407a-9571-018c0028efa6",
        "colab": {
          "base_uri": "https://localhost:8080/",
          "height": 1000
        }
      },
      "source": [
        "n = 600 #Número de juegos en un fin de semana\n",
        "m = 10000 #Número de fines de semana iterados\n",
        "\n",
        "#Declaración de las barajas calientes y una lista que las contiene\n",
        "hot_deck =  [1,1,1,1,2,2,2,2]\n",
        "\n",
        "for d in range(4): #Iteración sobre los tipos de barajas barajas\n",
        "\n",
        "    ncards = 0 #Número de cartas necesarias para lograr blackjack\n",
        "    blackjacks = 0 #Número de blackjacks obtenidos\n",
        "    nhcards = np.zeros(6) #Arreglo para el dibujo del histograma, cada posición guarda un número de cartas específico\n",
        "    nmoney = 0 #Dinero ganado\n",
        "\n",
        "    for j in range(m): #Iteración realizada 10000 veces\n",
        "\n",
        "        for i in range(n): #Iteración de los juegos de cada fin de semana\n",
        "\n",
        "            hot = random.random() < 0.1 #Hay o no baraja caliente con probabilidad del 10%\n",
        "            \n",
        "            if (hot): #Si la baraja está caliente\n",
        "                poker_i = hot_deck.copy() #La baraja del juego es una de las barajas calientes, se selecciona\n",
        "                bet = 1000 #La apuesta es de $1000\n",
        "                player = [7,7,5] #La mano del jugador es 7,7,5\n",
        "\n",
        "            else: #Si la baraja está fria\n",
        "                poker_i = games[d].copy() #La baraja inicia completa \n",
        "                bet = 10 #La apuesta es de $10\n",
        "                player = [] #La mano del jugador inicia vacía\n",
        "\n",
        "            while sum(player) < 21: #Si estamos en menos de 21\n",
        "                card = random.choice(poker_i) #Se escoge una carta de la baraja\n",
        "                player.append(card) #Se inserta en la baraja del jugador\n",
        "                poker_i.remove(card) #Se remueve de la baraja\n",
        "\n",
        "            if (sum(player)==21): #Si se logra blackjack\n",
        "                blackjacks += 1 #Se suma 1 al número de blackjacks obtenidos\n",
        "                ncards += len(player) #Se suma el número de cartas del jugador\n",
        "                if (len(player) < 8): #Se agrega el número de cartas del jugador al arreglo del histograma\n",
        "                    nhcards[(len(player)-2)] += 1\n",
        "                nmoney += bet #Al dinero total se le suma la apuesta\n",
        "            else: #No hay blackjacks, se pierde la apuesta\n",
        "                nmoney -= bet #Se resta al dinero el valor de la apuesta\n",
        "\n",
        "    print(gamenames[d],'con 8 cartas restantes') #Impresión del caso específico\n",
        "\n",
        "    plt.hist(list(map(str,range(2,8))), bins=list(map(str,range(2,9))), align='left', color='lightgreen', weights=(nhcards/blackjacks)) #Histograma\n",
        "    plt.xlabel('Número de cartas para obtener Blackjack')\n",
        "    plt.ylabel('Porcentaje')\n",
        "    plt.show();\n",
        "    \n",
        "    print('Probabilidad de lograr Blackjack:\\t', blackjacks/(n*m), '\\nNúmero de cartas promedio:\\t\\t', ncards/blackjacks) #Datos obtenidos\n",
        "    print('Dinero final neto:\\t\\t\\t',nmoney/m,'\\nGanancia promedio por juego:\\t\\t',nmoney/(n*m),'\\n')"
      ],
      "execution_count": 18,
      "outputs": [
        {
          "output_type": "stream",
          "text": [
            "Baraja española con 8 cartas restantes\n"
          ],
          "name": "stdout"
        },
        {
          "output_type": "display_data",
          "data": {
            "image/png": "[encoded data removed]",
            "text/plain": [
              "<Figure size 432x288 with 1 Axes>"
            ]
          },
          "metadata": {
            "tags": [],
            "needs_background": "light"
          }
        },
        {
          "output_type": "stream",
          "text": [
            "Probabilidad de lograr Blackjack:\t 0.21367383333333334 \n",
            "Número de cartas promedio:\t\t 3.7094294029139427\n",
            "Dinero final neto:\t\t\t 22049.755 \n",
            "Ganancia promedio por juego:\t\t 36.74959166666667 \n",
            "\n",
            "Poker 13 con 8 cartas restantes\n"
          ],
          "name": "stdout"
        },
        {
          "output_type": "display_data",
          "data": {
            "image/png": "[encoded data removed]",
            "text/plain": [
              "<Figure size 432x288 with 1 Axes>"
            ]
          },
          "metadata": {
            "tags": [],
            "needs_background": "light"
          }
        },
        {
          "output_type": "stream",
          "text": [
            "Probabilidad de lograr Blackjack:\t 0.2015555 \n",
            "Número de cartas promedio:\t\t 3.5999745314152514\n",
            "Dinero final neto:\t\t\t 21873.546 \n",
            "Ganancia promedio por juego:\t\t 36.45591 \n",
            "\n",
            "Baraja española 10 con 8 cartas restantes\n"
          ],
          "name": "stdout"
        },
        {
          "output_type": "display_data",
          "data": {
            "image/png": "[encoded data removed]",
            "text/plain": [
              "<Figure size 432x288 with 1 Axes>"
            ]
          },
          "metadata": {
            "tags": [],
            "needs_background": "light"
          }
        },
        {
          "output_type": "stream",
          "text": [
            "Probabilidad de lograr Blackjack:\t 0.20613366666666666 \n",
            "Número de cartas promedio:\t\t 3.9079917399874837\n",
            "Dinero final neto:\t\t\t 22042.829 \n",
            "Ganancia promedio por juego:\t\t 36.73804833333333 \n",
            "\n",
            "Poker 10 con 8 cartas restantes\n"
          ],
          "name": "stdout"
        },
        {
          "output_type": "display_data",
          "data": {
            "image/png": "[encoded data removed]",
            "text/plain": [
              "<Figure size 432x288 with 1 Axes>"
            ]
          },
          "metadata": {
            "tags": [],
            "needs_background": "light"
          }
        },
        {
          "output_type": "stream",
          "text": [
            "Probabilidad de lograr Blackjack:\t 0.197472 \n",
            "Número de cartas promedio:\t\t 3.8392886080051856\n",
            "Dinero final neto:\t\t\t 21847.413 \n",
            "Ganancia promedio por juego:\t\t 36.412355 \n",
            "\n"
          ],
          "name": "stdout"
        }
      ]
    }
  ]
}