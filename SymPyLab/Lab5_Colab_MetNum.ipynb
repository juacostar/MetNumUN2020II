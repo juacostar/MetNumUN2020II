{
  "nbformat": 4,
  "nbformat_minor": 0,
  "metadata": {
    "kernelspec": {
      "display_name": "SageMath 9.1",
      "language": "sagemath",
      "metadata": {
        "cocalc": {
          "description": "Open-source mathematical software system",
          "priority": 1,
          "url": "https://www.sagemath.org/"
        }
      },
      "name": "sage-9.1"
    },
    "language_info": {
      "codemirror_mode": {
        "name": "ipython",
        "version": 3
      },
      "file_extension": ".py",
      "mimetype": "text/x-python",
      "name": "python",
      "nbconvert_exporter": "python",
      "pygments_lexer": "ipython3",
      "version": "3.7.3"
    },
    "colab": {
      "name": "Lab5_Colab_MetNum.ipynb",
      "provenance": [],
      "collapsed_sections": [],
      "include_colab_link": true
    }
  },
  "cells": [
    {
      "cell_type": "markdown",
      "metadata": {
        "id": "view-in-github",
        "colab_type": "text"
      },
      "source": [
        "<a href=\"https://colab.research.google.com/github/juacostar/MetNumUN2020II/blob/master/SymPyLab/Lab5_Colab_MetNum.ipynb\" target=\"_parent\"><img src=\"https://colab.research.google.com/assets/colab-badge.svg\" alt=\"Open In Colab\"/></a>"
      ]
    },
    {
      "cell_type": "markdown",
      "metadata": {
        "id": "DhJwBGe3M-vC"
      },
      "source": [
        "#||||||||||||||||||||||||||||||||||||||||||||||||||||||||||||||||||||||||||||||||||||||||||||||||||||||||||||||||||||||||||||||||||||||||||||||||||||||||||||||"
      ]
    },
    {
      "cell_type": "markdown",
      "metadata": {
        "id": "tvgL6SHJM-44"
      },
      "source": [
        "#||||||||||||||||||||||||||||||||||||||||||||||||||||||||||||||||||||||||||||||||||||||||||||||||||||||||||||||||||||||||||||||||||||||||||||||||||||||||||||||"
      ]
    },
    {
      "cell_type": "markdown",
      "metadata": {
        "id": "_Fhwe62TbGwI"
      },
      "source": [
        "# Laboratorio 5 SymPyLab\n",
        "\n",
        "###Metodos Numericos 2020-II\n",
        "### Integrantes:\n",
        "- Juan Camilo Acosta Rojas\n",
        "- Simon Aparicio Bocanegra\n",
        "- Javier Alejandro Ortiz Silva"
      ]
    },
    {
      "cell_type": "markdown",
      "metadata": {
        "id": "60J6wGT5IlFV"
      },
      "source": [
        "#||||||||||||||||||||||||||||||||||||||||||||||||||||||||||||||||||||||||||||||||||||||||||||||||||||||||||||||||||||||||||||||||||||||||||||||||||||||||||||||"
      ]
    },
    {
      "cell_type": "markdown",
      "metadata": {
        "id": "QOjGy_U1Itiu"
      },
      "source": [
        "#||||||||||||||||||||||||||||||||||||||||||||||||||||||||||||||||||||||||||||||||||||||||||||||||||||||||||||||||||||||||||||||||||||||||||||||||||||||||||||||"
      ]
    },
    {
      "cell_type": "markdown",
      "metadata": {
        "id": "OpD5lxOvI5ku"
      },
      "source": [
        "#---------------------------------------------------------------------------------------------------------------------------------------------"
      ]
    },
    {
      "cell_type": "markdown",
      "metadata": {
        "id": "cVqDNlMWcGho"
      },
      "source": [
        "##Punto 1 (Notebook en Colab)\n",
        "Modify the code of SymPyLab form github to add cells and images from Wolfram Alpha for the polynomial (x-1)(x-2)(x-3)(x-4)(x-5)(x-6)(x-7)(x-8)(x-9)(x-10) and integrals of one dimensional an three dimensional functions that are product of a polynomial, log, sin, and e^. and the other cells create you own examples."
      ]
    },
    {
      "cell_type": "markdown",
      "metadata": {
        "id": "vFRPwoynIxQQ"
      },
      "source": [
        "#---------------------------------------------------------------------------------------------------------------------------------------------"
      ]
    },
    {
      "cell_type": "markdown",
      "metadata": {
        "id": "NbX0XkyZbGwJ"
      },
      "source": [
        "# **I. Polinomios con SymPy** \n",
        "\n",
        "En esta seccion usaremos la libreria SymPy para hacer operaciones de factorizacion y division de polinomios.\n",
        "\n"
      ]
    },
    {
      "cell_type": "markdown",
      "metadata": {
        "id": "GBn8Tu09pste"
      },
      "source": [
        "\n",
        "* $$(x-1)(x-2)(x-3)(x-4)(x-5)(x-6)(x-7)(x-8)(x-9)(x-10) = $$\n",
        "\n",
        "$$x^{10} - 55 x^9 + 1320 x^8 - 18150 x^7 + 157773 x^6 - 902055 x^5 + 3416930 x^4 $$ $$- 8409500 x^3 + 12753576 x^2 - 10628640 x + 3628800$$\n",
        "\n",
        "\n"
      ]
    },
    {
      "cell_type": "markdown",
      "metadata": {
        "id": "YYF_Ew67pwgX"
      },
      "source": [
        "\n",
        "\n",
        "* $$(x-4)(x+8)(x-1)(x-3) = x^4 - 45x^2 + 140x -96$$\n",
        "\n",
        "\n",
        "* $$(x+12)(x-1)(x+7) = x^3 + 18x^2 + 65x - 84$$"
      ]
    },
    {
      "cell_type": "markdown",
      "metadata": {
        "id": "vHmUokQMlotM"
      },
      "source": [
        "#Ejemplo 1"
      ]
    },
    {
      "cell_type": "markdown",
      "metadata": {
        "id": "vDr_SVFNScXS"
      },
      "source": [
        "Ingresamos el polinomio $$(x-1)(x-2)(x-3)(x-4)(x-5)(x-6)(x-7)(x-8)(x-9)(x-10)\n",
        "$$ en WolframAlpha"
      ]
    },
    {
      "cell_type": "markdown",
      "metadata": {
        "id": "aTn8FqhdbGwK"
      },
      "source": [
        "![Sympy1.jpg](data:image/jpeg;base64,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)"
      ]
    },
    {
      "cell_type": "markdown",
      "metadata": {
        "id": "mgqOXVuFTPK2"
      },
      "source": [
        "Usando la fucion factor ingresamos la forma extendida del polinomio para que nos genere la forma completamente factorizada"
      ]
    },
    {
      "cell_type": "code",
      "metadata": {
        "id": "pmBQLCsSLiSp",
        "outputId": "716a0173-4f2f-4300-8be2-0cc5c8abf0cd",
        "colab": {
          "base_uri": "https://localhost:8080/"
        }
      },
      "source": [
        "from sympy import *\n",
        "\n",
        "x = Symbol('x')\n",
        "factor(x**10 - 55*x**9  + 1320*x**8 - 18150*x**7 + 157773*x**6 - 902055*x**5+ 3416930*x**4 - 8409500*x**3 + 12753576*x**2 - 10628640*x + 3628800 )"
      ],
      "execution_count": null,
      "outputs": [
        {
          "output_type": "execute_result",
          "data": {
            "text/plain": [
              "(x - 10)*(x - 9)*(x - 8)*(x - 7)*(x - 6)*(x - 5)*(x - 4)*(x - 3)*(x - 2)*(x - 1)"
            ]
          },
          "metadata": {
            "tags": []
          },
          "execution_count": 1
        }
      ]
    },
    {
      "cell_type": "markdown",
      "metadata": {
        "id": "Lj9vDJytTvTI"
      },
      "source": [
        "Ahora usaremos la division de polinomios mediante la fucion div. Dividiremos el polinomio cada uno de sus terminos, excepto el ultimo, de la forma factorizada. El resultado sera el termino faltante (X-10). SymPy nos muestra la forma expandida en cada caso."
      ]
    },
    {
      "cell_type": "code",
      "metadata": {
        "id": "VIefIR7ubGwL",
        "outputId": "6cbd5d91-c915-4ea3-c855-989a1b599202",
        "colab": {
          "base_uri": "https://localhost:8080/"
        }
      },
      "source": [
        "from sympy import Symbol\n",
        "from sympy import div\n",
        "\n",
        "x = Symbol('x')\n",
        "\n",
        "p = (x-1)*(x-2)*(x-3)*(x-4)*(x-5)*(x-6)*(x-7)*(x-8)*(x-9)*(x-10)\n",
        "\n",
        "p, r = div(p,  x-1)\n",
        "\n",
        "print(p)\n",
        "print(r)\n",
        "\n",
        "p, r = div(p,  x-2)\n",
        "\n",
        "print(p)\n",
        "print(r)\n",
        "\n",
        "p, r = div(p,  x-3)\n",
        "\n",
        "print(p)\n",
        "print(r)\n",
        "\n",
        "p, r = div(p,  x-4)\n",
        "\n",
        "print(p)\n",
        "print(r)\n",
        "\n",
        "p, r = div(p,  x-5)\n",
        "\n",
        "print(p)\n",
        "print(r)\n",
        "\n",
        "p, r = div(p,  x-6)\n",
        "\n",
        "print(p)\n",
        "print(r)\n",
        "\n",
        "p, r = div(p,  x-7)\n",
        "\n",
        "print(p)\n",
        "print(r)\n",
        "\n",
        "p, r = div(p,  x-8)\n",
        "\n",
        "print(p)\n",
        "print(r)\n",
        "\n",
        "p, r = div(p,  x-9)\n",
        "\n",
        "print(p)\n",
        "print(r)"
      ],
      "execution_count": null,
      "outputs": [
        {
          "output_type": "stream",
          "text": [
            "x**9 - 54*x**8 + 1266*x**7 - 16884*x**6 + 140889*x**5 - 761166*x**4 + 2655764*x**3 - 5753736*x**2 + 6999840*x - 3628800\n",
            "0\n",
            "x**8 - 52*x**7 + 1162*x**6 - 14560*x**5 + 111769*x**4 - 537628*x**3 + 1580508*x**2 - 2592720*x + 1814400\n",
            "0\n",
            "x**7 - 49*x**6 + 1015*x**5 - 11515*x**4 + 77224*x**3 - 305956*x**2 + 662640*x - 604800\n",
            "0\n",
            "x**6 - 45*x**5 + 835*x**4 - 8175*x**3 + 44524*x**2 - 127860*x + 151200\n",
            "0\n",
            "x**5 - 40*x**4 + 635*x**3 - 5000*x**2 + 19524*x - 30240\n",
            "0\n",
            "x**4 - 34*x**3 + 431*x**2 - 2414*x + 5040\n",
            "0\n",
            "x**3 - 27*x**2 + 242*x - 720\n",
            "0\n",
            "x**2 - 19*x + 90\n",
            "0\n",
            "x - 10\n",
            "0\n"
          ],
          "name": "stdout"
        }
      ]
    },
    {
      "cell_type": "markdown",
      "metadata": {
        "id": "FlB2lQ-slsmk"
      },
      "source": [
        "#Ejemplo 2"
      ]
    },
    {
      "cell_type": "markdown",
      "metadata": {
        "id": "0BbWI27Rl30v"
      },
      "source": [
        "Ingresamos el polinomio $$(x-4)(x+8)(x-1)(x-3)\n",
        "$$ en WolframAlpha"
      ]
    },
    {
      "cell_type": "markdown",
      "metadata": {
        "id": "dFKZDkozhVEW"
      },
      "source": [
        "<img src=\"https://raw.githubusercontent.com/jortizsi/SymPyLab/main/funcionNMLabsympy1.png\"/>"
      ]
    },
    {
      "cell_type": "markdown",
      "metadata": {
        "id": "hLsd8Z0rmDsI"
      },
      "source": [
        "Usando la fucion factor ingresamos la forma extendida del polinomio para que nos genere la forma completamente factorizada"
      ]
    },
    {
      "cell_type": "code",
      "metadata": {
        "id": "wVZCs_cKk170",
        "outputId": "22f15182-fe00-4d07-e908-f8eadf391fcd",
        "colab": {
          "base_uri": "https://localhost:8080/"
        }
      },
      "source": [
        "from sympy import *\n",
        "\n",
        "x = Symbol('x')\n",
        "factor(x**4 - 45*x**2 + 140*x -96)"
      ],
      "execution_count": null,
      "outputs": [
        {
          "output_type": "execute_result",
          "data": {
            "text/plain": [
              "(x - 4)*(x - 3)*(x - 1)*(x + 8)"
            ]
          },
          "metadata": {
            "tags": []
          },
          "execution_count": 3
        }
      ]
    },
    {
      "cell_type": "markdown",
      "metadata": {
        "id": "hNyHXDkTmTie"
      },
      "source": [
        "Ahora usaremos la division de polinomios mediante la fucion div. Dividiremos el polinomio cada uno de sus terminos, excepto el ultimo, de la forma factorizada. El resultado sera el termino faltante (X-3). SymPy nos muestra la forma expandida en cada caso."
      ]
    },
    {
      "cell_type": "code",
      "metadata": {
        "id": "7Z7g1yVybGwQ",
        "outputId": "34240ffc-f6c6-48d5-8a78-34078f9c0ce4",
        "colab": {
          "base_uri": "https://localhost:8080/"
        }
      },
      "source": [
        "from sympy import Symbol\n",
        "from sympy import div\n",
        "\n",
        "x = Symbol('x')\n",
        "\n",
        "p = (x-4)*(x+8)*(x-1)*(x-3)\n",
        "\n",
        "p, r = div(p,  x-4)\n",
        "\n",
        "print(p)\n",
        "print(r)\n",
        "\n",
        "p, r = div(p,  x+8)\n",
        "\n",
        "print(p)\n",
        "print(r)\n",
        "\n",
        "p, r = div(p,  x-1)\n",
        "\n",
        "print(p)\n",
        "print(r)\n"
      ],
      "execution_count": null,
      "outputs": [
        {
          "output_type": "stream",
          "text": [
            "x**3 + 4*x**2 - 29*x + 24\n",
            "0\n",
            "x**2 - 4*x + 3\n",
            "0\n",
            "x - 3\n",
            "0\n"
          ],
          "name": "stdout"
        }
      ]
    },
    {
      "cell_type": "markdown",
      "metadata": {
        "id": "jNgfJtGOmkdL"
      },
      "source": [
        "#Ejemplo 3"
      ]
    },
    {
      "cell_type": "markdown",
      "metadata": {
        "id": "biwanvdPm3b1"
      },
      "source": [
        "Ingresamos el polinomio $$(x+12)(x-1)(x+7)\n",
        "$$ en WolframAlpha"
      ]
    },
    {
      "cell_type": "markdown",
      "metadata": {
        "id": "hriFXcUnlUYE"
      },
      "source": [
        "<img src=\"https://raw.githubusercontent.com/jortizsi/SymPyLab/main/funcionNMLabsympy2.png\"/>"
      ]
    },
    {
      "cell_type": "markdown",
      "metadata": {
        "id": "8NPvaTsAnaU1"
      },
      "source": [
        "Usando la fucion factor ingresamos la forma extendida del polinomio para que nos genere la forma completamente factorizada"
      ]
    },
    {
      "cell_type": "code",
      "metadata": {
        "id": "RO1nq3yLnNSe",
        "outputId": "4220a1c4-de53-44dc-e62c-7b53788fa5e5",
        "colab": {
          "base_uri": "https://localhost:8080/"
        }
      },
      "source": [
        "from sympy import *\n",
        "\n",
        "x = Symbol('x')\n",
        "factor(x**3 + 18*x**2 + 65*x -84)"
      ],
      "execution_count": null,
      "outputs": [
        {
          "output_type": "execute_result",
          "data": {
            "text/plain": [
              "(x - 1)*(x + 7)*(x + 12)"
            ]
          },
          "metadata": {
            "tags": []
          },
          "execution_count": 5
        }
      ]
    },
    {
      "cell_type": "markdown",
      "metadata": {
        "id": "SZ8MKmL8ni-O"
      },
      "source": [
        "Ahora usaremos la division de polinomios mediante la fucion div. Dividiremos el polinomio cada uno de sus terminos, excepto el ultimo, de la forma factorizada. El resultado sera el termino faltante (X+7). SymPy nos muestra la forma expandida en cada caso."
      ]
    },
    {
      "cell_type": "code",
      "metadata": {
        "id": "m0BseyH2bGwU",
        "outputId": "f2d12caf-8810-48f0-c24e-c1e46ad4144c",
        "colab": {
          "base_uri": "https://localhost:8080/"
        }
      },
      "source": [
        "from sympy import Symbol\n",
        "from sympy import div\n",
        "\n",
        "x = Symbol('x')\n",
        "\n",
        "p = (x+12)*(x-1)*(x+7)\n",
        "\n",
        "p, r = div(p,  x+12)\n",
        "\n",
        "print(p)\n",
        "print(r)\n",
        "\n",
        "p, r = div(p,  x-1)\n",
        "\n",
        "print(p)\n",
        "print(r)"
      ],
      "execution_count": null,
      "outputs": [
        {
          "output_type": "stream",
          "text": [
            "x**2 + 6*x - 7\n",
            "0\n",
            "x + 7\n",
            "0\n"
          ],
          "name": "stdout"
        }
      ]
    },
    {
      "cell_type": "markdown",
      "metadata": {
        "id": "z7cqkn7qJ9ur"
      },
      "source": [
        "#---------------------------------------------------------------------------------------------------------------------------------------------"
      ]
    },
    {
      "cell_type": "markdown",
      "metadata": {
        "id": "pVm3gaRrKHb0"
      },
      "source": [
        "##**Algunas funciones de Sympy**"
      ]
    },
    {
      "cell_type": "markdown",
      "metadata": {
        "id": "RVqaDx5XbGwZ"
      },
      "source": [
        "### Factorización polinomial con SymPyLab"
      ]
    },
    {
      "cell_type": "markdown",
      "metadata": {
        "id": "3GXIsP2KbGwa"
      },
      "source": [
        "* factor(x^6 + 4*x^5 - 92*x^4 - 194*x^3 + 1291*x^2 + 190*x - 1200)"
      ]
    },
    {
      "cell_type": "markdown",
      "metadata": {
        "id": "MqSrisbibGwa"
      },
      "source": [
        "<img src=\"attachment:lab5_3.png\" style=\"max-width:100%\">"
      ]
    },
    {
      "cell_type": "code",
      "metadata": {
        "id": "2V3r9BZ_bGwb",
        "outputId": "fecb0ff7-4aa5-4ff3-c734-224b058857d1",
        "colab": {
          "base_uri": "https://localhost:8080/"
        }
      },
      "source": [
        "from sympy import *\n",
        "factor(x**6 + 4*x**5 - 92*x**4 - 194*x**3 + 1291*x**2 + 190*x - 1200)"
      ],
      "execution_count": null,
      "outputs": [
        {
          "output_type": "execute_result",
          "data": {
            "text/plain": [
              "(x - 8)*(x - 3)*(x - 1)*(x + 1)*(x + 5)*(x + 10)"
            ]
          },
          "metadata": {
            "tags": []
          },
          "execution_count": 7
        }
      ]
    },
    {
      "cell_type": "markdown",
      "metadata": {
        "id": "KNnFtfgmbGwe"
      },
      "source": [
        "### Solucionando ecuaciones con SymPyLab"
      ]
    },
    {
      "cell_type": "markdown",
      "metadata": {
        "id": "iBZj_K_XbGwe"
      },
      "source": [
        "* 2x^4 + x^3 - 8x^2 -x + 6 = 0"
      ]
    },
    {
      "cell_type": "markdown",
      "metadata": {
        "id": "WZli8ExsbGwg"
      },
      "source": [
        "<img src=\"attachment:lab5_4.png\" style=\"max-width:100%\">"
      ]
    },
    {
      "cell_type": "code",
      "metadata": {
        "id": "daeVLm4kbGwh",
        "outputId": "07c9d283-de98-45ef-809d-96274590bf0c",
        "colab": {
          "base_uri": "https://localhost:8080/"
        }
      },
      "source": [
        "from sympy import *\n",
        "solveset(Eq(2*x**4 + x**3 - 8*x**2 - x + 6, 0), x)"
      ],
      "execution_count": null,
      "outputs": [
        {
          "output_type": "execute_result",
          "data": {
            "text/plain": [
              "{-2, -1, 1, 3/2}"
            ]
          },
          "metadata": {
            "tags": []
          },
          "execution_count": 8
        }
      ]
    },
    {
      "cell_type": "markdown",
      "metadata": {
        "id": "j_BGhmKybGwm"
      },
      "source": [
        "### Evaluaciones complejas y simbólicas con SymPyLab\n",
        "* x = 2x1 - Ix2,y = Iy1 + y2, z = 3z1 + Iz2, 2xyz"
      ]
    },
    {
      "cell_type": "markdown",
      "metadata": {
        "id": "QRoiS8GxbGwn"
      },
      "source": [
        "![image.png](data:image/png;base64,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)"
      ]
    },
    {
      "cell_type": "code",
      "metadata": {
        "id": "N8kqM3ccbGwn",
        "outputId": "e795c54d-cd1e-4f2d-f474-f5b17e5bd7d7",
        "colab": {
          "base_uri": "https://localhost:8080/"
        }
      },
      "source": [
        "x1, x2, y1, y2, z1, z2 = symbols(\"x1 x2 y1 y2 z1 z2\", real=True)  \n",
        "x = 2*x1 - I*x2\n",
        "y = I*y1 + y2\n",
        "z = 3*z1 + I*z2\n",
        "\n",
        "print(2*x*y*z)\n",
        "print(expand(2*x*y*z))\n",
        "print(expand(2*((x*y)*z)))\n",
        "print(expand(2*(x*(y*z))))\n",
        "\n",
        "w=N(1/(pi + I), 20)\n",
        "print('w=',w)"
      ],
      "execution_count": null,
      "outputs": [
        {
          "output_type": "stream",
          "text": [
            "(4*x1 - 2*I*x2)*(3*z1 + I*z2)*(I*y1 + y2)\n",
            "12*I*x1*y1*z1 - 4*x1*y1*z2 + 12*x1*y2*z1 + 4*I*x1*y2*z2 + 6*x2*y1*z1 + 2*I*x2*y1*z2 - 6*I*x2*y2*z1 + 2*x2*y2*z2\n",
            "12*I*x1*y1*z1 - 4*x1*y1*z2 + 12*x1*y2*z1 + 4*I*x1*y2*z2 + 6*x2*y1*z1 + 2*I*x2*y1*z2 - 6*I*x2*y2*z1 + 2*x2*y2*z2\n",
            "12*I*x1*y1*z1 - 4*x1*y1*z2 + 12*x1*y2*z1 + 4*I*x1*y2*z2 + 6*x2*y1*z1 + 2*I*x2*y1*z2 - 6*I*x2*y2*z1 + 2*x2*y2*z2\n",
            "w= 0.28902548222223624241 - 0.091999668350375232456*I\n"
          ],
          "name": "stdout"
        }
      ]
    },
    {
      "cell_type": "markdown",
      "metadata": {
        "id": "7V8p12d6M6Vc"
      },
      "source": [
        "#||||||||||||||||||||||||||||||||||||||||||||||||||||||||||||||||||||||||||||||||||||||||||||||||||||||||||||||||||||||||||||||||||||||||||||||||||||||||||||||"
      ]
    },
    {
      "cell_type": "markdown",
      "metadata": {
        "id": "gGQ9X3KoM6m2"
      },
      "source": [
        "#||||||||||||||||||||||||||||||||||||||||||||||||||||||||||||||||||||||||||||||||||||||||||||||||||||||||||||||||||||||||||||||||||||||||||||||||||||||||||||||"
      ]
    },
    {
      "cell_type": "markdown",
      "metadata": {
        "id": "FBB98-8jKAxK"
      },
      "source": [
        "#---------------------------------------------------------------------------------------------------------------------------------------------"
      ]
    },
    {
      "cell_type": "markdown",
      "metadata": {
        "id": "f3N6yJqpbGwq"
      },
      "source": [
        "#**II. Integrales con SymPy** \n",
        "\n",
        "En esta seccion realizaremos el calculo analitico y estimado de varias integrales definidas en una y varias variables.\n"
      ]
    },
    {
      "cell_type": "markdown",
      "metadata": {
        "id": "sozGln8mMuOA"
      },
      "source": [
        "#---------------------------------------------------------------------------------------------------------------------------------------------"
      ]
    },
    {
      "cell_type": "markdown",
      "metadata": {
        "id": "dZ1OH-iMLIQ_"
      },
      "source": [
        "#A. Integrales simples para funciones de una variable"
      ]
    },
    {
      "cell_type": "markdown",
      "metadata": {
        "id": "ePDbN4Fcx0fQ"
      },
      "source": [
        "#Ejemplo 1"
      ]
    },
    {
      "cell_type": "markdown",
      "metadata": {
        "id": "ZFi2Lb2rrDtM"
      },
      "source": [
        "* Ejemplo inicial con la integral de Sen(x)\n",
        "Tomando el problema inicialmente en una dimensión,\n",
        "$$\\int_3^9 Sen(4x) dx$$\n"
      ]
    },
    {
      "cell_type": "markdown",
      "metadata": {
        "id": "73TU_iwetuBW"
      },
      "source": [
        "<img src=\"https://raw.githubusercontent.com/jortizsi/SymPyLab/main/funcionNMLabsympy3.png\"/>"
      ]
    },
    {
      "cell_type": "markdown",
      "metadata": {
        "id": "53q5T4bDyVKM"
      },
      "source": [
        "Utilizando la librería SymPyLab se tiene que:"
      ]
    },
    {
      "cell_type": "code",
      "metadata": {
        "id": "GcgLQ5zVbGwu",
        "outputId": "7f1e4451-12d8-4779-c47e-90c26aafdd67",
        "colab": {
          "base_uri": "https://localhost:8080/"
        }
      },
      "source": [
        "import sympy\n",
        "result = {}\n",
        "x = sympy.Symbol(\"x\")\n",
        "i = sympy.integrate(sin(4*x))\n",
        "print(\"integral indefinida:\",i)\n",
        "result[\"analytical\"] = float(i.subs(x, 9) - i.subs(x, 3))\n",
        "print(\"resultado analitica usando teorema fundamental del calculo: {}\".format(result[\"analytical\"]))"
      ],
      "execution_count": null,
      "outputs": [
        {
          "output_type": "stream",
          "text": [
            "integral indefinida: -cos(4*x)/4\n",
            "resultado analitica usando teorema fundamental del calculo: 0.2429544120899742\n"
          ],
          "name": "stdout"
        }
      ]
    },
    {
      "cell_type": "markdown",
      "metadata": {
        "id": "RmkEKpiObGwy"
      },
      "source": [
        "**Integrando con el método de Monte Carlo** \n",
        "\n",
        "Podemos estimar una integral usando el método de Monte Carlo evaluando la relación entre la integral y una variable aleatoria.\n",
        "\n",
        "$$\\mathbb{E}(f(x)) = \\int_I f(x) dx $$\n",
        "\n",
        "Dado una muestra grande de puntos N en I, calculamos su promedio y multiplicamos por el rango sobre el que se está integrando"
      ]
    },
    {
      "cell_type": "code",
      "metadata": {
        "id": "gLiv08jgbGwz",
        "outputId": "cb34e981-337d-4680-955e-940a31db2a43",
        "colab": {
          "base_uri": "https://localhost:8080/"
        }
      },
      "source": [
        "import sympy\n",
        "import numpy\n",
        "N = 10000\n",
        "accum = 0\n",
        "for i in range(N):\n",
        "    x = numpy.random.uniform(3, 9)\n",
        "    accum += sin(4*x)\n",
        "volume = 9 - 3\n",
        "result[\"MC\"] = volume * accum / float(N)\n",
        "print(\"Standard Monte Carlo result: {}\".format(result[\"MC\"]))"
      ],
      "execution_count": null,
      "outputs": [
        {
          "output_type": "stream",
          "text": [
            "Standard Monte Carlo result: 0.282312207199936\n"
          ],
          "name": "stdout"
        }
      ]
    },
    {
      "cell_type": "markdown",
      "metadata": {
        "id": "2gvwCoXnx6ge"
      },
      "source": [
        "#Ejemplo 2"
      ]
    },
    {
      "cell_type": "markdown",
      "metadata": {
        "id": "alhHySdobGw2"
      },
      "source": [
        "* $$\\int_3^9 12x^3 dx$$"
      ]
    },
    {
      "cell_type": "markdown",
      "metadata": {
        "id": "h1OJ8F_1vkS1"
      },
      "source": [
        "<img src=\"https://raw.githubusercontent.com/jortizsi/SymPyLab/main/funcionNMLabsympy4.png\"/>"
      ]
    },
    {
      "cell_type": "markdown",
      "metadata": {
        "id": "1zFu52bgvum-"
      },
      "source": [
        "De manera analitica se obtiene:"
      ]
    },
    {
      "cell_type": "code",
      "metadata": {
        "id": "wDAWNmd6bGw3",
        "outputId": "94cf136c-5a7e-4a32-f539-540c850b4190",
        "colab": {
          "base_uri": "https://localhost:8080/"
        }
      },
      "source": [
        "import sympy\n",
        "result = {}\n",
        "x = sympy.Symbol(\"x\")\n",
        "i = sympy.integrate(12*x**3)\n",
        "print(i)\n",
        "result[\"analytical\"] = float(i.subs(x, 9) - i.subs(x, 3))\n",
        "print(\"Analytical result: {}\".format(result[\"analytical\"]))"
      ],
      "execution_count": null,
      "outputs": [
        {
          "output_type": "stream",
          "text": [
            "3*x**4\n",
            "Analytical result: 19440.0\n"
          ],
          "name": "stdout"
        }
      ]
    },
    {
      "cell_type": "markdown",
      "metadata": {
        "id": "XN3wXC71bGw5"
      },
      "source": [
        "Integrando con Monte Carlo se tiene que:"
      ]
    },
    {
      "cell_type": "code",
      "metadata": {
        "id": "nKezY-fKbGw6",
        "outputId": "ff4dbe7b-18bd-4449-e201-900a4a5761d4",
        "colab": {
          "base_uri": "https://localhost:8080/"
        }
      },
      "source": [
        "import numpy\n",
        "N = 10000\n",
        "accum = 0\n",
        "for i in range(N):\n",
        "    x = numpy.random.uniform(3, 9)\n",
        "    accum += 12*x**3\n",
        "volume = 9 - 3\n",
        "result[\"MC\"] = volume * accum / float(N)\n",
        "print(\"Standard Monte Carlo result: {}\".format(result[\"MC\"]))"
      ],
      "execution_count": null,
      "outputs": [
        {
          "output_type": "stream",
          "text": [
            "Standard Monte Carlo result: 19386.665356668444\n"
          ],
          "name": "stdout"
        }
      ]
    },
    {
      "cell_type": "markdown",
      "metadata": {
        "id": "jf0L9M1Sx-d0"
      },
      "source": [
        "#Ejemplo 3"
      ]
    },
    {
      "cell_type": "markdown",
      "metadata": {
        "id": "E9yXl7bJbGw9"
      },
      "source": [
        "* $$\\int_3^9 log(1/2x) dx$$"
      ]
    },
    {
      "cell_type": "markdown",
      "metadata": {
        "id": "YdkTtU88xBeB"
      },
      "source": [
        "<img src=\"https://raw.githubusercontent.com/jortizsi/SymPyLab/main/funcionNMLabsympy5.png\"/>"
      ]
    },
    {
      "cell_type": "markdown",
      "metadata": {
        "id": "mb-_TouxxQuf"
      },
      "source": [
        "De manera analitica se obtiene:"
      ]
    },
    {
      "cell_type": "code",
      "metadata": {
        "id": "sgn-5HMTbGw-",
        "outputId": "1a81cebe-1714-4968-fc34-214edfb23da6",
        "colab": {
          "base_uri": "https://localhost:8080/"
        }
      },
      "source": [
        "import sympy\n",
        "result = {}\n",
        "x = sympy.Symbol(\"x\")\n",
        "i = sympy.integrate(sympy.log(0.5*x))\n",
        "print(i)\n",
        "result[\"analytical\"] = float(i.subs(x, 9) - i.subs(x, 3))\n",
        "print(\"Analytical result: {}\".format(result[\"analytical\"]))"
      ],
      "execution_count": null,
      "outputs": [
        {
          "output_type": "stream",
          "text": [
            "1.0*x*log(0.5*x) - 1.0*x\n",
            "Analytical result: 6.320301246661975\n"
          ],
          "name": "stdout"
        }
      ]
    },
    {
      "cell_type": "markdown",
      "metadata": {
        "id": "hckxizkhbGxB"
      },
      "source": [
        "Integrando con Monte Carlo se tiene que:"
      ]
    },
    {
      "cell_type": "code",
      "metadata": {
        "id": "_xpwUDeEbGxB",
        "outputId": "1a118cc6-d2af-43b2-8e5e-76cef49587cb",
        "colab": {
          "base_uri": "https://localhost:8080/"
        }
      },
      "source": [
        "import sympy\n",
        "import numpy\n",
        "N = 10000\n",
        "accum = 0\n",
        "for i in range(N):\n",
        "    x = numpy.random.uniform(3, 9)\n",
        "    accum += sympy.log(0.5*x)\n",
        "volume = 9 - 3\n",
        "result[\"MC\"] = volume * accum / float(N)\n",
        "print(\"Standard Monte Carlo result: {}\".format(result[\"MC\"]))"
      ],
      "execution_count": null,
      "outputs": [
        {
          "output_type": "stream",
          "text": [
            "Standard Monte Carlo result: 6.31291873925235\n"
          ],
          "name": "stdout"
        }
      ]
    },
    {
      "cell_type": "markdown",
      "metadata": {
        "id": "C9gs-qvFyE6R"
      },
      "source": [
        "##Ejemplo 4"
      ]
    },
    {
      "cell_type": "markdown",
      "metadata": {
        "id": "uLtShJQsbGxD"
      },
      "source": [
        "* $$\\int_3^9 e^{5x} dx$$"
      ]
    },
    {
      "cell_type": "markdown",
      "metadata": {
        "id": "qZQybCs32Tgf"
      },
      "source": [
        "<img src=\"https://raw.githubusercontent.com/jortizsi/SymPyLab/main/funcionNMLabsympy6.png\"/>"
      ]
    },
    {
      "cell_type": "markdown",
      "metadata": {
        "id": "2PQ7Hf2I3bVB"
      },
      "source": [
        "De manera analitica se obtiene:"
      ]
    },
    {
      "cell_type": "code",
      "metadata": {
        "id": "8Y0Tgv-tbGxF",
        "outputId": "bae06c19-96d8-4027-baa2-45e013c82704",
        "colab": {
          "base_uri": "https://localhost:8080/"
        }
      },
      "source": [
        "import sympy\n",
        "import math\n",
        "result = {}\n",
        "x = sympy.Symbol(\"x\")\n",
        "i = sympy.integrate((math.e)**(5*x))\n",
        "print(i)\n",
        "result[\"analytical\"] = float(i.subs(x, 9) - i.subs(x, 3))\n",
        "print(\"Analytical result: {}\".format(result[\"analytical\"]))"
      ],
      "execution_count": null,
      "outputs": [
        {
          "output_type": "stream",
          "text": [
            "0.2*2.71828182845905**(5*x)\n",
            "Analytical result: 6.98685421149635e+18\n"
          ],
          "name": "stdout"
        }
      ]
    },
    {
      "cell_type": "markdown",
      "metadata": {
        "id": "BAyniDYRbGxJ"
      },
      "source": [
        "Integrando con Monte Carlo se tiene que:"
      ]
    },
    {
      "cell_type": "code",
      "metadata": {
        "id": "AnxTEDoEbGxJ",
        "outputId": "fb9d192a-ac16-4330-8488-f5527c90e6ee",
        "colab": {
          "base_uri": "https://localhost:8080/"
        }
      },
      "source": [
        "import sympy\n",
        "import math\n",
        "import numpy\n",
        "N = 10000\n",
        "accum = 0\n",
        "for i in range(N):\n",
        "    x = numpy.random.uniform(3, 9)\n",
        "    accum += (math.e**(5*x))\n",
        "volume = 9 - 3\n",
        "result[\"MC\"] = volume * accum / float(N)\n",
        "print(\"Standard Monte Carlo result: {}\".format(result[\"MC\"]))"
      ],
      "execution_count": null,
      "outputs": [
        {
          "output_type": "stream",
          "text": [
            "Standard Monte Carlo result: 7.614280093605582e+18\n"
          ],
          "name": "stdout"
        }
      ]
    },
    {
      "cell_type": "markdown",
      "metadata": {
        "id": "1LM5AvBVNZhF"
      },
      "source": [
        "#---------------------------------------------------------------------------------------------------------------------------------------------"
      ]
    },
    {
      "cell_type": "markdown",
      "metadata": {
        "id": "Vt5Duf0kbGxN"
      },
      "source": [
        "#Una integral de varias dimensiones (función Ishigami)\n",
        "\n",
        "Problema de integración en dimensión 4, la función Ishigami, conocida en optimización numérica y análisis estocástico, dado a que es no lineal."
      ]
    },
    {
      "cell_type": "code",
      "metadata": {
        "id": "G2uwR9SXbGxN",
        "outputId": "eabd5e63-a037-44be-95fb-8955550588c4",
        "colab": {
          "base_uri": "https://localhost:8080/"
        }
      },
      "source": [
        "import sympy\n",
        "\n",
        "x1 = sympy.Symbol(\"x1\")\n",
        "x2 = sympy.Symbol(\"x2\")\n",
        "x3 = sympy.Symbol(\"x3\")\n",
        "expr = sympy.sin(x1) + 7*sympy.sin(x2)**2 + 0.1 * x3**4 * sympy.sin(x1)\n",
        "res = sympy.integrate(expr,\n",
        "                      (x1, -sympy.pi, sympy.pi),\n",
        "                      (x2, -sympy.pi, sympy.pi),\n",
        "                      (x3, -sympy.pi, sympy.pi))\n",
        "# Note: we use float(res) to convert res from symbolic form to floating point form\n",
        "result = {} \n",
        "result[\"analytical\"] = float(res)\n",
        "print(\"Analytical result: {}\".format(result[\"analytical\"]))"
      ],
      "execution_count": null,
      "outputs": [
        {
          "output_type": "stream",
          "text": [
            "Analytical result: 868.175747048395\n"
          ],
          "name": "stdout"
        }
      ]
    },
    {
      "cell_type": "code",
      "metadata": {
        "id": "MStcX3TNbGxQ",
        "outputId": "c6973f11-74b0-43f8-ff3d-df25f9fc4a6c",
        "colab": {
          "base_uri": "https://localhost:8080/"
        }
      },
      "source": [
        "N = 10_000\n",
        "accum = 0\n",
        "for i in range(N):\n",
        "    xx1 = numpy.random.uniform(-numpy.pi, numpy.pi)\n",
        "    xx2 = numpy.random.uniform(-numpy.pi, numpy.pi)\n",
        "    xx3 = numpy.random.uniform(-numpy.pi, numpy.pi)\n",
        "    accum += numpy.sin(xx1) + 7*numpy.sin(xx2)**2 + 0.1 * xx3**4 * numpy.sin(xx1)\n",
        "volume = (2 * numpy.pi)**3\n",
        "result = {} \n",
        "result[\"MC\"] = volume * accum / float(N)\n",
        "print(\"Standard Monte Carlo result: {}\".format(result[\"MC\"]))"
      ],
      "execution_count": null,
      "outputs": [
        {
          "output_type": "stream",
          "text": [
            "Standard Monte Carlo result: 863.5096901324084\n"
          ],
          "name": "stdout"
        }
      ]
    },
    {
      "cell_type": "code",
      "metadata": {
        "id": "a6qg9L84bGxS"
      },
      "source": [
        "import math\n",
        "import numpy\n",
        "\n",
        "def halton(dim: int, nbpts: int):\n",
        "    h = numpy.full(nbpts * dim, numpy.nan)\n",
        "    p = numpy.full(nbpts, numpy.nan)\n",
        "    P = [2, 3, 5, 7, 11, 13, 17, 19, 23, 29, 31]\n",
        "    lognbpts = math.log(nbpts + 1)\n",
        "    for i in range(dim):\n",
        "        b = P[i]\n",
        "        n = int(math.ceil(lognbpts / math.log(b)))\n",
        "        for t in range(n):\n",
        "            p[t] = pow(b, -(t + 1))\n",
        "\n",
        "        for j in range(nbpts):\n",
        "            d = j + 1\n",
        "            sum_ = math.fmod(d, b) * p[0]\n",
        "            for t in range(1, n):\n",
        "                d = math.floor(d / b)\n",
        "                sum_ += math.fmod(d, b) * p[t]\n",
        "\n",
        "            h[j*dim + i] = sum_\n",
        "    return h.reshape(nbpts, dim)"
      ],
      "execution_count": null,
      "outputs": []
    },
    {
      "cell_type": "code",
      "metadata": {
        "id": "jOFC6PIZbGxV",
        "outputId": "e7b0978e-dbd8-45bc-b1bb-6fbd110a5ec3",
        "colab": {
          "base_uri": "https://localhost:8080/",
          "height": 336
        }
      },
      "source": [
        "import matplotlib.pyplot as plt\n",
        "N = 1000\n",
        "seq = halton(2, N)\n",
        "plt.title(\"2D Halton sequence\")\n",
        "plt.axes().set_aspect('equal')\n",
        "plt.scatter(seq[:,0], seq[:,1], marker=\".\", alpha=0.5);"
      ],
      "execution_count": null,
      "outputs": [
        {
          "output_type": "stream",
          "text": [
            "/usr/local/lib/python3.6/dist-packages/ipykernel_launcher.py:5: MatplotlibDeprecationWarning: Adding an axes using the same arguments as a previous axes currently reuses the earlier instance.  In a future version, a new instance will always be created and returned.  Meanwhile, this warning can be suppressed, and the future behavior ensured, by passing a unique label to each axes instance.\n",
            "  \"\"\"\n"
          ],
          "name": "stderr"
        },
        {
          "output_type": "display_data",
          "data": {
            "image/png": "[encoded data removed]",
            "text/plain": [
              "<Figure size 432x288 with 1 Axes>"
            ]
          },
          "metadata": {
            "tags": [],
            "needs_background": "light"
          }
        }
      ]
    },
    {
      "cell_type": "code",
      "metadata": {
        "id": "lsNNhkzrbGxY",
        "outputId": "2bebd94a-b167-412b-dd44-f172c05d51ac",
        "colab": {
          "base_uri": "https://localhost:8080/"
        }
      },
      "source": [
        "N = 10000\n",
        "\n",
        "seq = halton(3, N)\n",
        "accum = 0\n",
        "for i in range(N):\n",
        "    xx1 = -numpy.pi + seq[i][0] * numpy.pi * 2\n",
        "    xx2 = -numpy.pi + seq[i][1] * numpy.pi * 2\n",
        "    xx3 = -numpy.pi + seq[i][2] * numpy.pi * 2\n",
        "    accum += numpy.sin(xx1) + 7*numpy.sin(xx2)**2 + 0.1*xx3**4 * numpy.sin(xx1)\n",
        "volume = (2 * numpy.pi)**3\n",
        "result = {}\n",
        "result[\"MC\"] = volume * accum / float(N)\n",
        "print(\"Qausi Monte Carlo Halton Sequence result: {}\".format(result[\"MC\"]))"
      ],
      "execution_count": null,
      "outputs": [
        {
          "output_type": "stream",
          "text": [
            "Qausi Monte Carlo Halton Sequence result: 868.238928030592\n"
          ],
          "name": "stdout"
        }
      ]
    },
    {
      "cell_type": "markdown",
      "metadata": {
        "id": "YDGQGHXTNbTP"
      },
      "source": [
        "#---------------------------------------------------------------------------------------------------------------------------------------------"
      ]
    },
    {
      "cell_type": "markdown",
      "metadata": {
        "id": "GIAPyHItbGxb"
      },
      "source": [
        "#B. Integrales de tres dimensiones\n"
      ]
    },
    {
      "cell_type": "markdown",
      "metadata": {
        "id": "CMB9STBnKz8h"
      },
      "source": [
        "#Ejemplo 1"
      ]
    },
    {
      "cell_type": "markdown",
      "metadata": {
        "id": "aYct17Bu-oNB"
      },
      "source": [
        "* $$\\int_2^4 \\int_5^6 \\int_7^9 log(xyz/3) dxdydz$$"
      ]
    },
    {
      "cell_type": "markdown",
      "metadata": {
        "id": "tzfOpz8m-fHJ"
      },
      "source": [
        "<img src=\"https://raw.githubusercontent.com/jortizsi/SymPyLab/main/funcionNMLabsympy7.png\"/>"
      ]
    },
    {
      "cell_type": "markdown",
      "metadata": {
        "id": "QDrQT1UUbGxe"
      },
      "source": [
        "Integrando con la librería Simpy se tiene que:"
      ]
    },
    {
      "cell_type": "code",
      "metadata": {
        "id": "M1vI1CZcbGxe",
        "outputId": "c22ca59a-3ae4-4147-8f5b-ccd1314c78b0",
        "colab": {
          "base_uri": "https://localhost:8080/"
        }
      },
      "source": [
        "import sympy\n",
        "\n",
        "x1 = sympy.Symbol(\"x1\")\n",
        "x2 = sympy.Symbol(\"x2\")\n",
        "x3 = sympy.Symbol(\"x3\")\n",
        "expr = sympy.log((x1*x2*x3)/3)\n",
        "res = sympy.integrate(expr,\n",
        "                      (x1, 2, 4),\n",
        "                      (x2, 5, 6),\n",
        "                      (x3, 7, 9))\n",
        "# Note: we use float(res) to convert res from symbolic form to floating point form\n",
        "result = {} \n",
        "result[\"analytical\"] = float(res)\n",
        "print(\"Analytical result: {}\".format(result[\"analytical\"]))"
      ],
      "execution_count": null,
      "outputs": [
        {
          "output_type": "stream",
          "text": [
            "Analytical result: 15.04408633011578\n"
          ],
          "name": "stdout"
        }
      ]
    },
    {
      "cell_type": "markdown",
      "metadata": {
        "id": "Zr0oLKTibGxh"
      },
      "source": [
        "Y con el método Monte Carlo se tiene que:"
      ]
    },
    {
      "cell_type": "code",
      "metadata": {
        "id": "yHmKz6V9bGxh",
        "outputId": "9f1170f1-e88f-489b-ddce-157751838bd9",
        "colab": {
          "base_uri": "https://localhost:8080/"
        }
      },
      "source": [
        "import numpy\n",
        "N = 10000\n",
        "accum = 0\n",
        "for i in range(N):\n",
        "    xx1 = numpy.random.uniform(2, 4)\n",
        "    xx2 = numpy.random.uniform(5, 6)\n",
        "    xx3 = numpy.random.uniform(7, 9)\n",
        "    accum += sympy.log((xx1*xx2*xx3)/3)\n",
        "volume = (9-7)*(6-5)*(4-2)\n",
        "result = {} \n",
        "result[\"MC\"] = volume * accum / float(N)\n",
        "print(\"Standard Monte Carlo result: {}\".format(result[\"MC\"]))"
      ],
      "execution_count": null,
      "outputs": [
        {
          "output_type": "stream",
          "text": [
            "Standard Monte Carlo result: 15.0409740107297\n"
          ],
          "name": "stdout"
        }
      ]
    },
    {
      "cell_type": "markdown",
      "metadata": {
        "id": "GC-gd2bFK5DS"
      },
      "source": [
        "#Ejemplo 2"
      ]
    },
    {
      "cell_type": "markdown",
      "metadata": {
        "id": "EHAJKgMhbGxk"
      },
      "source": [
        "* $$\\int_0^1 \\int_2^3 \\int_4^5 sen(12x - 2y + 6z) dxdydz$$"
      ]
    },
    {
      "cell_type": "markdown",
      "metadata": {
        "id": "BGgU74Xd--mW"
      },
      "source": [
        "<img src=\"https://raw.githubusercontent.com/jortizsi/SymPyLab/main/funcionNMLabsympy7.png\"/>"
      ]
    },
    {
      "cell_type": "markdown",
      "metadata": {
        "id": "HRQGipB9bGxk"
      },
      "source": [
        "<img src=\"attachment:lab5_3.png\" style=\"max-width:100%\">"
      ]
    },
    {
      "cell_type": "markdown",
      "metadata": {
        "id": "SuwFmXTfbGxl"
      },
      "source": [
        "Con la librería simpy se tiene que:"
      ]
    },
    {
      "cell_type": "code",
      "metadata": {
        "id": "DeCcmu5IbGxl",
        "outputId": "d34bdce5-3909-4dde-8ae3-a75dc113f56c",
        "colab": {
          "base_uri": "https://localhost:8080/"
        }
      },
      "source": [
        "import sympy\n",
        "\n",
        "x1 = sympy.Symbol(\"x1\")\n",
        "x2 = sympy.Symbol(\"x2\")\n",
        "x3 = sympy.Symbol(\"x3\")\n",
        "expr = sympy.sin(12*x1 - 2*x2 + 6*x3)\n",
        "res = sympy.integrate(expr,\n",
        "                      (x3, 0, 1),\n",
        "                      (x2, 2, 3),\n",
        "                      (x1, 4, 5))\n",
        "# Note: we use float(res) to convert res from symbolic form to floating point form\n",
        "result = {} \n",
        "result[\"analytical\"] = float(res)\n",
        "print(\"Analytical result: {}\".format(result[\"analytical\"]))"
      ],
      "execution_count": null,
      "outputs": [
        {
          "output_type": "stream",
          "text": [
            "Analytical result: -0.0018186912650851542\n"
          ],
          "name": "stdout"
        }
      ]
    },
    {
      "cell_type": "markdown",
      "metadata": {
        "id": "BzC04kpVbGxl"
      },
      "source": [
        "Integrando con el método Monte Carlo se tiene que:"
      ]
    },
    {
      "cell_type": "code",
      "metadata": {
        "id": "-XzxgW4MbGxo",
        "outputId": "bde2bb43-01b5-423a-dba9-50deb6440345",
        "colab": {
          "base_uri": "https://localhost:8080/"
        }
      },
      "source": [
        "import numpy\n",
        "import sympy\n",
        "N = 100_000\n",
        "accum = 0\n",
        "for i in range(N):\n",
        "    xx1 = numpy.random.uniform(0, 1)\n",
        "    xx2 = numpy.random.uniform(2, 3)\n",
        "    xx3 = numpy.random.uniform(4, 5)\n",
        "    accum += numpy.sin(12*xx1 -2*xx2 + 6*xx3)\n",
        "volume = (5-4)*(3-2)*(1-0)\n",
        "result = {}\n",
        "result[\"MC\"] = volume * accum / float(N)\n",
        "print(\"Standard Monte Carlo result: {}\".format(result[\"MC\"]))"
      ],
      "execution_count": null,
      "outputs": [
        {
          "output_type": "stream",
          "text": [
            "Standard Monte Carlo result: -0.0005762491183536902\n"
          ],
          "name": "stdout"
        }
      ]
    },
    {
      "cell_type": "markdown",
      "metadata": {
        "id": "v-4FKT1qK9hy"
      },
      "source": [
        "#Ejemplo 3"
      ]
    },
    {
      "cell_type": "markdown",
      "metadata": {
        "id": "MXGm_sdUbGxq"
      },
      "source": [
        "* $$\\int_1^6 \\int_1^6 \\int_1^6 e^{xyz} dxdydz$$"
      ]
    },
    {
      "cell_type": "markdown",
      "metadata": {
        "id": "jkXbZCMeFVp4"
      },
      "source": [
        "<img src=\"https://raw.githubusercontent.com/jortizsi/SymPyLab/main/funcionNMLabsympy8.png\"/>"
      ]
    },
    {
      "cell_type": "markdown",
      "metadata": {
        "id": "jtkTAqd-bGxu"
      },
      "source": [
        "Integrando con la librería simpy se tiene que:"
      ]
    },
    {
      "cell_type": "code",
      "metadata": {
        "id": "r0fdXaBJbGxu",
        "outputId": "29899c16-a64e-4624-b00f-6abee609597d",
        "colab": {
          "base_uri": "https://localhost:8080/"
        }
      },
      "source": [
        "import sympy\n",
        "import math\n",
        "\n",
        "x1 = sympy.Symbol(\"x1\")\n",
        "x2 = sympy.Symbol(\"x2\")\n",
        "x3 = sympy.Symbol(\"x3\")\n",
        "#expr = (math.e)**(x1 * x2 * x3)\n",
        "\n",
        "expr = sympy.exp(x1 * x2 * x3)\n",
        "res = sympy.integrate(expr,\n",
        "                      (x3, 1, 6),\n",
        "                      (x2, 1, 6),\n",
        "                      (x1, 1, 6))\n",
        "# Note: we use float(res) to convert res from symbolic form to floating point form\n",
        "result = {}\n",
        "result[\"analytical\"] = res\n",
        "#print(\"Analytical result: {}\".format(result[\"analytical\"]))\n",
        "print(float(res))"
      ],
      "execution_count": null,
      "outputs": [
        {
          "output_type": "stream",
          "text": [
            "1.395706532577266e+89\n"
          ],
          "name": "stdout"
        }
      ]
    },
    {
      "cell_type": "markdown",
      "metadata": {
        "id": "hKiHVJPbbGxx"
      },
      "source": [
        "Integrando con el método Monte Carlo se tiene que:"
      ]
    },
    {
      "cell_type": "code",
      "metadata": {
        "id": "vKrNP9NGbGxy",
        "outputId": "5f4b532d-d6dc-4ede-c4d1-839a07c57b6f",
        "colab": {
          "base_uri": "https://localhost:8080/"
        }
      },
      "source": [
        "import numpy\n",
        "import sympy\n",
        "import math\n",
        "N = 1_000_000\n",
        "accum = 0\n",
        "for i in range(N):\n",
        "    xx1 = numpy.random.uniform(1, 6)\n",
        "    xx2 = numpy.random.uniform(1, 6)\n",
        "    xx3 = numpy.random.uniform(1, 6)\n",
        "    accum += (math.e)**(xx1*xx2*xx3)\n",
        "volume = (6-1)*(6-1)*(6-1)\n",
        "result = {}\n",
        "result[\"MC\"] = volume * accum / float(N)\n",
        "print(\"Standard Monte Carlo result: {}\".format(result[\"MC\"]))"
      ],
      "execution_count": null,
      "outputs": [
        {
          "output_type": "stream",
          "text": [
            "Standard Monte Carlo result: 2.04293407173873e+89\n"
          ],
          "name": "stdout"
        }
      ]
    },
    {
      "cell_type": "code",
      "metadata": {
        "id": "_dQz7dl7DHDS"
      },
      "source": [
        ""
      ],
      "execution_count": null,
      "outputs": []
    }
  ]
}