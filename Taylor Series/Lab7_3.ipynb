{
  "nbformat": 4,
  "nbformat_minor": 0,
  "metadata": {
    "colab": {
      "name": "Lab7_3.ipynb",
      "provenance": [],
      "authorship_tag": "ABX9TyPTTEyyJb9Tmk84a2YPrjzv",
      "include_colab_link": true
    },
    "kernelspec": {
      "name": "python3",
      "display_name": "Python 3"
    }
  },
  "cells": [
    {
      "cell_type": "markdown",
      "metadata": {
        "id": "view-in-github",
        "colab_type": "text"
      },
      "source": [
        "<a href=\"https://colab.research.google.com/github/juacostar/MetNumUN2020II/blob/master/Taylor%20Series/Lab7_3.ipynb\" target=\"_parent\"><img src=\"https://colab.research.google.com/assets/colab-badge.svg\" alt=\"Open In Colab\"/></a>"
      ]
    },
    {
      "cell_type": "markdown",
      "metadata": {
        "id": "OwVCWYARLWfa"
      },
      "source": [
        "## Laboratorio 7 notebook 3\n",
        "* Juan Camilo Acosta Rojas"
      ]
    },
    {
      "cell_type": "markdown",
      "metadata": {
        "id": "SGI2j92vL-zj"
      },
      "source": [
        "### Serie de Taylor de $f(x)=sen(x)$:"
      ]
    },
    {
      "cell_type": "code",
      "metadata": {
        "id": "c8Raf0FuLVtN"
      },
      "source": [
        "import math\n",
        "\n",
        "def func_sen(x, n):\n",
        "    sen_approx = 0\n",
        "    for i in range(n):\n",
        "        coef = (-1)**i\n",
        "        num = x**(2*i + 1)\n",
        "        denom = math.factorial(2*i + 1)\n",
        "        sen_approx += ( coef ) * ( (num)/(denom) )\n",
        "    \n",
        "    return sen_approx"
      ],
      "execution_count": 1,
      "outputs": []
    },
    {
      "cell_type": "code",
      "metadata": {
        "colab": {
          "base_uri": "https://localhost:8080/"
        },
        "id": "onc0H3jGMkKH",
        "outputId": "082e333e-0ac4-425f-820f-7a873ec34455"
      },
      "source": [
        "angle_rad = (math.radians(45))\n",
        "out = func_sen(angle_rad,5)\n",
        "print(out)"
      ],
      "execution_count": 2,
      "outputs": [
        {
          "output_type": "stream",
          "text": [
            "0.7071067829368671\n"
          ],
          "name": "stdout"
        }
      ]
    },
    {
      "cell_type": "markdown",
      "metadata": {
        "id": "UAtktttEMml0"
      },
      "source": [
        "El valor con la librería math es:"
      ]
    },
    {
      "cell_type": "code",
      "metadata": {
        "colab": {
          "base_uri": "https://localhost:8080/"
        },
        "id": "QoauG9PXMpfw",
        "outputId": "e93ec7b9-cc9f-4e1f-b45d-b3a3cdf3d37e"
      },
      "source": [
        "out = math.sin(angle_rad)\n",
        "print(out)"
      ],
      "execution_count": 3,
      "outputs": [
        {
          "output_type": "stream",
          "text": [
            "0.7071067811865475\n"
          ],
          "name": "stdout"
        }
      ]
    },
    {
      "cell_type": "markdown",
      "metadata": {
        "id": "hLYVAfVGMu-U"
      },
      "source": [
        "Para la serie de Taylor de $f(x) = sen(x)$ sobre $c=0$ (Maclaurin) es:\\\n",
        "* $E_{n} = \\frac{f^{n+1}(\\xi)}{(n+1)!}(x-c)^{n+1} = (-1)^{n+1}\\frac{x^{2n+3}}{(2n+3)!}$ \\\n",
        "* Si se desea que $E_n \\leq \\xi$, se necesita un n tal que: \\\n",
        "$(-1)^{n+1}\\frac{x^{2n+3}}{(2n+3)!} \\leq \\xi$"
      ]
    },
    {
      "cell_type": "code",
      "metadata": {
        "colab": {
          "base_uri": "https://localhost:8080/"
        },
        "id": "3CbagrCDPw1M",
        "outputId": "6cc553d2-8544-48a1-e43a-d8bb54484a60"
      },
      "source": [
        "import math\n",
        "\n",
        "x = (math.radians(45))\n",
        "epsilon = 10**(-10)\n",
        "\n",
        "for k in range(1000):\n",
        "  if (  ( (x**(k+1)) / math.factorial(k+1) ) < epsilon):\n",
        "    break\n",
        "print(k)\n",
        "\n",
        "sen_x = 0\n",
        "for i in range(k):\n",
        "    print(i,' ',sen_x, ' delta ', abs((-1)**i*(x**(2*i+1)) / math.factorial(2*i+1)))\n",
        "    sen_x += (-1)**i*(x**(2*i+1)) / math.factorial(2*i+1)\n",
        "    \n",
        "print('math.sin(45°) = ',math.sin(x))"
      ],
      "execution_count": 19,
      "outputs": [
        {
          "output_type": "stream",
          "text": [
            "12\n",
            "0   0  delta  0.7853981633974483\n",
            "1   0.7853981633974483  delta  0.08074551218828077\n",
            "2   0.7046526512091675  delta  0.00249039457019272\n",
            "3   0.7071430457793603  delta  3.657620418217724e-05\n",
            "4   0.7071064695751781  delta  3.13361689037812e-07\n",
            "5   0.7071067829368671  delta  1.7572476734434003e-09\n",
            "6   0.7071067811796194  delta  6.948453273886626e-12\n",
            "7   0.7071067811865679  delta  2.041026339664143e-14\n",
            "8   0.7071067811865475  delta  4.6287046288346804e-17\n",
            "9   0.7071067811865475  delta  8.348589834811667e-20\n",
            "10   0.7071067811865475  delta  1.2261499847700463e-22\n",
            "11   0.7071067811865475  delta  1.494764733952828e-25\n",
            "math.sin(45°) =  0.7071067811865475\n"
          ],
          "name": "stdout"
        }
      ]
    },
    {
      "cell_type": "code",
      "metadata": {
        "colab": {
          "base_uri": "https://localhost:8080/"
        },
        "id": "XAyITPLUakPl",
        "outputId": "f8b04c0c-390f-4f82-a14f-c157f8d46c76"
      },
      "source": [
        "import math\n",
        "\n",
        "x = (math.radians(45))\n",
        "epsilon = 10**(-20)\n",
        "delta = 1\n",
        "sen_x = 0\n",
        "i = 0\n",
        "\n",
        "while  epsilon <= delta:\n",
        "  delta = abs((-1)**i*(x**(2*i+1)) / math.factorial(2*i+1))\n",
        "  if i%2 == 0:\n",
        "    sen_x += delta\n",
        "  else:\n",
        "    sen_x -= delta\n",
        "  i = i+1\n",
        "print(i-1) \n",
        "print('sen_x = ',sen_x)   \n",
        "    \n",
        "print('math.sin(45°) = ',math.sin(x))"
      ],
      "execution_count": 36,
      "outputs": [
        {
          "output_type": "stream",
          "text": [
            "10\n",
            "sen_x =  0.7071067811865475\n",
            "math.sin(45°) =  0.7071067811865475\n"
          ],
          "name": "stdout"
        }
      ]
    },
    {
      "cell_type": "markdown",
      "metadata": {
        "id": "MciMx0AfdfQv"
      },
      "source": [
        "### Serie de Taylor de  $f(x) = ln(x+1)$:"
      ]
    },
    {
      "cell_type": "code",
      "metadata": {
        "id": "YXs8MUu9dwuN"
      },
      "source": [
        "import math\n",
        "\n",
        "def func_ln1x(x, n):\n",
        "    ln_approx = 0\n",
        "    for i in range(1,n):\n",
        "        coef = (-1)**(i-1)\n",
        "        num = x**(i)\n",
        "        denom = i\n",
        "        ln_approx += ( coef ) * ( (num)/(denom) )\n",
        "    \n",
        "    return ln_approx"
      ],
      "execution_count": 37,
      "outputs": []
    },
    {
      "cell_type": "code",
      "metadata": {
        "colab": {
          "base_uri": "https://localhost:8080/"
        },
        "id": "Wuleej_Bdy6N",
        "outputId": "b0302a55-4894-4eb2-8ab1-b38a4fe67e6c"
      },
      "source": [
        "out = func_ln1x(0.5,10)\n",
        "print(out)"
      ],
      "execution_count": 38,
      "outputs": [
        {
          "output_type": "stream",
          "text": [
            "0.4055323040674603\n"
          ],
          "name": "stdout"
        }
      ]
    },
    {
      "cell_type": "markdown",
      "metadata": {
        "id": "kI_zobxNdz6V"
      },
      "source": [
        "Usando la librería math se tiene que:"
      ]
    },
    {
      "cell_type": "code",
      "metadata": {
        "colab": {
          "base_uri": "https://localhost:8080/"
        },
        "id": "BKaQqAqHd2qB",
        "outputId": "eac86787-84a1-48ad-fb83-8200810bef0e"
      },
      "source": [
        "out = math.log(1+0.5)\n",
        "print(out)"
      ],
      "execution_count": 39,
      "outputs": [
        {
          "output_type": "stream",
          "text": [
            "0.4054651081081644\n"
          ],
          "name": "stdout"
        }
      ]
    },
    {
      "cell_type": "markdown",
      "metadata": {
        "id": "WV63n-Q2eDbP"
      },
      "source": [
        "Para la serie de Taylor de $f(x) = ln(x+1)$ sobre $c=0$ (Maclaurin) es:\\\n",
        "* $E_{n} = \\frac{f^{n+1}(\\xi)}{(n+1)!}(x-c)^{n+1} = (-1)^{n-1}\\frac{x^{n+1}}{n+1}$ \\\n",
        "* Si se desea que $E_n \\leq \\xi$, se necesita un n tal que: \\\n",
        "$(-1)^{n-1}\\frac{x^{n+1}}{(n+1)} \\leq \\xi$"
      ]
    },
    {
      "cell_type": "code",
      "metadata": {
        "colab": {
          "base_uri": "https://localhost:8080/"
        },
        "id": "KsjMTPrFeyhe",
        "outputId": "0d4a4e40-7db6-4d85-b817-37ea019c695b"
      },
      "source": [
        "import math\n",
        "\n",
        "x = 0.5\n",
        "epsilon = 10**(-10)\n",
        "\n",
        "for k in range(1000):\n",
        "  if (  ( (x**(k+1)) / math.factorial(k+1) ) < epsilon):\n",
        "    break\n",
        "print(k)\n",
        "\n",
        "ln_x = 0\n",
        "for i in range(1,k):\n",
        "    print(i,' ',ln_x, ' delta ', abs((-1)**(i-1)*(x**(i)) / (i)))\n",
        "    ln_x += (-1)**(i-1)*(x**(i)) / (i)\n",
        "    \n",
        "print('math.log(1.5) = ',math.log(1+x))"
      ],
      "execution_count": 45,
      "outputs": [
        {
          "output_type": "stream",
          "text": [
            "10\n",
            "1   0  delta  0.5\n",
            "2   0.5  delta  0.125\n",
            "3   0.375  delta  0.041666666666666664\n",
            "4   0.4166666666666667  delta  0.015625\n",
            "5   0.4010416666666667  delta  0.00625\n",
            "6   0.40729166666666666  delta  0.0026041666666666665\n",
            "7   0.4046875  delta  0.0011160714285714285\n",
            "8   0.40580357142857143  delta  0.00048828125\n",
            "9   0.40531529017857143  delta  0.00021701388888888888\n",
            "math.log(1.5) =  0.4054651081081644\n"
          ],
          "name": "stdout"
        }
      ]
    },
    {
      "cell_type": "code",
      "metadata": {
        "colab": {
          "base_uri": "https://localhost:8080/"
        },
        "id": "9fG2lfPbgN8V",
        "outputId": "824a0f3c-09fa-4fe2-b6b3-08dc35431da0"
      },
      "source": [
        "import math\n",
        "\n",
        "x = 0.5\n",
        "epsilon = 10**(-10)\n",
        "delta = 1\n",
        "ln_x = 0\n",
        "i = 1\n",
        "\n",
        "while  epsilon <= delta:\n",
        "  delta = abs((-1)**(i-1)*(x**(i)) / (i))\n",
        "  if i%2 == 0:\n",
        "    ln_x -= delta\n",
        "  else:\n",
        "    ln_x += delta\n",
        "  i = i+1\n",
        "print(i-1) \n",
        "print('ln_x = ',ln_x)   \n",
        "    \n",
        "print('math.sin(1.5) = ',math.log(1+x))"
      ],
      "execution_count": 49,
      "outputs": [
        {
          "output_type": "stream",
          "text": [
            "29\n",
            "ln_x =  0.4054651081290877\n",
            "math.sin(1.5) =  0.4054651081081644\n"
          ],
          "name": "stdout"
        }
      ]
    }
  ]
}