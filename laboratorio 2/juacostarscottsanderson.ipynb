{
  "nbformat": 4,
  "nbformat_minor": 0,
  "metadata": {
    "colab": {
      "name": "juacostarscottsanderson.ipynb",
      "provenance": []
    },
    "kernelspec": {
      "name": "python3",
      "display_name": "Python 3"
    }
  },
  "cells": [
    {
      "cell_type": "code",
      "metadata": {
        "id": "RnWSzODXx9jB",
        "colab_type": "code",
        "colab": {
          "base_uri": "https://localhost:8080/",
          "height": 343
        },
        "outputId": "a8d29a8b-8cdb-4bb4-c783-bb2325ebac91"
      },
      "source": [
        "pip install -U fortran-magic"
      ],
      "execution_count": 1,
      "outputs": [
        {
          "output_type": "stream",
          "text": [
            "Collecting fortran-magic\n",
            "  Downloading https://files.pythonhosted.org/packages/53/b1/d664bd431354c450f40fa436b2c9306666cd417b23098dd5636751c557a4/fortran_magic-0.7-py3-none-any.whl\n",
            "Requirement already satisfied, skipping upgrade: numpy in /usr/local/lib/python3.6/dist-packages (from fortran-magic) (1.18.5)\n",
            "Requirement already satisfied, skipping upgrade: ipython in /usr/local/lib/python3.6/dist-packages (from fortran-magic) (5.5.0)\n",
            "Requirement already satisfied, skipping upgrade: prompt-toolkit<2.0.0,>=1.0.4 in /usr/local/lib/python3.6/dist-packages (from ipython->fortran-magic) (1.0.18)\n",
            "Requirement already satisfied, skipping upgrade: simplegeneric>0.8 in /usr/local/lib/python3.6/dist-packages (from ipython->fortran-magic) (0.8.1)\n",
            "Requirement already satisfied, skipping upgrade: pickleshare in /usr/local/lib/python3.6/dist-packages (from ipython->fortran-magic) (0.7.5)\n",
            "Requirement already satisfied, skipping upgrade: pygments in /usr/local/lib/python3.6/dist-packages (from ipython->fortran-magic) (2.1.3)\n",
            "Requirement already satisfied, skipping upgrade: decorator in /usr/local/lib/python3.6/dist-packages (from ipython->fortran-magic) (4.4.2)\n",
            "Requirement already satisfied, skipping upgrade: pexpect; sys_platform != \"win32\" in /usr/local/lib/python3.6/dist-packages (from ipython->fortran-magic) (4.8.0)\n",
            "Requirement already satisfied, skipping upgrade: setuptools>=18.5 in /usr/local/lib/python3.6/dist-packages (from ipython->fortran-magic) (49.6.0)\n",
            "Requirement already satisfied, skipping upgrade: traitlets>=4.2 in /usr/local/lib/python3.6/dist-packages (from ipython->fortran-magic) (4.3.3)\n",
            "Requirement already satisfied, skipping upgrade: wcwidth in /usr/local/lib/python3.6/dist-packages (from prompt-toolkit<2.0.0,>=1.0.4->ipython->fortran-magic) (0.2.5)\n",
            "Requirement already satisfied, skipping upgrade: six>=1.9.0 in /usr/local/lib/python3.6/dist-packages (from prompt-toolkit<2.0.0,>=1.0.4->ipython->fortran-magic) (1.15.0)\n",
            "Requirement already satisfied, skipping upgrade: ptyprocess>=0.5 in /usr/local/lib/python3.6/dist-packages (from pexpect; sys_platform != \"win32\"->ipython->fortran-magic) (0.6.0)\n",
            "Requirement already satisfied, skipping upgrade: ipython-genutils in /usr/local/lib/python3.6/dist-packages (from traitlets>=4.2->ipython->fortran-magic) (0.2.0)\n",
            "Installing collected packages: fortran-magic\n",
            "Successfully installed fortran-magic-0.7\n"
          ],
          "name": "stdout"
        }
      ]
    },
    {
      "cell_type": "code",
      "metadata": {
        "id": "YBxjdblMy4jn",
        "colab_type": "code",
        "colab": {
          "base_uri": "https://localhost:8080/",
          "height": 71
        },
        "outputId": "e1e7344d-1d0f-4749-aa6b-1a335bdb804a"
      },
      "source": [
        "%reload_ext fortranmagic"
      ],
      "execution_count": 2,
      "outputs": [
        {
          "output_type": "stream",
          "text": [
            "/usr/local/lib/python3.6/dist-packages/fortranmagic.py:147: UserWarning: get_ipython_cache_dir has moved to the IPython.paths module since IPython 4.0.\n",
            "  self._lib_dir = os.path.join(get_ipython_cache_dir(), 'fortran')\n"
          ],
          "name": "stderr"
        },
        {
          "output_type": "display_data",
          "data": {
            "application/javascript": [
              "$.getScript(\"https://raw.github.com/marijnh/CodeMirror/master/mode/fortran/fortran.js\", function () {\n",
              "IPython.config.cell_magic_highlight['magic_fortran'] = {'reg':[/^%%fortran/]};});\n"
            ]
          },
          "metadata": {
            "tags": []
          }
        }
      ]
    },
    {
      "cell_type": "markdown",
      "metadata": {
        "id": "E0GnQIuTwPfd",
        "colab_type": "text"
      },
      "source": [
        "Listas\n"
      ]
    },
    {
      "cell_type": "code",
      "metadata": {
        "id": "McXxKQoVy7Pq",
        "colab_type": "code",
        "colab": {
          "base_uri": "https://localhost:8080/",
          "height": 34
        },
        "outputId": "252dd6d2-5c1c-4a1d-938b-db216adc8f2a"
      },
      "source": [
        "lista = ['proof', 0, True, 'of', 'list', 45]\n",
        "lista"
      ],
      "execution_count": 3,
      "outputs": [
        {
          "output_type": "execute_result",
          "data": {
            "text/plain": [
              "['proof', 0, True, 'of', 'list', 45]"
            ]
          },
          "metadata": {
            "tags": []
          },
          "execution_count": 3
        }
      ]
    },
    {
      "cell_type": "code",
      "metadata": {
        "id": "MG0J9kjAzjO9",
        "colab_type": "code",
        "colab": {
          "base_uri": "https://localhost:8080/",
          "height": 34
        },
        "outputId": "060c1715-bf41-4507-b61e-cadd0e3d10f2"
      },
      "source": [
        "lista_object = ['proof', 0, True, 'of', 'list', 45, object()]\n",
        "lista_object"
      ],
      "execution_count": 4,
      "outputs": [
        {
          "output_type": "execute_result",
          "data": {
            "text/plain": [
              "['proof', 0, True, 'of', 'list', 45, <object at 0x7f21ea85a8c0>]"
            ]
          },
          "metadata": {
            "tags": []
          },
          "execution_count": 4
        }
      ]
    },
    {
      "cell_type": "code",
      "metadata": {
        "id": "QXOOOIZl09R9",
        "colab_type": "code",
        "colab": {
          "base_uri": "https://localhost:8080/",
          "height": 51
        },
        "outputId": "c5bae4cf-7735-453c-879d-b89f42d192aa"
      },
      "source": [
        "firstLista = lista[0]\n",
        "secondLista = lista[1]\n",
        "print(\"First element of lista: \", firstLista)\n",
        "print(\"Second element of lista: \", secondLista)"
      ],
      "execution_count": 5,
      "outputs": [
        {
          "output_type": "stream",
          "text": [
            "First element of lista:  proof\n",
            "Second element of lista:  0\n"
          ],
          "name": "stdout"
        }
      ]
    },
    {
      "cell_type": "code",
      "metadata": {
        "id": "KrPOVHIj1Veb",
        "colab_type": "code",
        "colab": {
          "base_uri": "https://localhost:8080/",
          "height": 51
        },
        "outputId": "4f6b5005-8a51-43f8-d0e4-6eba1f0ea1cc"
      },
      "source": [
        "lastLista = lista[-1]\n",
        "antepenultimateLista = lista[-3]\n",
        "print('last of lista:', lastLista)\n",
        "print('third of lista:', antepenultimateLista)"
      ],
      "execution_count": 6,
      "outputs": [
        {
          "output_type": "stream",
          "text": [
            "last of lista: 45\n",
            "third of lista: of\n"
          ],
          "name": "stdout"
        }
      ]
    },
    {
      "cell_type": "code",
      "metadata": {
        "id": "FQXnqtFR1vzk",
        "colab_type": "code",
        "colab": {
          "base_uri": "https://localhost:8080/",
          "height": 34
        },
        "outputId": "0a8c2c96-f887-4542-90ec-30e65466174c"
      },
      "source": [
        "subLista= lista[2:5]\n",
        "subLista"
      ],
      "execution_count": 7,
      "outputs": [
        {
          "output_type": "execute_result",
          "data": {
            "text/plain": [
              "[True, 'of', 'list']"
            ]
          },
          "metadata": {
            "tags": []
          },
          "execution_count": 7
        }
      ]
    },
    {
      "cell_type": "code",
      "metadata": {
        "id": "_Gkhl99Q2nQu",
        "colab_type": "code",
        "colab": {
          "base_uri": "https://localhost:8080/",
          "height": 34
        },
        "outputId": "d66cd2bf-f244-4417-995f-afdc9506c6f2"
      },
      "source": [
        "first_two = lista[:2]\n",
        "first_two"
      ],
      "execution_count": 8,
      "outputs": [
        {
          "output_type": "execute_result",
          "data": {
            "text/plain": [
              "['proof', 0]"
            ]
          },
          "metadata": {
            "tags": []
          },
          "execution_count": 8
        }
      ]
    },
    {
      "cell_type": "code",
      "metadata": {
        "id": "u1jSqwqe22gG",
        "colab_type": "code",
        "colab": {
          "base_uri": "https://localhost:8080/",
          "height": 34
        },
        "outputId": "fa486cd7-5070-4884-8992-413c03dcb646"
      },
      "source": [
        "after_two = lista[2:]\n",
        "after_two"
      ],
      "execution_count": 9,
      "outputs": [
        {
          "output_type": "execute_result",
          "data": {
            "text/plain": [
              "[True, 'of', 'list', 45]"
            ]
          },
          "metadata": {
            "tags": []
          },
          "execution_count": 9
        }
      ]
    },
    {
      "cell_type": "code",
      "metadata": {
        "id": "X8pp6W3k29o_",
        "colab_type": "code",
        "colab": {
          "base_uri": "https://localhost:8080/",
          "height": 34
        },
        "outputId": "275d58c5-a102-4e77-d849-29504ebc2af9"
      },
      "source": [
        "lista = ['0','1','2','3','4','5','6', '7', '8', '9', '10']\n",
        "lista[1:6:2]"
      ],
      "execution_count": 10,
      "outputs": [
        {
          "output_type": "execute_result",
          "data": {
            "text/plain": [
              "['1', '3', '5']"
            ]
          },
          "metadata": {
            "tags": []
          },
          "execution_count": 10
        }
      ]
    },
    {
      "cell_type": "code",
      "metadata": {
        "id": "4bwxEMPh4nym",
        "colab_type": "code",
        "colab": {
          "base_uri": "https://localhost:8080/",
          "height": 51
        },
        "outputId": "2386f7cb-aa51-4dfa-9da0-791ef34d6550"
      },
      "source": [
        "lista = [True, False, 'lista', 23, 8.9, True]\n",
        "print(\"lista before\", lista)\n",
        "lista.append(45)\n",
        "print(\"lista after\", lista)"
      ],
      "execution_count": 11,
      "outputs": [
        {
          "output_type": "stream",
          "text": [
            "lista before [True, False, 'lista', 23, 8.9, True]\n",
            "lista after [True, False, 'lista', 23, 8.9, True, 45]\n"
          ],
          "name": "stdout"
        }
      ]
    },
    {
      "cell_type": "code",
      "metadata": {
        "id": "fZYd49MZ5HmQ",
        "colab_type": "code",
        "colab": {
          "base_uri": "https://localhost:8080/",
          "height": 34
        },
        "outputId": "e6a4eda8-e0ef-4f68-cd11-854d3e107f6f"
      },
      "source": [
        "lista = [23.5, 56.7, 45, 9, 1, 3, 2.9]\n",
        "[n+4 for n in lista]"
      ],
      "execution_count": 12,
      "outputs": [
        {
          "output_type": "execute_result",
          "data": {
            "text/plain": [
              "[27.5, 60.7, 49, 13, 5, 7, 6.9]"
            ]
          },
          "metadata": {
            "tags": []
          },
          "execution_count": 12
        }
      ]
    },
    {
      "cell_type": "markdown",
      "metadata": {
        "id": "a39voGAXwUh7",
        "colab_type": "text"
      },
      "source": [
        "Diccionarios\n"
      ]
    },
    {
      "cell_type": "code",
      "metadata": {
        "id": "0WGghtMT660i",
        "colab_type": "code",
        "colab": {
          "base_uri": "https://localhost:8080/",
          "height": 85
        },
        "outputId": "40d9a287-f1cb-4dbc-e43e-a28bbc6e5db9"
      },
      "source": [
        "diccionario = {'Juan': 'Gonzales', 'Ricardo': 'fernandez', 'luis': 'rojas', 'pablo': 'gutierrez'}\n",
        "diccionario"
      ],
      "execution_count": 13,
      "outputs": [
        {
          "output_type": "execute_result",
          "data": {
            "text/plain": [
              "{'Juan': 'Gonzales',\n",
              " 'Ricardo': 'fernandez',\n",
              " 'luis': 'rojas',\n",
              " 'pablo': 'gutierrez'}"
            ]
          },
          "metadata": {
            "tags": []
          },
          "execution_count": 13
        }
      ]
    },
    {
      "cell_type": "code",
      "metadata": {
        "id": "SgBTPxSbSZ5t",
        "colab_type": "code",
        "colab": {
          "base_uri": "https://localhost:8080/",
          "height": 102
        },
        "outputId": "f1361715-66d8-477d-f03d-b9764012e25b"
      },
      "source": [
        "diccionario['walter'] = 'morales'\n",
        "diccionario"
      ],
      "execution_count": 14,
      "outputs": [
        {
          "output_type": "execute_result",
          "data": {
            "text/plain": [
              "{'Juan': 'Gonzales',\n",
              " 'Ricardo': 'fernandez',\n",
              " 'luis': 'rojas',\n",
              " 'pablo': 'gutierrez',\n",
              " 'walter': 'morales'}"
            ]
          },
          "metadata": {
            "tags": []
          },
          "execution_count": 14
        }
      ]
    },
    {
      "cell_type": "code",
      "metadata": {
        "id": "1pOUbdRSSxHP",
        "colab_type": "code",
        "colab": {
          "base_uri": "https://localhost:8080/",
          "height": 85
        },
        "outputId": "dbe67b84-8c94-43ab-b22b-96c495b780ff"
      },
      "source": [
        "del diccionario['Juan']\n",
        "diccionario"
      ],
      "execution_count": 15,
      "outputs": [
        {
          "output_type": "execute_result",
          "data": {
            "text/plain": [
              "{'Ricardo': 'fernandez',\n",
              " 'luis': 'rojas',\n",
              " 'pablo': 'gutierrez',\n",
              " 'walter': 'morales'}"
            ]
          },
          "metadata": {
            "tags": []
          },
          "execution_count": 15
        }
      ]
    },
    {
      "cell_type": "code",
      "metadata": {
        "id": "90L9DRpXTORb",
        "colab_type": "code",
        "colab": {
          "base_uri": "https://localhost:8080/",
          "height": 163
        },
        "outputId": "b4a57d3c-a3d0-4f71-91ca-daa6385c1cbc"
      },
      "source": [
        "diccionario['Ricardo':'Pablo']"
      ],
      "execution_count": 16,
      "outputs": [
        {
          "output_type": "error",
          "ename": "TypeError",
          "evalue": "ignored",
          "traceback": [
            "\u001b[0;31m---------------------------------------------------------------------------\u001b[0m",
            "\u001b[0;31mTypeError\u001b[0m                                 Traceback (most recent call last)",
            "\u001b[0;32m<ipython-input-16-4b4dbde4c446>\u001b[0m in \u001b[0;36m<module>\u001b[0;34m()\u001b[0m\n\u001b[0;32m----> 1\u001b[0;31m \u001b[0mdiccionario\u001b[0m\u001b[0;34m[\u001b[0m\u001b[0;34m'Ricardo'\u001b[0m\u001b[0;34m:\u001b[0m\u001b[0;34m'Pablo'\u001b[0m\u001b[0;34m]\u001b[0m\u001b[0;34m\u001b[0m\u001b[0;34m\u001b[0m\u001b[0m\n\u001b[0m",
            "\u001b[0;31mTypeError\u001b[0m: unhashable type: 'slice'"
          ]
        }
      ]
    },
    {
      "cell_type": "markdown",
      "metadata": {
        "id": "f1h1XhnrwbWB",
        "colab_type": "text"
      },
      "source": [
        "Matrices: Lista de listas"
      ]
    },
    {
      "cell_type": "code",
      "metadata": {
        "id": "OGZkEm-fTmj_",
        "colab_type": "code",
        "colab": {}
      },
      "source": [
        "a = [\n",
        "     [2.1 , 5 , 9],\n",
        "     [3, 8, 12],\n",
        "     [9.7, 65, 2]\n",
        "]\n",
        "b = [\n",
        "   [1, 5, 78],\n",
        "   [8, 34, 11],\n",
        "   [3, 9, 34] \n",
        "]"
      ],
      "execution_count": 17,
      "outputs": []
    },
    {
      "cell_type": "code",
      "metadata": {
        "id": "1xc5ZAwr36gX",
        "colab_type": "code",
        "colab": {}
      },
      "source": [
        "def prod(A,B):\n",
        "  rows = len(A)\n",
        "  cols = len(B[0])\n",
        "  result = [[0 for col in range(cols)] for row in range(rows)]\n",
        "    \n",
        "  for i in range(rows):\n",
        "      for j in range(cols):\n",
        "          for k in range(len(B)):\n",
        "              result[i][j] += A[i][k] * B[k][j]\n",
        "  return result"
      ],
      "execution_count": 18,
      "outputs": []
    },
    {
      "cell_type": "code",
      "metadata": {
        "id": "M3FIH3kg5A6Z",
        "colab_type": "code",
        "colab": {
          "base_uri": "https://localhost:8080/",
          "height": 68
        },
        "outputId": "db4e4d23-cb22-4d8d-ce4a-286f80b11db1"
      },
      "source": [
        "%%time\n",
        "\n",
        "prod(a,b)"
      ],
      "execution_count": 19,
      "outputs": [
        {
          "output_type": "stream",
          "text": [
            "CPU times: user 26 µs, sys: 5 µs, total: 31 µs\n",
            "Wall time: 34.3 µs\n"
          ],
          "name": "stdout"
        },
        {
          "output_type": "execute_result",
          "data": {
            "text/plain": [
              "[[69.1, 261.5, 524.8], [103, 395, 730], [535.7, 2276.5, 1539.6]]"
            ]
          },
          "metadata": {
            "tags": []
          },
          "execution_count": 19
        }
      ]
    },
    {
      "cell_type": "code",
      "metadata": {
        "id": "gMho3Ut85bxw",
        "colab_type": "code",
        "colab": {
          "base_uri": "https://localhost:8080/",
          "height": 187
        },
        "outputId": "560f3086-16b7-47e0-9b49-31516c4f342e"
      },
      "source": [
        "import random\n",
        "def matriz_random(f, c):\n",
        "    matrix = []\n",
        "    for fila in range(f):\n",
        "        matrix.append([random.random() for _ in range(c)])\n",
        "    return matrix\n",
        "\n",
        "matrixP = matriz_random(2, 5)\n",
        "matrixP"
      ],
      "execution_count": 20,
      "outputs": [
        {
          "output_type": "execute_result",
          "data": {
            "text/plain": [
              "[[0.15173238186722238,\n",
              "  0.5538606914132193,\n",
              "  0.5063497273049994,\n",
              "  0.5842218588925092,\n",
              "  0.6295014091243681],\n",
              " [0.6098025232204444,\n",
              "  0.5602202776555865,\n",
              "  0.32646238524940063,\n",
              "  0.008022938471458185,\n",
              "  0.5530601384631059]]"
            ]
          },
          "metadata": {
            "tags": []
          },
          "execution_count": 20
        }
      ]
    },
    {
      "cell_type": "code",
      "metadata": {
        "id": "5Y2z6PPZ6lpT",
        "colab_type": "code",
        "colab": {
          "base_uri": "https://localhost:8080/",
          "height": 51
        },
        "outputId": "86c595dc-c970-49d3-8875-4cedc944cb23"
      },
      "source": [
        "%%time\n",
        "randomA = matriz_random(300, 700)\n",
        "randomB = matriz_random(700, 120)\n",
        "x = prod(randomA, randomB)"
      ],
      "execution_count": 21,
      "outputs": [
        {
          "output_type": "stream",
          "text": [
            "CPU times: user 5.03 s, sys: 4.66 ms, total: 5.03 s\n",
            "Wall time: 5.07 s\n"
          ],
          "name": "stdout"
        }
      ]
    },
    {
      "cell_type": "code",
      "metadata": {
        "id": "iPXTH2Sf9LpG",
        "colab_type": "code",
        "colab": {}
      },
      "source": [
        "def dot_product(a, b):\n",
        "    return sum(a * b for a, b in zip(a, b))"
      ],
      "execution_count": 22,
      "outputs": []
    },
    {
      "cell_type": "code",
      "metadata": {
        "id": "ITFTodzF9uxT",
        "colab_type": "code",
        "colab": {}
      },
      "source": [
        "%%fortran\n",
        "subroutine dot_product_withFortran(x, y, resultFortran)\n",
        "    double precision, intent(in) :: x(:)\n",
        "    double precision, intent(in) :: y(:)\n",
        "    double precision, intent(out) :: resultFortran\n",
        "    \n",
        "    resultFortran = sum(x * y)\n",
        "end\n"
      ],
      "execution_count": 23,
      "outputs": []
    },
    {
      "cell_type": "code",
      "metadata": {
        "id": "fCnoytFy_px_",
        "colab_type": "code",
        "colab": {}
      },
      "source": [
        "import numpy as np\n",
        "dataP = [float(j) for j in range(600000)]\n",
        "dataP = np.array(dataP)"
      ],
      "execution_count": 24,
      "outputs": []
    },
    {
      "cell_type": "code",
      "metadata": {
        "id": "A2wBIrGcAaqg",
        "colab_type": "code",
        "colab": {
          "base_uri": "https://localhost:8080/",
          "height": 68
        },
        "outputId": "d987acd9-9e4a-450d-9e41-4f3e77be2542"
      },
      "source": [
        "%%time\n",
        "dot_product(dataP, dataP)"
      ],
      "execution_count": 25,
      "outputs": [
        {
          "output_type": "stream",
          "text": [
            "CPU times: user 265 ms, sys: 1.97 ms, total: 267 ms\n",
            "Wall time: 271 ms\n"
          ],
          "name": "stdout"
        },
        {
          "output_type": "execute_result",
          "data": {
            "text/plain": [
              "7.19998199998264e+16"
            ]
          },
          "metadata": {
            "tags": []
          },
          "execution_count": 25
        }
      ]
    },
    {
      "cell_type": "code",
      "metadata": {
        "id": "-PEN_FJwAm0m",
        "colab_type": "code",
        "colab": {
          "base_uri": "https://localhost:8080/",
          "height": 68
        },
        "outputId": "8569797f-addd-4c25-c122-a16d28e87bd2"
      },
      "source": [
        "%%time\n",
        "dot_product_withfortran(dataP, dataP)"
      ],
      "execution_count": 26,
      "outputs": [
        {
          "output_type": "stream",
          "text": [
            "CPU times: user 1.57 ms, sys: 38 µs, total: 1.61 ms\n",
            "Wall time: 6.02 ms\n"
          ],
          "name": "stdout"
        },
        {
          "output_type": "execute_result",
          "data": {
            "text/plain": [
              "7.19998199998264e+16"
            ]
          },
          "metadata": {
            "tags": []
          },
          "execution_count": 26
        }
      ]
    },
    {
      "cell_type": "markdown",
      "metadata": {
        "id": "vDC5POmq3MAu",
        "colab_type": "text"
      },
      "source": [
        "### ¿Por qué python es mas lento?"
      ]
    },
    {
      "cell_type": "code",
      "metadata": {
        "id": "Y07fsLjTx3Vq",
        "colab_type": "code",
        "colab": {
          "base_uri": "https://localhost:8080/",
          "height": 34
        },
        "outputId": "c8097486-ee4e-4401-f8b2-88ecbfc46765"
      },
      "source": [
        "def mulWithZip(a,b):\n",
        "  return[a*b for a,b in zip(a,b)]\n",
        "mulWithZip([12, 'example', 'a', 7], [1, 4, 2, (3 + 2j), 1.3])"
      ],
      "execution_count": 27,
      "outputs": [
        {
          "output_type": "execute_result",
          "data": {
            "text/plain": [
              "[12, 'exampleexampleexampleexample', 'aa', (21+14j)]"
            ]
          },
          "metadata": {
            "tags": []
          },
          "execution_count": 27
        }
      ]
    },
    {
      "cell_type": "markdown",
      "metadata": {
        "id": "Q0Xj63HCC4Ho",
        "colab_type": "text"
      },
      "source": [
        "Usando compilador bytecode"
      ]
    },
    {
      "cell_type": "code",
      "metadata": {
        "id": "9v_gmBU8CUUL",
        "colab_type": "code",
        "colab": {
          "base_uri": "https://localhost:8080/",
          "height": 187
        },
        "outputId": "3ad6ef11-b6ec-435f-b3f7-8ff7a0746e62"
      },
      "source": [
        "import py_compile\n",
        "import dis\n",
        "code = 'a*3 + 2*(b-c)'\n",
        "compileCode = compile(code, '', 'eval')\n",
        "dis.dis(compileCode)"
      ],
      "execution_count": 28,
      "outputs": [
        {
          "output_type": "stream",
          "text": [
            "  1           0 LOAD_NAME                0 (a)\n",
            "              2 LOAD_CONST               0 (3)\n",
            "              4 BINARY_MULTIPLY\n",
            "              6 LOAD_CONST               1 (2)\n",
            "              8 LOAD_NAME                1 (b)\n",
            "             10 LOAD_NAME                2 (c)\n",
            "             12 BINARY_SUBTRACT\n",
            "             14 BINARY_MULTIPLY\n",
            "             16 BINARY_ADD\n",
            "             18 RETURN_VALUE\n"
          ],
          "name": "stdout"
        }
      ]
    },
    {
      "cell_type": "markdown",
      "metadata": {
        "id": "ZF8C0rhhC_px",
        "colab_type": "text"
      },
      "source": [
        "Usos de Python con numpy"
      ]
    },
    {
      "cell_type": "code",
      "metadata": {
        "id": "U8nJEDyMDCBT",
        "colab_type": "code",
        "colab": {
          "base_uri": "https://localhost:8080/",
          "height": 34
        },
        "outputId": "626beaa8-de60-4a1b-a4fa-421c5468fc43"
      },
      "source": [
        "import numpy as np\n",
        "dataP = np.array([2.3, 5, 9, 12.5])\n",
        "dataP"
      ],
      "execution_count": 29,
      "outputs": [
        {
          "output_type": "execute_result",
          "data": {
            "text/plain": [
              "array([ 2.3,  5. ,  9. , 12.5])"
            ]
          },
          "metadata": {
            "tags": []
          },
          "execution_count": 29
        }
      ]
    },
    {
      "cell_type": "code",
      "metadata": {
        "id": "SOE2BtDZDwTQ",
        "colab_type": "code",
        "colab": {
          "base_uri": "https://localhost:8080/",
          "height": 34
        },
        "outputId": "99924051-6d4f-4b16-9c04-4586af6564ec"
      },
      "source": [
        "dataP + dataP"
      ],
      "execution_count": 30,
      "outputs": [
        {
          "output_type": "execute_result",
          "data": {
            "text/plain": [
              "array([ 4.6, 10. , 18. , 25. ])"
            ]
          },
          "metadata": {
            "tags": []
          },
          "execution_count": 30
        }
      ]
    },
    {
      "cell_type": "code",
      "metadata": {
        "id": "7lunsB4nGKpv",
        "colab_type": "code",
        "colab": {
          "base_uri": "https://localhost:8080/",
          "height": 68
        },
        "outputId": "0e59129a-3254-43cf-dd19-4a9d1754516d"
      },
      "source": [
        "%%time\n",
        "(dataP * dataP).sum()"
      ],
      "execution_count": 31,
      "outputs": [
        {
          "output_type": "stream",
          "text": [
            "CPU times: user 93 µs, sys: 5 µs, total: 98 µs\n",
            "Wall time: 103 µs\n"
          ],
          "name": "stdout"
        },
        {
          "output_type": "execute_result",
          "data": {
            "text/plain": [
              "267.53999999999996"
            ]
          },
          "metadata": {
            "tags": []
          },
          "execution_count": 31
        }
      ]
    },
    {
      "cell_type": "markdown",
      "metadata": {
        "id": "-pYR338YGqCL",
        "colab_type": "text"
      },
      "source": [
        "Con la función dot"
      ]
    },
    {
      "cell_type": "code",
      "metadata": {
        "id": "74fvTh3xGrzC",
        "colab_type": "code",
        "colab": {
          "base_uri": "https://localhost:8080/",
          "height": 68
        },
        "outputId": "1d46a695-5eb0-44cf-fc07-60c1f7982857"
      },
      "source": [
        "%%time\n",
        "dataP.dot(dataP)"
      ],
      "execution_count": 32,
      "outputs": [
        {
          "output_type": "stream",
          "text": [
            "CPU times: user 36 µs, sys: 2 µs, total: 38 µs\n",
            "Wall time: 42.2 µs\n"
          ],
          "name": "stdout"
        },
        {
          "output_type": "execute_result",
          "data": {
            "text/plain": [
              "267.53999999999996"
            ]
          },
          "metadata": {
            "tags": []
          },
          "execution_count": 32
        }
      ]
    },
    {
      "cell_type": "code",
      "metadata": {
        "id": "GoICFcNOG4lv",
        "colab_type": "code",
        "colab": {
          "base_uri": "https://localhost:8080/",
          "height": 68
        },
        "outputId": "bf0157d8-edca-47bf-de02-e540fdf5aee7"
      },
      "source": [
        "%%time\n",
        "dot_product_withfortran(dataP, dataP)"
      ],
      "execution_count": 33,
      "outputs": [
        {
          "output_type": "stream",
          "text": [
            "CPU times: user 10 µs, sys: 0 ns, total: 10 µs\n",
            "Wall time: 13.8 µs\n"
          ],
          "name": "stdout"
        },
        {
          "output_type": "execute_result",
          "data": {
            "text/plain": [
              "267.53999999999996"
            ]
          },
          "metadata": {
            "tags": []
          },
          "execution_count": 33
        }
      ]
    },
    {
      "cell_type": "code",
      "metadata": {
        "id": "jF2OPKuAHYGD",
        "colab_type": "code",
        "colab": {
          "base_uri": "https://localhost:8080/",
          "height": 163
        },
        "outputId": "6f2a1b0b-c678-4d82-b2b1-4ee5d1eb4bc2"
      },
      "source": [
        "dataP[0] = 'text'"
      ],
      "execution_count": 34,
      "outputs": [
        {
          "output_type": "error",
          "ename": "ValueError",
          "evalue": "ignored",
          "traceback": [
            "\u001b[0;31m---------------------------------------------------------------------------\u001b[0m",
            "\u001b[0;31mValueError\u001b[0m                                Traceback (most recent call last)",
            "\u001b[0;32m<ipython-input-34-917c6eadd42b>\u001b[0m in \u001b[0;36m<module>\u001b[0;34m()\u001b[0m\n\u001b[0;32m----> 1\u001b[0;31m \u001b[0mdataP\u001b[0m\u001b[0;34m[\u001b[0m\u001b[0;36m0\u001b[0m\u001b[0;34m]\u001b[0m \u001b[0;34m=\u001b[0m \u001b[0;34m'text'\u001b[0m\u001b[0;34m\u001b[0m\u001b[0;34m\u001b[0m\u001b[0m\n\u001b[0m",
            "\u001b[0;31mValueError\u001b[0m: could not convert string to float: 'text'"
          ]
        }
      ]
    },
    {
      "cell_type": "markdown",
      "metadata": {
        "id": "LWARrzxSHzPk",
        "colab_type": "text"
      },
      "source": [
        "Aumentando el arreglo, no se puede"
      ]
    },
    {
      "cell_type": "code",
      "metadata": {
        "id": "LABBSqC5H2TH",
        "colab_type": "code",
        "colab": {
          "base_uri": "https://localhost:8080/",
          "height": 163
        },
        "outputId": "91543d28-33dc-40b7-ea24-781203b3fb19"
      },
      "source": [
        "dataP.append(8)"
      ],
      "execution_count": 35,
      "outputs": [
        {
          "output_type": "error",
          "ename": "AttributeError",
          "evalue": "ignored",
          "traceback": [
            "\u001b[0;31m---------------------------------------------------------------------------\u001b[0m",
            "\u001b[0;31mAttributeError\u001b[0m                            Traceback (most recent call last)",
            "\u001b[0;32m<ipython-input-35-27941cde4bad>\u001b[0m in \u001b[0;36m<module>\u001b[0;34m()\u001b[0m\n\u001b[0;32m----> 1\u001b[0;31m \u001b[0mdataP\u001b[0m\u001b[0;34m.\u001b[0m\u001b[0mappend\u001b[0m\u001b[0;34m(\u001b[0m\u001b[0;36m8\u001b[0m\u001b[0;34m)\u001b[0m\u001b[0;34m\u001b[0m\u001b[0;34m\u001b[0m\u001b[0m\n\u001b[0m",
            "\u001b[0;31mAttributeError\u001b[0m: 'numpy.ndarray' object has no attribute 'append'"
          ]
        }
      ]
    },
    {
      "cell_type": "code",
      "metadata": {
        "id": "eiiaZ0snIPFa",
        "colab_type": "code",
        "colab": {
          "base_uri": "https://localhost:8080/",
          "height": 51
        },
        "outputId": "59de3922-2ef5-4f42-8708-4819242bfc76"
      },
      "source": [
        "arrayTwo = dataP.reshape(2,2)\n",
        "arrayTwo"
      ],
      "execution_count": 36,
      "outputs": [
        {
          "output_type": "execute_result",
          "data": {
            "text/plain": [
              "array([[ 2.3,  5. ],\n",
              "       [ 9. , 12.5]])"
            ]
          },
          "metadata": {
            "tags": []
          },
          "execution_count": 36
        }
      ]
    },
    {
      "cell_type": "markdown",
      "metadata": {
        "id": "l4KmrrDeIjql",
        "colab_type": "text"
      },
      "source": [
        "Mirando adentro de un arreglo"
      ]
    },
    {
      "cell_type": "code",
      "metadata": {
        "id": "AJv8kiLbImgF",
        "colab_type": "code",
        "colab": {
          "base_uri": "https://localhost:8080/",
          "height": 153
        },
        "outputId": "fdc783ea-3583-490e-db29-e2c940fb5ef9"
      },
      "source": [
        "arreglo = np.array([34, 5, 8, 12, 0, 5], dtype='int16').reshape(2,3)\n",
        "print('arreglo\\n', arreglo, sep='')\n",
        "print('---------------')\n",
        "print('data type: ', arreglo.dtype)\n",
        "print('shape', arreglo.shape)\n",
        "print('strides', arreglo.strides)\n",
        "print('data in bytes', arreglo.data.tobytes())"
      ],
      "execution_count": 37,
      "outputs": [
        {
          "output_type": "stream",
          "text": [
            "arreglo\n",
            "[[34  5  8]\n",
            " [12  0  5]]\n",
            "---------------\n",
            "data type:  int16\n",
            "shape (2, 3)\n",
            "strides (6, 2)\n",
            "data in bytes b'\"\\x00\\x05\\x00\\x08\\x00\\x0c\\x00\\x00\\x00\\x05\\x00'\n"
          ],
          "name": "stdout"
        }
      ]
    },
    {
      "cell_type": "markdown",
      "metadata": {
        "id": "1M8FoyoDLgTk",
        "colab_type": "text"
      },
      "source": [
        "Funciones UFunc para operar con otros elementos y arrreglos"
      ]
    },
    {
      "cell_type": "code",
      "metadata": {
        "id": "DPAjMvRgLime",
        "colab_type": "code",
        "colab": {
          "base_uri": "https://localhost:8080/",
          "height": 85
        },
        "outputId": "b811ad96-020e-47e2-a675-7322261895d7"
      },
      "source": [
        "dataP = np.arange(20).reshape(4,5)\n",
        "dataP"
      ],
      "execution_count": 38,
      "outputs": [
        {
          "output_type": "execute_result",
          "data": {
            "text/plain": [
              "array([[ 0,  1,  2,  3,  4],\n",
              "       [ 5,  6,  7,  8,  9],\n",
              "       [10, 11, 12, 13, 14],\n",
              "       [15, 16, 17, 18, 19]])"
            ]
          },
          "metadata": {
            "tags": []
          },
          "execution_count": 38
        }
      ]
    },
    {
      "cell_type": "code",
      "metadata": {
        "id": "D07GLZlkL6JW",
        "colab_type": "code",
        "colab": {
          "base_uri": "https://localhost:8080/",
          "height": 85
        },
        "outputId": "f98d394a-b8bf-4c9a-f904-67ab40fb8f86"
      },
      "source": [
        "dataP * dataP"
      ],
      "execution_count": 39,
      "outputs": [
        {
          "output_type": "execute_result",
          "data": {
            "text/plain": [
              "array([[  0,   1,   4,   9,  16],\n",
              "       [ 25,  36,  49,  64,  81],\n",
              "       [100, 121, 144, 169, 196],\n",
              "       [225, 256, 289, 324, 361]])"
            ]
          },
          "metadata": {
            "tags": []
          },
          "execution_count": 39
        }
      ]
    },
    {
      "cell_type": "code",
      "metadata": {
        "id": "d2m1KtZ9MCHy",
        "colab_type": "code",
        "colab": {
          "base_uri": "https://localhost:8080/",
          "height": 85
        },
        "outputId": "c3ffd080-1a59-4666-ab0e-d924738b14b6"
      },
      "source": [
        "np.sqrt(dataP)"
      ],
      "execution_count": 40,
      "outputs": [
        {
          "output_type": "execute_result",
          "data": {
            "text/plain": [
              "array([[0.        , 1.        , 1.41421356, 1.73205081, 2.        ],\n",
              "       [2.23606798, 2.44948974, 2.64575131, 2.82842712, 3.        ],\n",
              "       [3.16227766, 3.31662479, 3.46410162, 3.60555128, 3.74165739],\n",
              "       [3.87298335, 4.        , 4.12310563, 4.24264069, 4.35889894]])"
            ]
          },
          "metadata": {
            "tags": []
          },
          "execution_count": 40
        }
      ]
    },
    {
      "cell_type": "code",
      "metadata": {
        "id": "5z8eUNFNMG3I",
        "colab_type": "code",
        "colab": {
          "base_uri": "https://localhost:8080/",
          "height": 85
        },
        "outputId": "ef51c7e2-148e-4ef4-c41a-7f168b1e7ebe"
      },
      "source": [
        "dataP%7==0"
      ],
      "execution_count": 41,
      "outputs": [
        {
          "output_type": "execute_result",
          "data": {
            "text/plain": [
              "array([[ True, False, False, False, False],\n",
              "       [False, False,  True, False, False],\n",
              "       [False, False, False, False,  True],\n",
              "       [False, False, False, False, False]])"
            ]
          },
          "metadata": {
            "tags": []
          },
          "execution_count": 41
        }
      ]
    },
    {
      "cell_type": "markdown",
      "metadata": {
        "id": "o_KSQnX8MP38",
        "colab_type": "text"
      },
      "source": [
        "Combinando operadores lógicos"
      ]
    },
    {
      "cell_type": "code",
      "metadata": {
        "id": "HojyijX-MSd_",
        "colab_type": "code",
        "colab": {
          "base_uri": "https://localhost:8080/",
          "height": 85
        },
        "outputId": "caddbf26-a2c7-4889-fd17-7acb51611033"
      },
      "source": [
        "((dataP % 5) == 1) & ((dataP % 4) == 0)"
      ],
      "execution_count": 42,
      "outputs": [
        {
          "output_type": "execute_result",
          "data": {
            "text/plain": [
              "array([[False, False, False, False, False],\n",
              "       [False, False, False, False, False],\n",
              "       [False, False, False, False, False],\n",
              "       [False,  True, False, False, False]])"
            ]
          },
          "metadata": {
            "tags": []
          },
          "execution_count": 42
        }
      ]
    },
    {
      "cell_type": "code",
      "metadata": {
        "id": "mBVMZ8izN8V6",
        "colab_type": "code",
        "colab": {
          "base_uri": "https://localhost:8080/",
          "height": 85
        },
        "outputId": "ba549521-803e-4ea8-c4bf-4b03780101c6"
      },
      "source": [
        "dataP @ dataP.T"
      ],
      "execution_count": 43,
      "outputs": [
        {
          "output_type": "execute_result",
          "data": {
            "text/plain": [
              "array([[  30,   80,  130,  180],\n",
              "       [  80,  255,  430,  605],\n",
              "       [ 130,  430,  730, 1030],\n",
              "       [ 180,  605, 1030, 1455]])"
            ]
          },
          "metadata": {
            "tags": []
          },
          "execution_count": 43
        }
      ]
    },
    {
      "cell_type": "markdown",
      "metadata": {
        "id": "y3STl4PAOOsx",
        "colab_type": "text"
      },
      "source": [
        "Selecciones y repaso de funciones UFunc"
      ]
    },
    {
      "cell_type": "code",
      "metadata": {
        "id": "GGQXaBwVAylC",
        "colab_type": "code",
        "colab": {
          "base_uri": "https://localhost:8080/",
          "height": 51
        },
        "outputId": "7e4c9858-42a9-4856-9ab7-e8b70c86ddfd"
      },
      "source": [
        "seno = np.sin(np.linspace(0, 3.1415, 8))\n",
        "coseno = np.cos(np.linspace(0, 3.1415, 8))\n",
        "seno"
      ],
      "execution_count": 44,
      "outputs": [
        {
          "output_type": "execute_result",
          "data": {
            "text/plain": [
              "array([0.00000000e+00, 4.33871814e-01, 7.81814977e-01, 9.74919075e-01,\n",
              "       9.74939692e-01, 7.81872744e-01, 4.33955290e-01, 9.26535897e-05])"
            ]
          },
          "metadata": {
            "tags": []
          },
          "execution_count": 44
        }
      ]
    },
    {
      "cell_type": "code",
      "metadata": {
        "id": "NxeC4Z-dBxNk",
        "colab_type": "code",
        "colab": {
          "base_uri": "https://localhost:8080/",
          "height": 34
        },
        "outputId": "2666a544-4c9c-4901-8e31-1114de34406f"
      },
      "source": [
        "seno[7]"
      ],
      "execution_count": 45,
      "outputs": [
        {
          "output_type": "execute_result",
          "data": {
            "text/plain": [
              "9.265358966049026e-05"
            ]
          },
          "metadata": {
            "tags": []
          },
          "execution_count": 45
        }
      ]
    },
    {
      "cell_type": "code",
      "metadata": {
        "id": "gslH4PBEB2dK",
        "colab_type": "code",
        "colab": {
          "base_uri": "https://localhost:8080/",
          "height": 51
        },
        "outputId": "9e02a238-5dd8-4564-8ac3-b20401921df0"
      },
      "source": [
        "seno[:6]"
      ],
      "execution_count": 46,
      "outputs": [
        {
          "output_type": "execute_result",
          "data": {
            "text/plain": [
              "array([0.        , 0.43387181, 0.78181498, 0.97491908, 0.97493969,\n",
              "       0.78187274])"
            ]
          },
          "metadata": {
            "tags": []
          },
          "execution_count": 46
        }
      ]
    },
    {
      "cell_type": "code",
      "metadata": {
        "id": "dha00djPCSGn",
        "colab_type": "code",
        "colab": {
          "base_uri": "https://localhost:8080/",
          "height": 34
        },
        "outputId": "6aec8c45-e111-446d-c177-bfca43fcdd42"
      },
      "source": [
        "seno[6:]"
      ],
      "execution_count": 47,
      "outputs": [
        {
          "output_type": "execute_result",
          "data": {
            "text/plain": [
              "array([4.33955290e-01, 9.26535897e-05])"
            ]
          },
          "metadata": {
            "tags": []
          },
          "execution_count": 47
        }
      ]
    },
    {
      "cell_type": "code",
      "metadata": {
        "id": "AHk4Qq5PCXEg",
        "colab_type": "code",
        "colab": {
          "base_uri": "https://localhost:8080/",
          "height": 34
        },
        "outputId": "6e47ecf6-9804-491f-e15e-8df329be47ed"
      },
      "source": [
        "seno[::3]"
      ],
      "execution_count": 48,
      "outputs": [
        {
          "output_type": "execute_result",
          "data": {
            "text/plain": [
              "array([0.        , 0.97491908, 0.43395529])"
            ]
          },
          "metadata": {
            "tags": []
          },
          "execution_count": 48
        }
      ]
    },
    {
      "cell_type": "markdown",
      "metadata": {
        "id": "-o0KqfHgClZE",
        "colab_type": "text"
      },
      "source": [
        "Filtrando con matrices booleanas"
      ]
    },
    {
      "cell_type": "code",
      "metadata": {
        "id": "BTHTXsWmCZI8",
        "colab_type": "code",
        "colab": {
          "base_uri": "https://localhost:8080/",
          "height": 136
        },
        "outputId": "f526e888-fb87-468c-987d-e854596e96e3"
      },
      "source": [
        "print('funcion seno \\n', seno)\n",
        "print('valores de seno condicionados \\n', seno > 0.87)\n",
        "print('valores de senoque cumplen la condicion \\n', seno[seno > 0.87])"
      ],
      "execution_count": 49,
      "outputs": [
        {
          "output_type": "stream",
          "text": [
            "funcion seno \n",
            " [0.00000000e+00 4.33871814e-01 7.81814977e-01 9.74919075e-01\n",
            " 9.74939692e-01 7.81872744e-01 4.33955290e-01 9.26535897e-05]\n",
            "valores de seno condicionados \n",
            " [False False False  True  True False False False]\n",
            "valores de senoque cumplen la condicion \n",
            " [0.97491908 0.97493969]\n"
          ],
          "name": "stdout"
        }
      ]
    },
    {
      "cell_type": "markdown",
      "metadata": {
        "id": "NKGR9l2bDSpj",
        "colab_type": "text"
      },
      "source": [
        "Indexando con listas\n"
      ]
    },
    {
      "cell_type": "code",
      "metadata": {
        "id": "CINBFQZwDUjY",
        "colab_type": "code",
        "colab": {
          "base_uri": "https://localhost:8080/",
          "height": 68
        },
        "outputId": "0792adfd-6931-4ade-fab2-33e612c32010"
      },
      "source": [
        "print(seno)\n",
        "seno[[2,4,6]]"
      ],
      "execution_count": 50,
      "outputs": [
        {
          "output_type": "stream",
          "text": [
            "[0.00000000e+00 4.33871814e-01 7.81814977e-01 9.74919075e-01\n",
            " 9.74939692e-01 7.81872744e-01 4.33955290e-01 9.26535897e-05]\n"
          ],
          "name": "stdout"
        },
        {
          "output_type": "execute_result",
          "data": {
            "text/plain": [
              "array([0.78181498, 0.97493969, 0.43395529])"
            ]
          },
          "metadata": {
            "tags": []
          },
          "execution_count": 50
        }
      ]
    },
    {
      "cell_type": "markdown",
      "metadata": {
        "id": "RTaKTqr4EU5L",
        "colab_type": "text"
      },
      "source": [
        "Ordenando arreglos"
      ]
    },
    {
      "cell_type": "code",
      "metadata": {
        "id": "ka_qDSUVDzPr",
        "colab_type": "code",
        "colab": {
          "base_uri": "https://localhost:8080/",
          "height": 34
        },
        "outputId": "9076a79b-e129-4b9d-8b1b-127143a1e770"
      },
      "source": [
        "unsorted_array = np.array([2, 2.01, -3, 5, -7, 13])\n",
        "indices_ordered = np.argsort(unsorted_array)\n",
        "indices_ordered\n",
        "print(unsorted_array[indices_ordered])"
      ],
      "execution_count": 51,
      "outputs": [
        {
          "output_type": "stream",
          "text": [
            "[-7.   -3.    2.    2.01  5.   13.  ]\n"
          ],
          "name": "stdout"
        }
      ]
    },
    {
      "cell_type": "code",
      "metadata": {
        "id": "EqLR7_0jFCbu",
        "colab_type": "code",
        "colab": {
          "base_uri": "https://localhost:8080/",
          "height": 34
        },
        "outputId": "b36c041a-bc92-41cb-d092-32ed1692133c"
      },
      "source": [
        "actions = np.array([12, 4, 3.01, 3.0001, 45, -7, -8]), \n",
        "actives = np.array(['A', 'B','C', 'D', 'E', 'F', 'G'])\n",
        "#usando permutación\n",
        "order_by_actives = np.argsort(actions)\n",
        "actives[order_by_actives]"
      ],
      "execution_count": 52,
      "outputs": [
        {
          "output_type": "execute_result",
          "data": {
            "text/plain": [
              "array([['G', 'F', 'D', 'C', 'B', 'A', 'E']], dtype='<U1')"
            ]
          },
          "metadata": {
            "tags": []
          },
          "execution_count": 52
        }
      ]
    },
    {
      "cell_type": "markdown",
      "metadata": {
        "id": "S2coTBELG-hf",
        "colab_type": "text"
      },
      "source": [
        "Alineando datos"
      ]
    },
    {
      "cell_type": "code",
      "metadata": {
        "id": "Pdu9H86EHAAB",
        "colab_type": "code",
        "colab": {
          "base_uri": "https://localhost:8080/",
          "height": 153
        },
        "outputId": "b9de3250-ce1d-451d-8e1f-af2aefba568a"
      },
      "source": [
        "import pandas as pd\n",
        "apr2019 = pd.to_datetime(['2019-04-03 00:00:00+00:00',\n",
        " '2019-04-04 00:00:00+00:00',\n",
        " '2019-04-05 00:00:00+00:00',\n",
        " '2019-04-06 00:00:00+00:00',\n",
        " '2019-04-09 00:00:00+00:00',\n",
        " '2019-04-10 00:00:00+00:00',\n",
        " '2019-04-11 00:00:00+00:00',\n",
        " '2019-04-12 00:00:00+00:00',\n",
        " '2019-04-13 00:00:00+00:00',\n",
        " '2019-04-17 00:00:00+00:00',\n",
        " '2019-04-18 00:00:00+00:00',\n",
        " '2019-04-19 00:00:00+00:00',\n",
        " '2019-04-20 00:00:00+00:00',\n",
        " '2019-04-23 00:00:00+00:00',\n",
        " '2019-04-24 00:00:00+00:00',\n",
        " '2019-04-25 00:00:00+00:00',\n",
        " '2019-04-26 00:00:00+00:00',\n",
        " '2019-04-27 00:00:00+00:00',\n",
        " '2019-04-30 00:00:00+00:00',\n",
        " '2019-05-01 00:00:00+00:00'])\n",
        "event_dates = pd.to_datetime(['2019-04-16 00:00:00+00:00', \n",
        "                             '2019-04-17 00:00:00+00:00', \n",
        "                             '2019-04-18 00:00:00+00:00']).values.astype('datetime64[D]')\n",
        "event_values = np.array([25, 50, 75])\n",
        "calendar = apr2019.values.astype('datetime64[D]')\n",
        "print('dates', repr(event_dates))\n",
        "print('values', repr(event_values))\n",
        "print('calendar', repr(calendar))"
      ],
      "execution_count": 53,
      "outputs": [
        {
          "output_type": "stream",
          "text": [
            "dates array(['2019-04-16', '2019-04-17', '2019-04-18'], dtype='datetime64[D]')\n",
            "values array([25, 50, 75])\n",
            "calendar array(['2019-04-03', '2019-04-04', '2019-04-05', '2019-04-06',\n",
            "       '2019-04-09', '2019-04-10', '2019-04-11', '2019-04-12',\n",
            "       '2019-04-13', '2019-04-17', '2019-04-18', '2019-04-19',\n",
            "       '2019-04-20', '2019-04-23', '2019-04-24', '2019-04-25',\n",
            "       '2019-04-26', '2019-04-27', '2019-04-30', '2019-05-01'],\n",
            "      dtype='datetime64[D]')\n"
          ],
          "name": "stdout"
        }
      ]
    },
    {
      "cell_type": "code",
      "metadata": {
        "id": "9Te2_WmWJC2V",
        "colab_type": "code",
        "colab": {
          "base_uri": "https://localhost:8080/",
          "height": 68
        },
        "outputId": "32828abe-5b90-4459-c843-85eed443ebbb"
      },
      "source": [
        "print('rows: ', event_dates)\n",
        "print('Indices: ', calendar.searchsorted(event_dates))\n",
        "print('Llenando fechas: ', calendar[calendar.searchsorted(event_dates)])"
      ],
      "execution_count": 54,
      "outputs": [
        {
          "output_type": "stream",
          "text": [
            "rows:  ['2019-04-16' '2019-04-17' '2019-04-18']\n",
            "Indices:  [ 9  9 10]\n",
            "Llenando fechas:  ['2019-04-17' '2019-04-17' '2019-04-18']\n"
          ],
          "name": "stdout"
        }
      ]
    },
    {
      "cell_type": "markdown",
      "metadata": {
        "id": "wnU7Oq9VJ6z-",
        "colab_type": "text"
      },
      "source": [
        "Slices con arrays multidimensionales"
      ]
    },
    {
      "cell_type": "code",
      "metadata": {
        "id": "Si_yCVg4J9YS",
        "colab_type": "code",
        "colab": {
          "base_uri": "https://localhost:8080/",
          "height": 153
        },
        "outputId": "b62f0b60-5f0e-4e1c-96fd-bc52bfa02057"
      },
      "source": [
        "dataP = np.arange(64).reshape(8,8) \n",
        "dataP"
      ],
      "execution_count": 55,
      "outputs": [
        {
          "output_type": "execute_result",
          "data": {
            "text/plain": [
              "array([[ 0,  1,  2,  3,  4,  5,  6,  7],\n",
              "       [ 8,  9, 10, 11, 12, 13, 14, 15],\n",
              "       [16, 17, 18, 19, 20, 21, 22, 23],\n",
              "       [24, 25, 26, 27, 28, 29, 30, 31],\n",
              "       [32, 33, 34, 35, 36, 37, 38, 39],\n",
              "       [40, 41, 42, 43, 44, 45, 46, 47],\n",
              "       [48, 49, 50, 51, 52, 53, 54, 55],\n",
              "       [56, 57, 58, 59, 60, 61, 62, 63]])"
            ]
          },
          "metadata": {
            "tags": []
          },
          "execution_count": 55
        }
      ]
    },
    {
      "cell_type": "code",
      "metadata": {
        "id": "1i2faWw0KZf5",
        "colab_type": "code",
        "colab": {
          "base_uri": "https://localhost:8080/",
          "height": 85
        },
        "outputId": "767ce085-e2fe-4cf3-884c-b743e3d9625c"
      },
      "source": [
        "dataP[:4, :4]"
      ],
      "execution_count": 56,
      "outputs": [
        {
          "output_type": "execute_result",
          "data": {
            "text/plain": [
              "array([[ 0,  1,  2,  3],\n",
              "       [ 8,  9, 10, 11],\n",
              "       [16, 17, 18, 19],\n",
              "       [24, 25, 26, 27]])"
            ]
          },
          "metadata": {
            "tags": []
          },
          "execution_count": 56
        }
      ]
    },
    {
      "cell_type": "code",
      "metadata": {
        "id": "D-gIQa2UKhC9",
        "colab_type": "code",
        "colab": {
          "base_uri": "https://localhost:8080/",
          "height": 51
        },
        "outputId": "6c15c00a-d806-4b80-de36-4b475ea55ea2"
      },
      "source": [
        "dataP[:2, [-1, -5]]"
      ],
      "execution_count": 57,
      "outputs": [
        {
          "output_type": "execute_result",
          "data": {
            "text/plain": [
              "array([[ 7,  3],\n",
              "       [15, 11]])"
            ]
          },
          "metadata": {
            "tags": []
          },
          "execution_count": 57
        }
      ]
    },
    {
      "cell_type": "code",
      "metadata": {
        "id": "dRfJutBpKtZc",
        "colab_type": "code",
        "colab": {
          "base_uri": "https://localhost:8080/",
          "height": 51
        },
        "outputId": "742b3a60-661d-49a0-9638-fa280967d47a"
      },
      "source": [
        "dataP[(dataP[3,:]% 5) ==0]"
      ],
      "execution_count": 58,
      "outputs": [
        {
          "output_type": "execute_result",
          "data": {
            "text/plain": [
              "array([[ 8,  9, 10, 11, 12, 13, 14, 15],\n",
              "       [48, 49, 50, 51, 52, 53, 54, 55]])"
            ]
          },
          "metadata": {
            "tags": []
          },
          "execution_count": 58
        }
      ]
    },
    {
      "cell_type": "markdown",
      "metadata": {
        "id": "h2piwAfSLbaK",
        "colab_type": "text"
      },
      "source": [
        "###Reducciones"
      ]
    },
    {
      "cell_type": "code",
      "metadata": {
        "id": "fZ5MNiqsLfWN",
        "colab_type": "code",
        "colab": {}
      },
      "source": [
        "def varianza(x):\n",
        "  return((x -x.mean())**2).sum() / len(x)"
      ],
      "execution_count": 59,
      "outputs": []
    },
    {
      "cell_type": "code",
      "metadata": {
        "id": "JrL4CTpcMIzj",
        "colab_type": "code",
        "colab": {
          "base_uri": "https://localhost:8080/",
          "height": 34
        },
        "outputId": "4346c44f-b2ff-4894-e605-e72e0538d124"
      },
      "source": [
        "varianza(np.random.standard_exponential(12))"
      ],
      "execution_count": 60,
      "outputs": [
        {
          "output_type": "execute_result",
          "data": {
            "text/plain": [
              "0.49047333677927646"
            ]
          },
          "metadata": {
            "tags": []
          },
          "execution_count": 60
        }
      ]
    },
    {
      "cell_type": "code",
      "metadata": {
        "id": "hgd81FHSMUvO",
        "colab_type": "code",
        "colab": {
          "base_uri": "https://localhost:8080/",
          "height": 34
        },
        "outputId": "8a45390d-7bbc-4ab8-94eb-e3a857d034e7"
      },
      "source": [
        "dataP = np.arange(60)\n",
        "dataP.mean()"
      ],
      "execution_count": 61,
      "outputs": [
        {
          "output_type": "execute_result",
          "data": {
            "text/plain": [
              "29.5"
            ]
          },
          "metadata": {
            "tags": []
          },
          "execution_count": 61
        }
      ]
    },
    {
      "cell_type": "code",
      "metadata": {
        "id": "kSTEwuBAMdp1",
        "colab_type": "code",
        "colab": {
          "base_uri": "https://localhost:8080/",
          "height": 187
        },
        "outputId": "b84be81d-b748-4d7e-a1d7-12aeaeb62ebb"
      },
      "source": [
        "dataP = np.arange(50).reshape(10,5)\n",
        "dataP"
      ],
      "execution_count": 62,
      "outputs": [
        {
          "output_type": "execute_result",
          "data": {
            "text/plain": [
              "array([[ 0,  1,  2,  3,  4],\n",
              "       [ 5,  6,  7,  8,  9],\n",
              "       [10, 11, 12, 13, 14],\n",
              "       [15, 16, 17, 18, 19],\n",
              "       [20, 21, 22, 23, 24],\n",
              "       [25, 26, 27, 28, 29],\n",
              "       [30, 31, 32, 33, 34],\n",
              "       [35, 36, 37, 38, 39],\n",
              "       [40, 41, 42, 43, 44],\n",
              "       [45, 46, 47, 48, 49]])"
            ]
          },
          "metadata": {
            "tags": []
          },
          "execution_count": 62
        }
      ]
    },
    {
      "cell_type": "code",
      "metadata": {
        "id": "8--rE8juNZI3",
        "colab_type": "code",
        "colab": {
          "base_uri": "https://localhost:8080/",
          "height": 34
        },
        "outputId": "2fe7c38d-9917-4d5b-dae3-8ab932e9186b"
      },
      "source": [
        "dataP.mean()"
      ],
      "execution_count": 63,
      "outputs": [
        {
          "output_type": "execute_result",
          "data": {
            "text/plain": [
              "24.5"
            ]
          },
          "metadata": {
            "tags": []
          },
          "execution_count": 63
        }
      ]
    },
    {
      "cell_type": "code",
      "metadata": {
        "id": "o2Rz0RQtOQwF",
        "colab_type": "code",
        "colab": {
          "base_uri": "https://localhost:8080/",
          "height": 34
        },
        "outputId": "1f4ae36b-8417-4f86-f985-fad903623ea1"
      },
      "source": [
        "dataP.mean(axis=0)"
      ],
      "execution_count": 64,
      "outputs": [
        {
          "output_type": "execute_result",
          "data": {
            "text/plain": [
              "array([22.5, 23.5, 24.5, 25.5, 26.5])"
            ]
          },
          "metadata": {
            "tags": []
          },
          "execution_count": 64
        }
      ]
    },
    {
      "cell_type": "code",
      "metadata": {
        "id": "rQAZIpWmOX6T",
        "colab_type": "code",
        "colab": {
          "base_uri": "https://localhost:8080/",
          "height": 34
        },
        "outputId": "db75434a-2826-4082-f754-8f0afa6ba550"
      },
      "source": [
        "dataP.mean(axis=1)"
      ],
      "execution_count": 65,
      "outputs": [
        {
          "output_type": "execute_result",
          "data": {
            "text/plain": [
              "array([ 2.,  7., 12., 17., 22., 27., 32., 37., 42., 47.])"
            ]
          },
          "metadata": {
            "tags": []
          },
          "execution_count": 65
        }
      ]
    },
    {
      "cell_type": "markdown",
      "metadata": {
        "id": "NGoB78TFO2UK",
        "colab_type": "text"
      },
      "source": [
        "###Doing broadcasting"
      ]
    },
    {
      "cell_type": "code",
      "metadata": {
        "id": "wqUMW9VJO412",
        "colab_type": "code",
        "colab": {
          "base_uri": "https://localhost:8080/",
          "height": 85
        },
        "outputId": "b1248d13-0431-4aac-9e9e-dceabbf85d73"
      },
      "source": [
        "fila = np.array([20, 40, 60, 80])\n",
        "columna = np.array([[12], [24], [36]])\n",
        "print('fila', fila, sep='')\n",
        "print('columna', columna, sep='')"
      ],
      "execution_count": 66,
      "outputs": [
        {
          "output_type": "stream",
          "text": [
            "fila[20 40 60 80]\n",
            "columna[[12]\n",
            " [24]\n",
            " [36]]\n"
          ],
          "name": "stdout"
        }
      ]
    },
    {
      "cell_type": "code",
      "metadata": {
        "id": "AdC-JnGyQSSI",
        "colab_type": "code",
        "colab": {
          "base_uri": "https://localhost:8080/",
          "height": 68
        },
        "outputId": "c3506925-1b17-47b6-e191-9b224f17c80f"
      },
      "source": [
        "fila + columna"
      ],
      "execution_count": 67,
      "outputs": [
        {
          "output_type": "execute_result",
          "data": {
            "text/plain": [
              "array([[ 32,  52,  72,  92],\n",
              "       [ 44,  64,  84, 104],\n",
              "       [ 56,  76,  96, 116]])"
            ]
          },
          "metadata": {
            "tags": []
          },
          "execution_count": 67
        }
      ]
    },
    {
      "cell_type": "markdown",
      "metadata": {
        "id": "GP_DIyiqQif1",
        "colab_type": "text"
      },
      "source": [
        "Using reductions"
      ]
    },
    {
      "cell_type": "code",
      "metadata": {
        "id": "RaiiAWgFQdQ-",
        "colab_type": "code",
        "colab": {
          "base_uri": "https://localhost:8080/",
          "height": 425
        },
        "outputId": "693af735-97de-49d4-c4c7-39f0deffb497"
      },
      "source": [
        "print('DataP \\n', dataP, sep='')\n",
        "print('Mean \\n', dataP.mean(), sep='')\n",
        "print('DataP - mean \\n', dataP - dataP.mean(), sep='')"
      ],
      "execution_count": 68,
      "outputs": [
        {
          "output_type": "stream",
          "text": [
            "DataP \n",
            "[[ 0  1  2  3  4]\n",
            " [ 5  6  7  8  9]\n",
            " [10 11 12 13 14]\n",
            " [15 16 17 18 19]\n",
            " [20 21 22 23 24]\n",
            " [25 26 27 28 29]\n",
            " [30 31 32 33 34]\n",
            " [35 36 37 38 39]\n",
            " [40 41 42 43 44]\n",
            " [45 46 47 48 49]]\n",
            "Mean \n",
            "24.5\n",
            "DataP - mean \n",
            "[[-24.5 -23.5 -22.5 -21.5 -20.5]\n",
            " [-19.5 -18.5 -17.5 -16.5 -15.5]\n",
            " [-14.5 -13.5 -12.5 -11.5 -10.5]\n",
            " [ -9.5  -8.5  -7.5  -6.5  -5.5]\n",
            " [ -4.5  -3.5  -2.5  -1.5  -0.5]\n",
            " [  0.5   1.5   2.5   3.5   4.5]\n",
            " [  5.5   6.5   7.5   8.5   9.5]\n",
            " [ 10.5  11.5  12.5  13.5  14.5]\n",
            " [ 15.5  16.5  17.5  18.5  19.5]\n",
            " [ 20.5  21.5  22.5  23.5  24.5]]\n"
          ],
          "name": "stdout"
        }
      ]
    },
    {
      "cell_type": "markdown",
      "metadata": {
        "id": "iQ62WnAURlxp",
        "colab_type": "text"
      },
      "source": [
        "###Selection with Pandas"
      ]
    },
    {
      "cell_type": "code",
      "metadata": {
        "id": "ReUAv7hgRplZ",
        "colab_type": "code",
        "colab": {
          "base_uri": "https://localhost:8080/",
          "height": 119
        },
        "outputId": "54b2557c-04f7-4b92-ddb6-bdaf0d5a6e2c"
      },
      "source": [
        "selection = pd.Series(index = ['0','1','2', '3', '4'], data = [20, 40 ,60 ,8, 100])\n",
        "selection"
      ],
      "execution_count": 69,
      "outputs": [
        {
          "output_type": "execute_result",
          "data": {
            "text/plain": [
              "0     20\n",
              "1     40\n",
              "2     60\n",
              "3      8\n",
              "4    100\n",
              "dtype: int64"
            ]
          },
          "metadata": {
            "tags": []
          },
          "execution_count": 69
        }
      ]
    },
    {
      "cell_type": "code",
      "metadata": {
        "id": "3RQlRo_QWhso",
        "colab_type": "code",
        "colab": {
          "base_uri": "https://localhost:8080/",
          "height": 51
        },
        "outputId": "2e0aec84-0707-48b4-b101-6305dfb88815"
      },
      "source": [
        "print('index: ', selection.index)\n",
        "print('values: ', selection.values)"
      ],
      "execution_count": 70,
      "outputs": [
        {
          "output_type": "stream",
          "text": [
            "index:  Index(['0', '1', '2', '3', '4'], dtype='object')\n",
            "values:  [ 20  40  60   8 100]\n"
          ],
          "name": "stdout"
        }
      ]
    },
    {
      "cell_type": "code",
      "metadata": {
        "id": "80ieuo72W1vD",
        "colab_type": "code",
        "colab": {
          "base_uri": "https://localhost:8080/",
          "height": 34
        },
        "outputId": "c67630f0-71d2-4bf2-a99e-33834f27bc23"
      },
      "source": [
        "selection.iloc[4]"
      ],
      "execution_count": 71,
      "outputs": [
        {
          "output_type": "execute_result",
          "data": {
            "text/plain": [
              "100"
            ]
          },
          "metadata": {
            "tags": []
          },
          "execution_count": 71
        }
      ]
    },
    {
      "cell_type": "code",
      "metadata": {
        "id": "xdLTczHkW89y",
        "colab_type": "code",
        "colab": {
          "base_uri": "https://localhost:8080/",
          "height": 34
        },
        "outputId": "bb6f73f7-90b1-4cd8-fda3-97ba8397dd58"
      },
      "source": [
        "selection.loc['2']"
      ],
      "execution_count": 72,
      "outputs": [
        {
          "output_type": "execute_result",
          "data": {
            "text/plain": [
              "60"
            ]
          },
          "metadata": {
            "tags": []
          },
          "execution_count": 72
        }
      ]
    },
    {
      "cell_type": "code",
      "metadata": {
        "id": "BN1rS61fXAv-",
        "colab_type": "code",
        "colab": {
          "base_uri": "https://localhost:8080/",
          "height": 85
        },
        "outputId": "74aad2cd-19ec-4ce5-9448-01a2502ea23f"
      },
      "source": [
        "selection.iloc[:3]"
      ],
      "execution_count": 73,
      "outputs": [
        {
          "output_type": "execute_result",
          "data": {
            "text/plain": [
              "0    20\n",
              "1    40\n",
              "2    60\n",
              "dtype: int64"
            ]
          },
          "metadata": {
            "tags": []
          },
          "execution_count": 73
        }
      ]
    },
    {
      "cell_type": "code",
      "metadata": {
        "id": "M2H0vTkrXH_-",
        "colab_type": "code",
        "colab": {
          "base_uri": "https://localhost:8080/",
          "height": 119
        },
        "outputId": "d19c5b9e-311d-4464-c694-7067b6fbcc6d"
      },
      "source": [
        "selection.loc[:'5']"
      ],
      "execution_count": 74,
      "outputs": [
        {
          "output_type": "execute_result",
          "data": {
            "text/plain": [
              "0     20\n",
              "1     40\n",
              "2     60\n",
              "3      8\n",
              "4    100\n",
              "dtype: int64"
            ]
          },
          "metadata": {
            "tags": []
          },
          "execution_count": 74
        }
      ]
    },
    {
      "cell_type": "code",
      "metadata": {
        "id": "0pS4fCBmXNsk",
        "colab_type": "code",
        "colab": {
          "base_uri": "https://localhost:8080/",
          "height": 68
        },
        "outputId": "235e9732-da33-4527-9844-46a65a2fd618"
      },
      "source": [
        "selection.iloc[[3, -2]]"
      ],
      "execution_count": 75,
      "outputs": [
        {
          "output_type": "execute_result",
          "data": {
            "text/plain": [
              "3    8\n",
              "3    8\n",
              "dtype: int64"
            ]
          },
          "metadata": {
            "tags": []
          },
          "execution_count": 75
        }
      ]
    },
    {
      "cell_type": "code",
      "metadata": {
        "id": "Lap9Pb3jXUx6",
        "colab_type": "code",
        "colab": {
          "base_uri": "https://localhost:8080/",
          "height": 85
        },
        "outputId": "ed183edb-7b57-44e0-fb90-d17a77367b4a"
      },
      "source": [
        "selection.loc[selection <50]"
      ],
      "execution_count": 76,
      "outputs": [
        {
          "output_type": "execute_result",
          "data": {
            "text/plain": [
              "0    20\n",
              "1    40\n",
              "3     8\n",
              "dtype: int64"
            ]
          },
          "metadata": {
            "tags": []
          },
          "execution_count": 76
        }
      ]
    },
    {
      "cell_type": "markdown",
      "metadata": {
        "id": "evN07VaKXj_c",
        "colab_type": "text"
      },
      "source": [
        "Align by index"
      ]
    },
    {
      "cell_type": "code",
      "metadata": {
        "id": "dzmL0gkuXlVK",
        "colab_type": "code",
        "colab": {
          "base_uri": "https://localhost:8080/",
          "height": 119
        },
        "outputId": "5b5a73e4-5545-4063-eb19-46c34a2dd218"
      },
      "source": [
        "sp = pd.Series({'0': 12,'1': 67, '2': 45, '3': -10, '4': 5})\n",
        "sp"
      ],
      "execution_count": 77,
      "outputs": [
        {
          "output_type": "execute_result",
          "data": {
            "text/plain": [
              "0    12\n",
              "1    67\n",
              "2    45\n",
              "3   -10\n",
              "4     5\n",
              "dtype: int64"
            ]
          },
          "metadata": {
            "tags": []
          },
          "execution_count": 77
        }
      ]
    },
    {
      "cell_type": "code",
      "metadata": {
        "id": "2O_tO1zMYCqC",
        "colab_type": "code",
        "colab": {
          "base_uri": "https://localhost:8080/",
          "height": 119
        },
        "outputId": "5eab0749-9e1f-4ca6-babd-3ce372ffa62b"
      },
      "source": [
        "selection + sp"
      ],
      "execution_count": 78,
      "outputs": [
        {
          "output_type": "execute_result",
          "data": {
            "text/plain": [
              "0     32\n",
              "1    107\n",
              "2    105\n",
              "3     -2\n",
              "4    105\n",
              "dtype: int64"
            ]
          },
          "metadata": {
            "tags": []
          },
          "execution_count": 78
        }
      ]
    },
    {
      "cell_type": "code",
      "metadata": {
        "id": "Oe-PnKRxYL5h",
        "colab_type": "code",
        "colab": {
          "base_uri": "https://localhost:8080/",
          "height": 119
        },
        "outputId": "e0706a9e-f150-454d-8d09-a3eba4307188"
      },
      "source": [
        "(selection + sp).fillna(1.0)"
      ],
      "execution_count": 79,
      "outputs": [
        {
          "output_type": "execute_result",
          "data": {
            "text/plain": [
              "0     32\n",
              "1    107\n",
              "2    105\n",
              "3     -2\n",
              "4    105\n",
              "dtype: int64"
            ]
          },
          "metadata": {
            "tags": []
          },
          "execution_count": 79
        }
      ]
    },
    {
      "cell_type": "markdown",
      "metadata": {
        "id": "8y9NFpt_Ybzq",
        "colab_type": "text"
      },
      "source": [
        "Real datasets"
      ]
    },
    {
      "cell_type": "code",
      "metadata": {
        "id": "-ugmKq2jYSGj",
        "colab_type": "code",
        "colab": {
          "base_uri": "https://localhost:8080/",
          "height": 235
        },
        "outputId": "c3204158-f203-447e-9520-d435a1a1052e"
      },
      "source": [
        "real = pd.read_csv('AAPL.csv', parse_dates=['Date'], index_col= 'Date')\n",
        "real.head()"
      ],
      "execution_count": 81,
      "outputs": [
        {
          "output_type": "execute_result",
          "data": {
            "text/html": [
              "<div>\n",
              "<style scoped>\n",
              "    .dataframe tbody tr th:only-of-type {\n",
              "        vertical-align: middle;\n",
              "    }\n",
              "\n",
              "    .dataframe tbody tr th {\n",
              "        vertical-align: top;\n",
              "    }\n",
              "\n",
              "    .dataframe thead th {\n",
              "        text-align: right;\n",
              "    }\n",
              "</style>\n",
              "<table border=\"1\" class=\"dataframe\">\n",
              "  <thead>\n",
              "    <tr style=\"text-align: right;\">\n",
              "      <th></th>\n",
              "      <th>Adj Close</th>\n",
              "      <th>Close</th>\n",
              "      <th>High</th>\n",
              "      <th>Low</th>\n",
              "      <th>Open</th>\n",
              "      <th>Volume</th>\n",
              "    </tr>\n",
              "    <tr>\n",
              "      <th>Date</th>\n",
              "      <th></th>\n",
              "      <th></th>\n",
              "      <th></th>\n",
              "      <th></th>\n",
              "      <th></th>\n",
              "      <th></th>\n",
              "    </tr>\n",
              "  </thead>\n",
              "  <tbody>\n",
              "    <tr>\n",
              "      <th>2010-01-04</th>\n",
              "      <td>27.613066</td>\n",
              "      <td>30.572857</td>\n",
              "      <td>30.642857</td>\n",
              "      <td>30.340000</td>\n",
              "      <td>30.490000</td>\n",
              "      <td>123432400.0</td>\n",
              "    </tr>\n",
              "    <tr>\n",
              "      <th>2010-01-05</th>\n",
              "      <td>27.660807</td>\n",
              "      <td>30.625713</td>\n",
              "      <td>30.798571</td>\n",
              "      <td>30.464285</td>\n",
              "      <td>30.657143</td>\n",
              "      <td>150476200.0</td>\n",
              "    </tr>\n",
              "    <tr>\n",
              "      <th>2010-01-06</th>\n",
              "      <td>27.220825</td>\n",
              "      <td>30.138571</td>\n",
              "      <td>30.747143</td>\n",
              "      <td>30.107143</td>\n",
              "      <td>30.625713</td>\n",
              "      <td>138040000.0</td>\n",
              "    </tr>\n",
              "    <tr>\n",
              "      <th>2010-01-07</th>\n",
              "      <td>27.170504</td>\n",
              "      <td>30.082857</td>\n",
              "      <td>30.285715</td>\n",
              "      <td>29.864286</td>\n",
              "      <td>30.250000</td>\n",
              "      <td>119282800.0</td>\n",
              "    </tr>\n",
              "    <tr>\n",
              "      <th>2010-01-08</th>\n",
              "      <td>27.351143</td>\n",
              "      <td>30.282858</td>\n",
              "      <td>30.285715</td>\n",
              "      <td>29.865715</td>\n",
              "      <td>30.042856</td>\n",
              "      <td>111902700.0</td>\n",
              "    </tr>\n",
              "  </tbody>\n",
              "</table>\n",
              "</div>"
            ],
            "text/plain": [
              "            Adj Close      Close       High        Low       Open       Volume\n",
              "Date                                                                          \n",
              "2010-01-04  27.613066  30.572857  30.642857  30.340000  30.490000  123432400.0\n",
              "2010-01-05  27.660807  30.625713  30.798571  30.464285  30.657143  150476200.0\n",
              "2010-01-06  27.220825  30.138571  30.747143  30.107143  30.625713  138040000.0\n",
              "2010-01-07  27.170504  30.082857  30.285715  29.864286  30.250000  119282800.0\n",
              "2010-01-08  27.351143  30.282858  30.285715  29.865715  30.042856  111902700.0"
            ]
          },
          "metadata": {
            "tags": []
          },
          "execution_count": 81
        }
      ]
    },
    {
      "cell_type": "code",
      "metadata": {
        "id": "6rNBH-9xXSFB",
        "colab_type": "code",
        "colab": {
          "base_uri": "https://localhost:8080/",
          "height": 204
        },
        "outputId": "b7208571-a406-4561-b6e9-ca6ffb934066"
      },
      "source": [
        "real.iloc[:4, :3]"
      ],
      "execution_count": 82,
      "outputs": [
        {
          "output_type": "execute_result",
          "data": {
            "text/html": [
              "<div>\n",
              "<style scoped>\n",
              "    .dataframe tbody tr th:only-of-type {\n",
              "        vertical-align: middle;\n",
              "    }\n",
              "\n",
              "    .dataframe tbody tr th {\n",
              "        vertical-align: top;\n",
              "    }\n",
              "\n",
              "    .dataframe thead th {\n",
              "        text-align: right;\n",
              "    }\n",
              "</style>\n",
              "<table border=\"1\" class=\"dataframe\">\n",
              "  <thead>\n",
              "    <tr style=\"text-align: right;\">\n",
              "      <th></th>\n",
              "      <th>Adj Close</th>\n",
              "      <th>Close</th>\n",
              "      <th>High</th>\n",
              "    </tr>\n",
              "    <tr>\n",
              "      <th>Date</th>\n",
              "      <th></th>\n",
              "      <th></th>\n",
              "      <th></th>\n",
              "    </tr>\n",
              "  </thead>\n",
              "  <tbody>\n",
              "    <tr>\n",
              "      <th>2010-01-04</th>\n",
              "      <td>27.613066</td>\n",
              "      <td>30.572857</td>\n",
              "      <td>30.642857</td>\n",
              "    </tr>\n",
              "    <tr>\n",
              "      <th>2010-01-05</th>\n",
              "      <td>27.660807</td>\n",
              "      <td>30.625713</td>\n",
              "      <td>30.798571</td>\n",
              "    </tr>\n",
              "    <tr>\n",
              "      <th>2010-01-06</th>\n",
              "      <td>27.220825</td>\n",
              "      <td>30.138571</td>\n",
              "      <td>30.747143</td>\n",
              "    </tr>\n",
              "    <tr>\n",
              "      <th>2010-01-07</th>\n",
              "      <td>27.170504</td>\n",
              "      <td>30.082857</td>\n",
              "      <td>30.285715</td>\n",
              "    </tr>\n",
              "  </tbody>\n",
              "</table>\n",
              "</div>"
            ],
            "text/plain": [
              "            Adj Close      Close       High\n",
              "Date                                       \n",
              "2010-01-04  27.613066  30.572857  30.642857\n",
              "2010-01-05  27.660807  30.625713  30.798571\n",
              "2010-01-06  27.220825  30.138571  30.747143\n",
              "2010-01-07  27.170504  30.082857  30.285715"
            ]
          },
          "metadata": {
            "tags": []
          },
          "execution_count": 82
        }
      ]
    },
    {
      "cell_type": "code",
      "metadata": {
        "id": "XvfAJPl1XcY7",
        "colab_type": "code",
        "colab": {
          "base_uri": "https://localhost:8080/",
          "height": 173
        },
        "outputId": "75c259af-3857-409f-e8d0-ea27c972db54"
      },
      "source": [
        "real.loc[pd.Timestamp('2010-01-04'): pd.Timestamp('2010-01-06'), ['Close', 'High']]"
      ],
      "execution_count": 83,
      "outputs": [
        {
          "output_type": "execute_result",
          "data": {
            "text/html": [
              "<div>\n",
              "<style scoped>\n",
              "    .dataframe tbody tr th:only-of-type {\n",
              "        vertical-align: middle;\n",
              "    }\n",
              "\n",
              "    .dataframe tbody tr th {\n",
              "        vertical-align: top;\n",
              "    }\n",
              "\n",
              "    .dataframe thead th {\n",
              "        text-align: right;\n",
              "    }\n",
              "</style>\n",
              "<table border=\"1\" class=\"dataframe\">\n",
              "  <thead>\n",
              "    <tr style=\"text-align: right;\">\n",
              "      <th></th>\n",
              "      <th>Close</th>\n",
              "      <th>High</th>\n",
              "    </tr>\n",
              "    <tr>\n",
              "      <th>Date</th>\n",
              "      <th></th>\n",
              "      <th></th>\n",
              "    </tr>\n",
              "  </thead>\n",
              "  <tbody>\n",
              "    <tr>\n",
              "      <th>2010-01-04</th>\n",
              "      <td>30.572857</td>\n",
              "      <td>30.642857</td>\n",
              "    </tr>\n",
              "    <tr>\n",
              "      <th>2010-01-05</th>\n",
              "      <td>30.625713</td>\n",
              "      <td>30.798571</td>\n",
              "    </tr>\n",
              "    <tr>\n",
              "      <th>2010-01-06</th>\n",
              "      <td>30.138571</td>\n",
              "      <td>30.747143</td>\n",
              "    </tr>\n",
              "  </tbody>\n",
              "</table>\n",
              "</div>"
            ],
            "text/plain": [
              "                Close       High\n",
              "Date                            \n",
              "2010-01-04  30.572857  30.642857\n",
              "2010-01-05  30.625713  30.798571\n",
              "2010-01-06  30.138571  30.747143"
            ]
          },
          "metadata": {
            "tags": []
          },
          "execution_count": 83
        }
      ]
    },
    {
      "cell_type": "markdown",
      "metadata": {
        "id": "QcEYYZf-YG-Q",
        "colab_type": "text"
      },
      "source": [
        "###Rolling operations"
      ]
    },
    {
      "cell_type": "code",
      "metadata": {
        "id": "IP9r9AEVYFsj",
        "colab_type": "code",
        "colab": {
          "base_uri": "https://localhost:8080/",
          "height": 288
        },
        "outputId": "c4934460-29c9-4331-d801-c03a481e9b5f"
      },
      "source": [
        "real.rolling(6)[['Close', 'High']].mean().plot()"
      ],
      "execution_count": 84,
      "outputs": [
        {
          "output_type": "execute_result",
          "data": {
            "text/plain": [
              "<matplotlib.axes._subplots.AxesSubplot at 0x7f21e6a34668>"
            ]
          },
          "metadata": {
            "tags": []
          },
          "execution_count": 84
        },
        {
          "output_type": "display_data",
          "data": {
            "image/png": "[encoded data removed]",
            "text/plain": [
              "<Figure size 432x288 with 1 Axes>"
            ]
          },
          "metadata": {
            "tags": [],
            "needs_background": "light"
          }
        }
      ]
    },
    {
      "cell_type": "code",
      "metadata": {
        "id": "eRD8eJ7pYrua",
        "colab_type": "code",
        "colab": {
          "base_uri": "https://localhost:8080/",
          "height": 307
        },
        "outputId": "d8a20bd8-9ae5-4750-c068-dac6761b7173"
      },
      "source": [
        "real.drop('Low', axis=1).resample('2W').max().plot()"
      ],
      "execution_count": 85,
      "outputs": [
        {
          "output_type": "execute_result",
          "data": {
            "text/plain": [
              "<matplotlib.axes._subplots.AxesSubplot at 0x7f21e6942630>"
            ]
          },
          "metadata": {
            "tags": []
          },
          "execution_count": 85
        },
        {
          "output_type": "display_data",
          "data": {
            "image/png": "[encoded data removed]",
            "text/plain": [
              "<Figure size 432x288 with 1 Axes>"
            ]
          },
          "metadata": {
            "tags": [],
            "needs_background": "light"
          }
        }
      ]
    },
    {
      "cell_type": "markdown",
      "metadata": {
        "id": "p4MRumx9ZMsf",
        "colab_type": "text"
      },
      "source": [
        "30-day rolling exponentially-weighted stddev of returns."
      ]
    },
    {
      "cell_type": "code",
      "metadata": {
        "id": "xcq01SZOZN1V",
        "colab_type": "code",
        "colab": {
          "base_uri": "https://localhost:8080/",
          "height": 269
        },
        "outputId": "77fafee5-b609-4326-cbf3-ca03d9b14fb5"
      },
      "source": [
        "real['Close'].pct_change().ewm(span=20).std().plot();"
      ],
      "execution_count": 86,
      "outputs": [
        {
          "output_type": "display_data",
          "data": {
            "image/png": "[encoded data removed]",
            "text/plain": [
              "<Figure size 432x288 with 1 Axes>"
            ]
          },
          "metadata": {
            "tags": [],
            "needs_background": "light"
          }
        }
      ]
    },
    {
      "cell_type": "markdown",
      "metadata": {
        "id": "D8VpvCbsZfdk",
        "colab_type": "text"
      },
      "source": [
        "###Real world data"
      ]
    },
    {
      "cell_type": "code",
      "metadata": {
        "id": "8_Kzl4UNZhmD",
        "colab_type": "code",
        "colab": {
          "base_uri": "https://localhost:8080/",
          "height": 204
        },
        "outputId": "75de9515-8c19-4c13-bf0d-2858779922e0"
      },
      "source": [
        "from avocados import read_avocadata\n",
        "\n",
        "realWorld = read_avocadata('2016', '2018')\n",
        "realWorld.head()"
      ],
      "execution_count": 87,
      "outputs": [
        {
          "output_type": "execute_result",
          "data": {
            "text/html": [
              "<div>\n",
              "<style scoped>\n",
              "    .dataframe tbody tr th:only-of-type {\n",
              "        vertical-align: middle;\n",
              "    }\n",
              "\n",
              "    .dataframe tbody tr th {\n",
              "        vertical-align: top;\n",
              "    }\n",
              "\n",
              "    .dataframe thead th {\n",
              "        text-align: right;\n",
              "    }\n",
              "</style>\n",
              "<table border=\"1\" class=\"dataframe\">\n",
              "  <thead>\n",
              "    <tr style=\"text-align: right;\">\n",
              "      <th></th>\n",
              "      <th>Date</th>\n",
              "      <th>Region</th>\n",
              "      <th>Variety</th>\n",
              "      <th>Organic</th>\n",
              "      <th>Number of Stores</th>\n",
              "      <th>Weighted Avg Price</th>\n",
              "      <th>Low Price</th>\n",
              "      <th>High Price</th>\n",
              "    </tr>\n",
              "  </thead>\n",
              "  <tbody>\n",
              "    <tr>\n",
              "      <th>0</th>\n",
              "      <td>2016-01-08 00:00:00+00:00</td>\n",
              "      <td>NATIONAL</td>\n",
              "      <td>HASS</td>\n",
              "      <td>False</td>\n",
              "      <td>9463</td>\n",
              "      <td>1.11</td>\n",
              "      <td>NaN</td>\n",
              "      <td>NaN</td>\n",
              "    </tr>\n",
              "    <tr>\n",
              "      <th>2</th>\n",
              "      <td>2016-01-08 00:00:00+00:00</td>\n",
              "      <td>NATIONAL</td>\n",
              "      <td>HASS</td>\n",
              "      <td>True</td>\n",
              "      <td>1575</td>\n",
              "      <td>1.69</td>\n",
              "      <td>NaN</td>\n",
              "      <td>NaN</td>\n",
              "    </tr>\n",
              "    <tr>\n",
              "      <th>4</th>\n",
              "      <td>2016-01-08 00:00:00+00:00</td>\n",
              "      <td>NATIONAL</td>\n",
              "      <td>GREENSKIN</td>\n",
              "      <td>False</td>\n",
              "      <td>228</td>\n",
              "      <td>0.96</td>\n",
              "      <td>NaN</td>\n",
              "      <td>NaN</td>\n",
              "    </tr>\n",
              "    <tr>\n",
              "      <th>6</th>\n",
              "      <td>2016-01-08 00:00:00+00:00</td>\n",
              "      <td>NATIONAL</td>\n",
              "      <td>GREENSKIN</td>\n",
              "      <td>True</td>\n",
              "      <td>189</td>\n",
              "      <td>1.41</td>\n",
              "      <td>NaN</td>\n",
              "      <td>NaN</td>\n",
              "    </tr>\n",
              "    <tr>\n",
              "      <th>7</th>\n",
              "      <td>2016-01-08 00:00:00+00:00</td>\n",
              "      <td>NORTHEAST</td>\n",
              "      <td>HASS</td>\n",
              "      <td>False</td>\n",
              "      <td>1541</td>\n",
              "      <td>1.23</td>\n",
              "      <td>0.78</td>\n",
              "      <td>2.0</td>\n",
              "    </tr>\n",
              "  </tbody>\n",
              "</table>\n",
              "</div>"
            ],
            "text/plain": [
              "                       Date     Region  ... Low Price  High Price\n",
              "0 2016-01-08 00:00:00+00:00   NATIONAL  ...       NaN         NaN\n",
              "2 2016-01-08 00:00:00+00:00   NATIONAL  ...       NaN         NaN\n",
              "4 2016-01-08 00:00:00+00:00   NATIONAL  ...       NaN         NaN\n",
              "6 2016-01-08 00:00:00+00:00   NATIONAL  ...       NaN         NaN\n",
              "7 2016-01-08 00:00:00+00:00  NORTHEAST  ...      0.78         2.0\n",
              "\n",
              "[5 rows x 8 columns]"
            ]
          },
          "metadata": {
            "tags": []
          },
          "execution_count": 87
        }
      ]
    },
    {
      "cell_type": "code",
      "metadata": {
        "id": "n5NTs3WpPU5Q",
        "colab_type": "code",
        "colab": {
          "base_uri": "https://localhost:8080/",
          "height": 170
        },
        "outputId": "94bd1503-ecbe-4e29-edfb-e976c4a51f54"
      },
      "source": [
        "realWorld.dtypes"
      ],
      "execution_count": 88,
      "outputs": [
        {
          "output_type": "execute_result",
          "data": {
            "text/plain": [
              "Date                  datetime64[ns, UTC]\n",
              "Region                             object\n",
              "Variety                            object\n",
              "Organic                              bool\n",
              "Number of Stores                    int64\n",
              "Weighted Avg Price                float64\n",
              "Low Price                         float64\n",
              "High Price                        float64\n",
              "dtype: object"
            ]
          },
          "metadata": {
            "tags": []
          },
          "execution_count": 88
        }
      ]
    },
    {
      "cell_type": "code",
      "metadata": {
        "id": "kzHGR6bnP1ww",
        "colab_type": "code",
        "colab": {
          "base_uri": "https://localhost:8080/",
          "height": 308
        },
        "outputId": "73f5602c-3fec-40d2-e235-25d434ddf5eb"
      },
      "source": [
        "greenskin = realWorld[realWorld.Variety == \"HASS\"]\n",
        "greenskin.groupby(['Date', 'Region'])['Weighted Avg Price'].mean().unstack().ffill().plot()"
      ],
      "execution_count": 89,
      "outputs": [
        {
          "output_type": "execute_result",
          "data": {
            "text/plain": [
              "<matplotlib.axes._subplots.AxesSubplot at 0x7f21e46ae320>"
            ]
          },
          "metadata": {
            "tags": []
          },
          "execution_count": 89
        },
        {
          "output_type": "display_data",
          "data": {
            "image/png": "[encoded data removed]",
            "text/plain": [
              "<Figure size 432x288 with 1 Axes>"
            ]
          },
          "metadata": {
            "tags": [],
            "needs_background": "light"
          }
        }
      ]
    },
    {
      "cell_type": "code",
      "metadata": {
        "id": "DuQ-5miNRsBQ",
        "colab_type": "code",
        "colab": {}
      },
      "source": [
        "def _organic_spread(group):\n",
        "\n",
        "    if len(group.columns) != 2:\n",
        "        return pd.Series(index=group.index, data=0.0)\n",
        "    \n",
        "    is_organic = group.columns.get_level_values('Organic').values.astype(bool)\n",
        "    organics = group.loc[:, is_organic].squeeze()\n",
        "    non_organics = group.loc[:, ~is_organic].squeeze()\n",
        "    diff = organics - non_organics\n",
        "    return diff\n",
        "\n",
        "def organic_spread_by_region(df):\n",
        "    \"\"\"What's the difference between the price of an organic \n",
        "    and non-organic avocado within each region?\n",
        "    \"\"\"\n",
        "    return (\n",
        "        df\n",
        "        .set_index(['Date', 'Region', 'Organic'])\n",
        "         ['Weighted Avg Price']\n",
        "        .unstack(level=['Region', 'Organic'])\n",
        "        .ffill()\n",
        "        .groupby(level='Region', axis=1)\n",
        "        .apply(_organic_spread)\n",
        "    )"
      ],
      "execution_count": 90,
      "outputs": []
    },
    {
      "cell_type": "code",
      "metadata": {
        "id": "M8FdigasRuAD",
        "colab_type": "code",
        "colab": {
          "base_uri": "https://localhost:8080/",
          "height": 307
        },
        "outputId": "6d782481-19d7-48fb-a426-edbeb7fae1ec"
      },
      "source": [
        "import matplotlib.pyplot as plt\n",
        "organic_spread_by_region(greenskin).plot();\n",
        "plt.gca().set_title(\"Daily Regional Organic Spread\");\n",
        "plt.legend(bbox_to_anchor=(1, 1));"
      ],
      "execution_count": 92,
      "outputs": [
        {
          "output_type": "display_data",
          "data": {
            "image/png": "[encoded data removed]",
            "text/plain": [
              "<Figure size 432x288 with 1 Axes>"
            ]
          },
          "metadata": {
            "tags": [],
            "needs_background": "light"
          }
        }
      ]
    },
    {
      "cell_type": "code",
      "metadata": {
        "id": "JPdyfvumRxbp",
        "colab_type": "code",
        "colab": {
          "base_uri": "https://localhost:8080/",
          "height": 359
        },
        "outputId": "6eb19f00-893d-4331-d0e0-ff987574e381"
      },
      "source": [
        "correlation = organic_spread_by_region(greenskin).corr()\n",
        "correlation"
      ],
      "execution_count": 93,
      "outputs": [
        {
          "output_type": "execute_result",
          "data": {
            "text/html": [
              "<div>\n",
              "<style scoped>\n",
              "    .dataframe tbody tr th:only-of-type {\n",
              "        vertical-align: middle;\n",
              "    }\n",
              "\n",
              "    .dataframe tbody tr th {\n",
              "        vertical-align: top;\n",
              "    }\n",
              "\n",
              "    .dataframe thead th {\n",
              "        text-align: right;\n",
              "    }\n",
              "</style>\n",
              "<table border=\"1\" class=\"dataframe\">\n",
              "  <thead>\n",
              "    <tr style=\"text-align: right;\">\n",
              "      <th>Region</th>\n",
              "      <th>ALASKA</th>\n",
              "      <th>HAWAII</th>\n",
              "      <th>MIDWEST</th>\n",
              "      <th>NATIONAL</th>\n",
              "      <th>NORTHEAST</th>\n",
              "      <th>NORTHWEST</th>\n",
              "      <th>SOUTHEAST</th>\n",
              "      <th>SOUTHWEST</th>\n",
              "      <th>SOUTH_CENTRAL</th>\n",
              "    </tr>\n",
              "    <tr>\n",
              "      <th>Region</th>\n",
              "      <th></th>\n",
              "      <th></th>\n",
              "      <th></th>\n",
              "      <th></th>\n",
              "      <th></th>\n",
              "      <th></th>\n",
              "      <th></th>\n",
              "      <th></th>\n",
              "      <th></th>\n",
              "    </tr>\n",
              "  </thead>\n",
              "  <tbody>\n",
              "    <tr>\n",
              "      <th>ALASKA</th>\n",
              "      <td>1.000000</td>\n",
              "      <td>-0.078049</td>\n",
              "      <td>0.144534</td>\n",
              "      <td>-0.125913</td>\n",
              "      <td>-0.025232</td>\n",
              "      <td>0.078243</td>\n",
              "      <td>0.143007</td>\n",
              "      <td>-0.200219</td>\n",
              "      <td>0.098232</td>\n",
              "    </tr>\n",
              "    <tr>\n",
              "      <th>HAWAII</th>\n",
              "      <td>-0.078049</td>\n",
              "      <td>1.000000</td>\n",
              "      <td>-0.206084</td>\n",
              "      <td>-0.077936</td>\n",
              "      <td>0.012045</td>\n",
              "      <td>0.063989</td>\n",
              "      <td>-0.183330</td>\n",
              "      <td>0.139988</td>\n",
              "      <td>-0.300074</td>\n",
              "    </tr>\n",
              "    <tr>\n",
              "      <th>MIDWEST</th>\n",
              "      <td>0.144534</td>\n",
              "      <td>-0.206084</td>\n",
              "      <td>1.000000</td>\n",
              "      <td>0.448229</td>\n",
              "      <td>0.266188</td>\n",
              "      <td>0.041338</td>\n",
              "      <td>0.394591</td>\n",
              "      <td>-0.257541</td>\n",
              "      <td>0.412487</td>\n",
              "    </tr>\n",
              "    <tr>\n",
              "      <th>NATIONAL</th>\n",
              "      <td>-0.125913</td>\n",
              "      <td>-0.077936</td>\n",
              "      <td>0.448229</td>\n",
              "      <td>1.000000</td>\n",
              "      <td>0.535419</td>\n",
              "      <td>0.113598</td>\n",
              "      <td>0.365196</td>\n",
              "      <td>0.194465</td>\n",
              "      <td>0.317013</td>\n",
              "    </tr>\n",
              "    <tr>\n",
              "      <th>NORTHEAST</th>\n",
              "      <td>-0.025232</td>\n",
              "      <td>0.012045</td>\n",
              "      <td>0.266188</td>\n",
              "      <td>0.535419</td>\n",
              "      <td>1.000000</td>\n",
              "      <td>0.128772</td>\n",
              "      <td>0.149644</td>\n",
              "      <td>0.133220</td>\n",
              "      <td>0.012656</td>\n",
              "    </tr>\n",
              "    <tr>\n",
              "      <th>NORTHWEST</th>\n",
              "      <td>0.078243</td>\n",
              "      <td>0.063989</td>\n",
              "      <td>0.041338</td>\n",
              "      <td>0.113598</td>\n",
              "      <td>0.128772</td>\n",
              "      <td>1.000000</td>\n",
              "      <td>0.171024</td>\n",
              "      <td>0.156221</td>\n",
              "      <td>0.035981</td>\n",
              "    </tr>\n",
              "    <tr>\n",
              "      <th>SOUTHEAST</th>\n",
              "      <td>0.143007</td>\n",
              "      <td>-0.183330</td>\n",
              "      <td>0.394591</td>\n",
              "      <td>0.365196</td>\n",
              "      <td>0.149644</td>\n",
              "      <td>0.171024</td>\n",
              "      <td>1.000000</td>\n",
              "      <td>-0.100038</td>\n",
              "      <td>0.414407</td>\n",
              "    </tr>\n",
              "    <tr>\n",
              "      <th>SOUTHWEST</th>\n",
              "      <td>-0.200219</td>\n",
              "      <td>0.139988</td>\n",
              "      <td>-0.257541</td>\n",
              "      <td>0.194465</td>\n",
              "      <td>0.133220</td>\n",
              "      <td>0.156221</td>\n",
              "      <td>-0.100038</td>\n",
              "      <td>1.000000</td>\n",
              "      <td>-0.288033</td>\n",
              "    </tr>\n",
              "    <tr>\n",
              "      <th>SOUTH_CENTRAL</th>\n",
              "      <td>0.098232</td>\n",
              "      <td>-0.300074</td>\n",
              "      <td>0.412487</td>\n",
              "      <td>0.317013</td>\n",
              "      <td>0.012656</td>\n",
              "      <td>0.035981</td>\n",
              "      <td>0.414407</td>\n",
              "      <td>-0.288033</td>\n",
              "      <td>1.000000</td>\n",
              "    </tr>\n",
              "  </tbody>\n",
              "</table>\n",
              "</div>"
            ],
            "text/plain": [
              "Region           ALASKA    HAWAII  ...  SOUTHWEST  SOUTH_CENTRAL\n",
              "Region                             ...                          \n",
              "ALASKA         1.000000 -0.078049  ...  -0.200219       0.098232\n",
              "HAWAII        -0.078049  1.000000  ...   0.139988      -0.300074\n",
              "MIDWEST        0.144534 -0.206084  ...  -0.257541       0.412487\n",
              "NATIONAL      -0.125913 -0.077936  ...   0.194465       0.317013\n",
              "NORTHEAST     -0.025232  0.012045  ...   0.133220       0.012656\n",
              "NORTHWEST      0.078243  0.063989  ...   0.156221       0.035981\n",
              "SOUTHEAST      0.143007 -0.183330  ...  -0.100038       0.414407\n",
              "SOUTHWEST     -0.200219  0.139988  ...   1.000000      -0.288033\n",
              "SOUTH_CENTRAL  0.098232 -0.300074  ...  -0.288033       1.000000\n",
              "\n",
              "[9 rows x 9 columns]"
            ]
          },
          "metadata": {
            "tags": []
          },
          "execution_count": 93
        }
      ]
    },
    {
      "cell_type": "code",
      "metadata": {
        "id": "zW9NxfRXSNVb",
        "colab_type": "code",
        "colab": {
          "base_uri": "https://localhost:8080/",
          "height": 766
        },
        "outputId": "e5798aaa-4aab-4133-e631-77a02e61ebf8"
      },
      "source": [
        "import seaborn as sns\n",
        "gridPanel = sns.clustermap(correlation, annot=True)\n",
        "fig = gridPanel.fig\n",
        "axes = fig.axes\n",
        "ax = axes[2]\n",
        "ax.set_xticklabels(ax.get_xticklabels(), rotation=45);"
      ],
      "execution_count": 94,
      "outputs": [
        {
          "output_type": "stream",
          "text": [
            "/usr/local/lib/python3.6/dist-packages/statsmodels/tools/_testing.py:19: FutureWarning: pandas.util.testing is deprecated. Use the functions in the public API at pandas.testing instead.\n",
            "  import pandas.util.testing as tm\n"
          ],
          "name": "stderr"
        },
        {
          "output_type": "display_data",
          "data": {
            "image/png": "[encoded data removed]",
            "text/plain": [
              "<Figure size 720x720 with 4 Axes>"
            ]
          },
          "metadata": {
            "tags": [],
            "needs_background": "light"
          }
        }
      ]
    }
  ]
}